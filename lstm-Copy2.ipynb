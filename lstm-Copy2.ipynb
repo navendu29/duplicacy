{
 "cells": [
  {
   "cell_type": "code",
   "execution_count": 2,
   "metadata": {},
   "outputs": [],
   "source": [
    "\n",
    "\n",
    "import numpy as np\n",
    "import pandas as pd\n",
    "\n"
   ]
  },
  {
   "cell_type": "code",
   "execution_count": 3,
   "metadata": {},
   "outputs": [],
   "source": [
    "\n",
    "\n",
    "df_train = pd.read_csv('train.csv', encoding='utf-8',nrows=200000)\n",
    "df_train['id'] = df_train['id'].apply(str)\n",
    "\n"
   ]
  },
  {
   "cell_type": "code",
   "execution_count": 4,
   "metadata": {},
   "outputs": [],
   "source": [
    "\n",
    "\n",
    "df_all = df_train\n",
    "df_all['question1'].fillna('', inplace=True)\n",
    "df_all['question2'].fillna('', inplace=True)"
   ]
  },
  {
   "cell_type": "code",
   "execution_count": 5,
   "metadata": {},
   "outputs": [],
   "source": [
    "from sklearn.feature_extraction.text import CountVectorizer\n",
    "import itertools\n"
   ]
  },
  {
   "cell_type": "code",
   "execution_count": 6,
   "metadata": {},
   "outputs": [],
   "source": [
    "counts_vectorizer = CountVectorizer(max_features=10000-1).fit(\n",
    "    itertools.chain(df_all['question1'], df_all['question2']))\n",
    "other_index = len(counts_vectorizer.vocabulary_)\n"
   ]
  },
  {
   "cell_type": "code",
   "execution_count": 7,
   "metadata": {},
   "outputs": [
    {
     "name": "stdout",
     "output_type": "stream",
     "text": [
      "9999\n",
      "{'jee': 4893, 'macbeth': 5428, 'center': 1636, 'hulk': 4364, 'plato': 6766, 'grammar': 3975, 'version': 9554, 'romeo': 7717, 'adaptations': 352, 'scrapping': 7931, 'using': 9464, 'gadgets': 3786, 'unlikely': 9398, 'mother': 5903, 'psychopaths': 7145, 'hospitals': 4325, 'ceo': 1643, 'published': 7154, 'war': 9694, 'shake': 8087, 'planet': 6751, 'meanings': 5626, 'famous': 3417, 'salman': 7823, 'fish': 3570, 'bengali': 1121, 'point': 6799, 'audi': 868, 'entrepreneur': 3168, 'slowly': 8289, 'arduino': 716, 'assessment': 797, 'dye': 2943, 'imagine': 4483, 'shot': 8151, 'catering': 1601, 'lunch': 5414, 'taiwan': 8828, 'quickbooks': 7228, 'xi': 9938, 'roommate': 7721, 'inmate': 4627, 'medical': 5646, 'practical': 6906, 'habit': 4059, 'picking': 6705, 'elderly': 3046, 'mid': 5746, 'percentile': 6609, 'toppers': 9130, 'days': 2450, 'openings': 6324, 'manchester': 5501, 'revolve': 7641, 'engineering': 3141, 'edu': 3009, 'driven': 2887, 'effectively': 3019, 'sap': 7843, 'together': 9099, 'occupation': 6247, 'exclusive': 3289, 'recruitment': 7395, 'aid': 457, 'boxes': 1325, 'bootcamp': 1289, 'experts': 3331, 'amsterdam': 575, 'animation': 610, 'ajax': 477, 'genders': 3832, 'sharma': 8103, 'combine': 1941, 'restored': 7602, 'topic': 9126, 'advisory': 403, 'answered': 626, 'solve': 8356, 'trucks': 9267, 'debt': 2472, 'breaks': 1358, 'hiccups': 4219, 'contrast': 2143, 'consecutive': 2080, 'photographic': 6682, 'iocl': 4780, 'rituals': 7680, 'sectors': 7975, 'notice': 6175, 'veg': 9522, 'thing': 9022, 'settlements': 8068, 'fast': 3436, 'toxic': 9161, 'tested': 8958, 'manipulate': 5509, 'volkswagen': 9641, 'geometry': 3863, 'freelance': 3717, 'attached': 842, 'stored': 8580, '2018': 88, 'shared': 8098, 'coldplay': 1902, 'comfort': 1950, 'crossed': 2320, 'differences': 2683, 'achieving': 315, 'mao': 5523, 'beautiful': 1066, 'buffalo': 1418, 'chair': 1661, 'saturday': 7859, 'regulation': 7453, 'visual': 9620, 'kaif': 4973, 'judges': 4952, 'nit': 6132, 'kept': 5003, 'shoes': 8139, 'aadhar': 234, 'citizens': 1792, 'ammeter': 565, 'nagpur': 6003, 'luther': 5418, 'suggestions': 8688, 'ratings': 7314, 'inauguration': 4534, 'osama': 6395, 'amino': 563, 'gsoc': 4019, 'kennedy': 5000, 'ut': 9470, 'custom': 2381, 'submitting': 8659, 'lighting': 5271, 'answer': 625, 'emigrate': 3090, 'obtained': 6244, 'proton': 7111, 'withdraw': 9858, 'july': 4956, 'administration': 372, 'biased': 1156, 'ball': 972, 'cyprus': 2401, 'provider': 7121, 'disputes': 2766, 'onto': 6318, 'career': 1569, 'australians': 879, 'rental': 7510, 'sake': 7816, 'smoking': 8308, 'banker': 995, 'shower': 8162, 'curious': 2367, 'armed': 730, 'jawaharlal': 4881, 'beating': 1063, 'inverter': 4763, 'biography': 1186, 'protein': 7107, 'valuation': 9492, 'exercise': 3296, 'churchill': 1774, 'builder': 1425, 'dealership': 2463, 'secretary': 7969, 'lanka': 5123, '80': 209, 'jealousy': 4890, 'waist': 9669, 'russia': 7785, 'luggage': 5410, 'between': 1138, 'armstrong': 735, 'affleck': 419, 'signing': 8194, 'latest': 5146, 'solo': 8351, 'mexico': 5728, 'rod': 7698, 'tony': 9117, 'content': 2126, 'technological': 8896, 'abc': 243, 'password': 6540, 'anywhere': 653, 'challenge': 1663, 'tomorrow': 9110, 'cough': 2223, 'titan': 9088, 'steak': 8550, 'blender': 1226, 'avatar': 900, 'meaning': 5624, 'impress': 4520, 'houston': 4344, 'mountains': 5921, 'tweet': 9305, 'said': 7815, 'glow': 3910, 'personality': 6636, 'dispose': 2763, 'predictive': 6926, 'theaters': 8985, 'coal': 1873, 'blu': 1247, 'machine': 5430, 'cycling': 2398, 'genetic': 3844, 'skills': 8254, 'obvious': 6245, 'shell': 8116, 'truth': 9274, 'gf': 3872, 'structured': 8626, 'disaster': 2731, 'visitors': 9618, 'boyfriends': 1329, 'lacs': 5099, 'adidas': 368, 'progress': 7053, 'reserved': 7559, 'weather': 9751, 'angularjs': 606, 'elasticity': 3043, 'watches': 9719, 'general': 3834, 'prize': 7002, 'portland': 6855, 'pewdiepie': 6650, 'completed': 2004, 'topology': 9128, 'illegal': 4469, 'anxiety': 643, 'publish': 7153, 'bearded': 1057, 'settled': 8067, 'liar': 5244, 'behaviour': 1092, 'navigation': 6036, 'decades': 2476, 'grid': 4004, 'premier': 6938, '70': 198, 'commute': 1979, 'is': 4815, 'chat': 1698, '35': 128, 'jobs': 4916, 'immature': 4487, 'england': 3144, 'anonymously': 623, 'pgdm': 6653, 'easiest': 2969, 'experiencing': 3326, 'generator': 3841, 'tail': 8826, 'terminal': 8943, 'honors': 4305, 'imo': 4499, 'scandal': 7882, 'sending': 8023, 'understanding': 9366, 'taxed': 8872, 'watched': 9718, 'grand': 3979, 'damage': 2416, 'losses': 5380, 'consciousness': 2079, 'opportunities': 6339, 'divisible': 2789, 'drops': 2898, 'resident': 7565, 'weigh': 9765, 'exciting': 3287, 'bonding': 1275, 'inch': 4539, 'mexican': 5726, 'brazilian': 1351, 'wechat': 9757, 'bending': 1116, 'reliable': 7481, 'net': 6079, 'eu': 3237, 'fails': 3397, 'tamilnadu': 8847, 'shark': 8101, 'dimensional': 2703, 'train': 9185, 'grill': 4005, 'proved': 7116, 'zip': 9989, 'rotating': 7734, 'pitbull': 6735, 'accents': 281, 'repaired': 7514, 'laden': 5101, 'liners': 5288, 'emotions': 3099, 'basics': 1021, 'roman': 7712, 'lust': 5417, 'young': 9969, 'yellow': 9956, 'itchy': 4845, 'vodafone': 9632, 'president': 6959, 'ripples': 7673, 'notes': 6173, 'components': 2015, 'quoran': 7237, 'holds': 4276, 'progressive': 7054, 'nid': 6115, 'bumps': 1442, 'perpetual': 6631, 'wild': 9824, 'qualify': 7209, 'airline': 468, 'traction': 9173, 'greece': 3998, 'paperback': 6493, 'invent': 4757, 'suit': 8691, '1971': 52, 'pitched': 6737, 'everest': 3253, 'tutoring': 9301, 'elephants': 3066, 'monthly': 5879, 'pune': 7168, 'll': 5329, 'throws': 9056, 'inject': 4623, 'hotmail': 4335, 'trick': 9247, 'scalar': 7876, 'comprehensive': 2024, 'perception': 6610, 'iitjee': 4465, 'diameter': 2659, 'seen': 7992, 'walter': 9687, 'errors': 3207, 'viber': 9567, 'give': 3898, 'po': 6792, 'gui': 4031, 'yorkie': 9967, 'london': 5359, 'paradox': 6496, 'oman': 6301, 'holmes': 4283, 'jacket': 4857, 'preschools': 6949, 'compile': 1997, 'prompt': 7072, 'dynasty': 2948, 'minerals': 5773, 'comparing': 1985, 'ratna': 7318, 'trolls': 9261, 'conducted': 2053, 'mega': 5662, 'fest': 3491, 'pakistanis': 6477, 'co2': 1869, 'ago': 447, 'sai': 7814, 'machines': 5431, 'survive': 8756, 'erectile': 3200, 'britney': 1382, 'homo': 4294, 'mechanism': 5639, 'rectangular': 7397, 'greeks': 4000, 'degrees': 2518, 'national': 6024, 'society': 8331, 'hormones': 4316, 'drill': 2881, 'connect': 2069, 'across': 325, 'ark': 727, 'brands': 1346, 'twin': 9310, 'clone': 1846, 'places': 6745, 'moocs': 5883, 'chromosomes': 1768, 'playstation': 6775, 'unknown': 9396, 'making': 5480, 'http': 4357, 'aids': 458, 'bleach': 1223, 'bet': 1133, 'throughout': 9052, 'trees': 9236, 'bug': 1422, 'forces': 3656, 'applications': 682, 'director': 2717, 'microprocessor': 5742, 'organisms': 6375, 'chinese': 1740, 'hip': 4249, 'bottle': 1311, 'education': 3011, 'exams': 3277, 'somehow': 8363, 'ipo': 4794, 'axis': 922, 'milk': 5758, 'nuke': 6208, 'ce': 1622, 'solely': 8348, 'derive': 2584, 'sri': 8484, 'instance': 4661, 'revise': 7635, 'privacy': 6996, 'coca': 1878, 'donations': 2834, 'io': 4779, 'sensors': 8033, 'torch': 9132, 'returning': 7623, 'nose': 6165, 'freeze': 3721, 'sister': 8234, 'consult': 2105, 'deposit': 2574, 'inbox': 4536, 'deposited': 2575, 'happens': 4107, 'level': 5236, 'scams': 7880, 'tn': 9092, 'transport': 9214, 'stuff': 8640, 'end': 3120, 'joint': 4925, 'girlfriends': 3891, 'mattress': 5600, 'further': 3777, 'forgive': 3668, 'adding': 362, 'verge': 9546, 'cutoff': 2389, 'copies': 2187, 'eclipse': 2985, 'stability': 8493, 'small': 8291, 'th': 8972, 'data': 2437, 'ppc': 6903, 'selection': 7999, 'el': 3040, 'randomly': 7289, 'ethnic': 3231, 'onion': 6312, 'upload': 9423, 'roads': 7686, 'geneva': 3847, 'group': 4010, 'ayurveda': 923, 'meetings': 5659, 'cursed': 2376, 'robin': 7691, 'mayan': 5608, 'pranks': 6915, 'monsoon': 5875, '1960s': 49, 'curb': 2360, 'drawbacks': 2869, 'curves': 2380, 'atms': 836, 'supplements': 8721, 'spirituality': 8454, 'prescribe': 6950, 'this': 9030, 'steven': 8563, 'wallets': 9682, 'isi': 4819, 'boiled': 1263, 'posts': 6882, 'ahead': 454, 'proprietorship': 7094, 'texted': 8967, 'offence': 6265, 'edge': 3000, 'stem': 8557, 'ping': 6727, 'conservative': 2084, 'zinc': 9988, 'atomic': 838, 'bloomberg': 1243, 'type': 9317, 'guilt': 4036, 'hoffman': 4270, 'elevator': 3067, 'convictions': 2168, 'comprehension': 2023, 'rock': 7695, 'briggs': 1373, 'rush': 7783, 'blooded': 1242, 'prestigious': 6964, 'depression': 2579, 'kings': 5044, 'multiverse': 5958, 'fats': 3445, 'usps': 9466, 'crime': 2301, 'firms': 3567, 'interns': 4720, 'troll': 9260, 'positively': 6865, 'credit': 2291, 'faster': 3437, 'lifetime': 5266, 'enemy': 3128, 'logistic': 5352, 'concert': 2043, 'afmc': 423, 'simultaneously': 8217, 'hidden': 4220, 'reservations': 7557, 'mod': 5828, 'spicy': 8445, 'strikes': 8614, 'hereditary': 4207, 'twins': 9311, 'papers': 6494, 'difficulty': 2691, 'wi': 9815, 'tiss': 9086, 'jason': 4877, 'perceive': 6605, 'url': 9448, 'kylo': 5086, 'expand': 3309, 'bombay': 1271, 'cops': 2189, 'gazetted': 3819, 'topcoder': 9125, 'transfer': 9197, 'combustion': 1943, 'likely': 5277, 'trainer': 9188, 'accurate': 305, 'road': 7685, 'gut': 4050, 'nfl': 6104, 'begin': 1085, 'journals': 4940, 'virgin': 9601, 'religions': 7486, 'blog': 1235, 'glue': 3913, 'nintendo': 6127, 'gov': 3950, 'signify': 8193, 'element': 3062, 'ernest': 3202, 'bully': 1440, 'pinterest': 6730, 'wharton': 9785, 'presidents': 6961, 'composite': 2019, 'base': 1015, 'cows': 2257, 'disability': 2722, 'breathing': 1364, 'inspector': 4648, 'mysteries': 5992, 'dispute': 2765, 'bitch': 1203, 'fluctuations': 3614, 'abolished': 252, 'strike': 8613, 'organs': 6381, 'clocks': 1845, 'trainee': 9187, '2013': 83, 'relatives': 7473, 'values': 9495, 'apollo': 666, 'nirma': 6130, 'description': 2591, 'thermostat': 9010, 'treating': 9230, 'resistor': 7574, 'concern': 2040, 'conserved': 2086, 'programing': 7046, 'refugees': 7424, 'size': 8245, 'accounting': 302, 'activate': 332, 'payment': 6564, 'refusing': 7429, 'smooth': 8309, 'bases': 1018, 'root': 7724, 'horizontal': 4315, 'policy': 6816, 'remembered': 7495, 'warning': 9701, 'wives': 9866, 'uniforms': 9381, 'introduced': 4742, 'orthodox': 6393, 'denial': 2554, 'colors': 1929, 'material': 5584, 'hearts': 4175, 'pan': 6483, 'denver': 2565, 'alleged': 513, 'flagged': 3583, 'pork': 6843, '14th': 28, 'booked': 1282, 'larger': 5133, 'sudden': 8677, 'legalized': 5206, 'who': 9809, 'achievement': 313, '1989': 55, 'chops': 1754, 'tags': 8825, 'lyft': 5421, 'hana': 4088, 'rupee': 7780, 'drowning': 2900, 'suggested': 8686, 'tea': 8880, 'division': 2790, 'sweets': 8777, 'quantities': 7215, 'rumor': 7774, 'nowadays': 6190, 'buffer': 1419, 'winners': 9840, 'regret': 7446, 'mbps': 5613, 'thought': 9036, 'qur': 7242, '1k': 61, 'consumed': 2111, 'fog': 3630, 'gordon': 3944, 'trial': 9241, 'deserves': 2596, 'firm': 3566, 'bicarbonate': 1159, 'instinct': 4666, 'draw': 2868, 'gifts': 3885, 'unfair': 9374, 'fingers': 3551, 'speaks': 8419, 'towards': 9156, 'tendulkar': 8932, 'belongs': 1109, 'mathematics': 5592, 'mh': 5730, 'artwork': 761, 'criminal': 2303, 'contained': 2121, 'dell': 2533, 'pain': 6464, 'total': 9141, 'matlab': 5594, 'front': 3747, 'finish': 3552, '1500': 31, 'scientific': 7910, 'singer': 8223, 'keeping': 4997, 'delete': 2524, 'implications': 4511, 'supporters': 8728, 'haiti': 4078, 'spite': 8455, 'menu': 5687, 'suits': 8694, 'networks': 6084, 'rest': 7596, 'tuesday': 9280, 'nazi': 6038, 'herbal': 4204, 'linked': 5293, 'galaxy': 3793, 'emma': 3093, 'kissing': 5048, 'aakash': 236, 'assad': 791, 'controlling': 2152, 'locked': 5345, 'subscribe': 8660, 'detected': 2625, 'broadcast': 1384, 'heavy': 4183, 'about': 255, 'britain': 1380, 'coil': 1892, 'deeply': 2502, 'intensive': 4696, 'sheets': 8114, 'prayer': 6917, 'indicator': 4570, 'however': 4347, 'scheme': 7899, 'marked': 5539, 'sitting': 8240, 'safe': 7808, 'default': 2504, 'iitians': 4464, 'calcium': 1487, 'bolivia': 1267, 'originate': 6389, 'rare': 7304, 'ghana': 3873, 'billing': 1173, 'must': 5978, 'project': 7056, 'upcoming': 9416, 'server': 8054, 'direct': 2712, 'cant': 1538, 'square': 8481, 'tqwl': 9165, 'outsource': 6416, 'seat': 7960, 'agency': 437, 'optimal': 6348, 'contacts': 2118, 'etc': 3225, 'jackson': 4858, 'segment': 7994, 'gamma': 3801, 'birds': 1197, 'appoint': 686, 'lic': 5254, 'teeth': 8907, 'entrance': 3167, 'interfaces': 4711, 'autistic': 888, 'poems': 6797, 'invade': 4752, 'delicious': 2529, 'sensitive': 8030, 'represent': 7534, 'orange': 6357, 'allies': 518, 'plain': 6747, 'homeless': 4288, 'moisturizer': 5846, 'arkansas': 728, 'structure': 8625, 'pitch': 6736, 'dalits': 2413, 'confirmation': 2063, 'reservation': 7556, 'smash': 8299, 'exercises': 3297, 'engg': 3138, 'virtual': 9603, 'rum': 7773, 'edx': 3014, 'enough': 3152, 'descent': 2586, 'reform': 7420, 'institution': 4669, 'dance': 2420, 'infrastructure': 4613, 'respected': 7583, 'llc': 5331, 'pastry': 6545, 'surf': 8737, 'typically': 9320, 'concept': 2038, 'assistant': 804, 'breath': 1362, 'repeat': 7516, 'receive': 7363, 'portable': 6850, 'temperament': 8921, 'hockey': 4269, 'unprotected': 9403, 'inertia': 4590, 'disappeared': 2729, 'round': 7740, 'challenges': 1665, 'accident': 291, 'idiom': 4438, 'choosing': 1752, 'matching': 5582, 'bhp': 1150, 'releasing': 7478, 'weapon': 9746, 'cpm': 2261, 'deepika': 2501, 'jfk': 4907, 'destinations': 2614, 'slavery': 8272, 'yawn': 9950, 'ears': 2962, 'denomination': 2557, 'thick': 9015, 'mathematician': 5590, 'singapore': 8221, 'job': 4914, 'terms': 8944, 'clerk': 1830, 'eligibility': 3068, 'make': 5475, 'phase': 6661, 'travelled': 9223, 'yoda': 9963, 'fellow': 3478, 'deepest': 2500, 'aadmi': 235, '2015': 85, 'sender': 8022, 'standard': 8509, 'fuel': 3758, 'panties': 6490, 'tiny': 9080, 'january': 4873, 'asset': 798, '16': 35, 'anxious': 644, 'eagle': 2951, 'financial': 3540, 'read': 7339, 'bullet': 1435, 'matrix': 5596, 'supreme': 8733, 'podcast': 6794, 'targets': 8859, 'instrumentation': 4674, 'gymnastics': 4055, 'arrogant': 748, 'hiring': 4253, 'tom': 9107, 'sit': 8236, 'badminton': 953, 'nolan': 6150, 'fdi': 3456, 'ancestry': 587, 'surveys': 8754, 'pichai': 6702, 'legs': 5214, 'annually': 619, 'trained': 9186, 'graduate': 3968, 'rainfall': 7272, 'muay': 5944, 'mahatma': 5456, 'tatkal': 8865, 'door': 2838, 'talk': 8839, 'discoveries': 2743, 'wattpad': 9728, 'declaring': 2490, 'ports': 6858, 'tower': 9157, 'spotify': 8468, 'backed': 938, 'surprised': 8749, 'turns': 9296, 'fahrenheit': 3393, 'ongoing': 6311, 'pas': 6528, 'fans': 3420, 'waters': 9725, 'environmental': 3177, 'magento': 5442, 'cult': 2349, 'bounty': 1319, 'constipation': 2099, 'hbo': 4146, 'describes': 2589, 'quantitative': 7214, 'detailed': 2621, 'vaccine': 9480, 'compete': 1991, 'claimed': 1803, 'bringing': 1377, 'cryptography': 2332, 'pulled': 7159, '130': 25, 'guatemala': 4027, 'independent': 4560, 'interviewer': 4730, 'lgbt': 5241, 'faces': 3378, 'managed': 5494, 'nor': 6156, 'abroad': 258, 'cap': 1541, 'texts': 8970, 'gtx': 4023, 'rubber': 7760, 'goals': 3920, 'fencing': 3487, 'partnership': 6525, 'cracked': 2267, 'arthritis': 752, 'scores': 7920, 'poop': 6830, 'syndrome': 8801, 'consultants': 2108, 'tomé': 9111, 'jim': 4910, 'qualities': 7211, 'floor': 3603, 'halal': 4079, 'drdo': 2873, 'totally': 9142, 'covered': 2250, 'ambassador': 552, 'loops': 5370, 'numerical': 6212, 'sat': 7849, 'node': 6145, 'colony': 1925, 'boundaries': 1317, 'beverage': 1139, 'oil': 6285, 'terrorism': 8951, 'maximize': 5604, 'reflect': 7418, 'opposite': 6344, 'heard': 4171, 'contains': 2124, 'kota': 5077, 'polish': 6817, 'needed': 6056, 'procedural': 7009, 'evening': 3248, 'cheap': 1701, 'ps3': 7131, 'no': 6140, 'caring': 1573, 'resistance': 7572, 'disappointed': 2730, 'dumb': 2923, 'interstellar': 4727, 'dirty': 2721, 'warren': 9704, 'jar': 4876, 'nursing': 6214, 'asean': 767, '15': 29, 'explosion': 3341, 'bathroom': 1029, 'authorized': 885, 'handling': 4093, 'duterte': 2937, 'egyptians': 3033, 'lied': 5261, '390': 137, 'causing': 1610, 'perks': 6623, 'comics': 1954, 'vice': 9569, 'ipcc': 4790, 'conservatives': 2085, '25k': 105, 'efforts': 3026, 'useless': 9459, 'consultancy': 2106, 'decline': 2491, 'partner': 6523, 'clicked': 1833, 'yours': 9973, 'she': 8109, 'strength': 8603, 'jay': 4882, 'himself': 4243, 'gases': 3811, 'ho': 4264, 'portuguese': 6860, 'schema': 7898, 'postgraduate': 6880, 'always': 545, 'covering': 2251, 'acquisition': 324, 'affordable': 421, 'indigenous': 4574, 'lift': 5267, 'upwork': 9438, 'pen': 6586, 'received': 7364, 'threat': 9041, 'recommendation': 7379, 'shaving': 8108, 'staff': 8496, 'corn': 2196, 'baldness': 968, 'depth': 2581, 'masculine': 5564, 'orgasm': 6382, 'loneliness': 5360, 'canal': 1524, 'macbook': 5429, 'ammonia': 566, 'drag': 2860, 'cubic': 2347, 'ios': 4786, 'retailer': 7611, 'swiss': 8782, 'pilot': 6722, 'bb': 1039, 'fun': 3761, 'gujarati': 4041, 'anti': 635, 'relative': 7471, 'marriages': 5549, 'cellulite': 1633, 'kinds': 5039, 'island': 4823, 'ap': 656, 'princess': 6982, 'rabies': 7246, 'financing': 3542, '95': 225, 'window': 9834, 'impressive': 4523, 'mangalore': 5505, 'columns': 1936, 'ebay': 2978, 'trailer': 9184, 'pics': 6708, 'bale': 969, 'consultant': 2107, 'mobiles': 5825, 'notifications': 6178, 'bid': 1161, 'median': 5645, 'sulfuric': 8697, 'goswami': 3946, 'advisors': 402, 'logic': 5349, 'event': 3249, 'empty': 3112, 'investor': 4770, 'causes': 1609, 'library': 5252, 'boy': 1327, 'instagram': 4656, 'ourselves': 6405, 'down': 2848, 'dropbox': 2895, 'ia': 4409, 'sp': 8402, 'toll': 9106, 'studies': 8635, 'enforced': 3132, 'beggars': 1083, 'attorney': 859, 'assuming': 810, 'helps': 4198, 'russell': 7784, 'created': 2281, '1960': 48, 'bangladesh': 992, 'capacitors': 1546, 'entertaining': 3161, 'thinks': 9027, 'themed': 8993, 'switching': 8786, 'sweet': 8775, 'sheep': 8112, 'planes': 6750, 'redemption': 7404, 'neutral': 6088, 'aap': 239, 'radar': 7255, 'notification': 6177, 'meat': 5634, 'abuse': 268, 'eat': 2974, 'provided': 7120, 'sci': 7907, 'americans': 561, 'johnson': 4921, 'categories': 1599, 'crush': 2327, 'coaster': 1876, 'filing': 3522, 'directory': 2719, 'bags': 955, 'crashed': 2273, 'furniture': 3776, 'golf': 3933, 'harvey': 4127, 'native': 6028, 'religion': 7485, 'therapists': 9004, 'minority': 5785, 'tyres': 9323, 'bubbles': 1411, 'chihuahuan': 1733, 'candidates': 1530, 'finance': 3539, 'dinosaurs': 2707, 'according': 297, 'attractive': 864, 'spiritual': 8453, 'regarding': 7433, 'ugly': 9341, 'set': 8062, 'vikings': 9587, 'police': 6814, 'ssl': 8490, 'framework': 3707, 'miami': 5732, 'revolutionary': 7640, 'remotely': 7499, 'equality': 3185, 'dimension': 2702, 'prepared': 6946, 'justin': 4970, 'crab': 2265, 'skipping': 8259, 'commercials': 1963, '65': 192, 'desired': 2606, 'rising': 7676, 'bomb': 1270, 'eligible': 3069, 'towers': 9158, 'ignou': 4453, 'prisons': 6995, 'fonts': 3642, 'dtu': 2912, 'collapsed': 1904, 'convention': 2155, 'electric': 3054, 'humans': 4368, 'hammer': 4085, 'reaction': 7334, 'ace': 308, 'armies': 732, 'judaism': 4949, 'faux': 3448, 'laid': 5105, 'speeding': 8434, 'drawing': 2870, 'reheat': 7456, 'certificate': 1650, 'fms': 3625, 'inactive': 4532, 'fetish': 3495, 'puzzles': 7194, 'bin': 1179, 'cuts': 2390, 'newly': 6097, 'compatibility': 1988, 'tip': 9081, 'kmc': 5057, 'childhood': 1735, 'germans': 3867, 'cakes': 1485, 'bulk': 1432, 'xbox': 9936, 'elephant': 3065, 'fetch': 3494, 'unwanted': 9414, 'exactly': 3271, 'detergent': 2629, 'testosterone': 8961, 'repeatedly': 7518, 'messiah': 5705, 'np': 6192, 'genetically': 3845, 'stars': 8520, 'cricket': 2298, 'currents': 2373, 'cloud': 1856, 'brooklyn': 1392, 'wipe': 9845, 'during': 2933, 'mice': 5734, 'animal': 607, 'bold': 1266, 'stamina': 8504, 'dubbed': 2917, 'scroll': 7943, 'carried': 1577, 'owns': 6440, 'contributing': 2146, 'markets': 5545, 'verse': 9553, 'legend': 5208, 'piercing': 6715, 'atmospheric': 835, 'butterfly': 1461, 'planning': 6755, 'purposes': 7185, 'played': 6769, 'strep': 8606, 'prior': 6991, 'aspire': 787, 'marshmallow': 5555, 'uncertainty': 9355, 'ned': 6054, 'mech': 5636, 'humping': 4372, 'message': 5699, 'ashamed': 770, 'blogging': 1238, 'pulsar': 7162, 'cds': 1621, '000': 1, 'jewellery': 4904, 'flora': 3606, 'amounts': 571, 'pixar': 6738, 'bonus': 1279, 'akhilesh': 482, 'friday': 3736, 'scheduling': 7897, 'dentist': 2562, 'terrible': 8946, 'cgpa': 1658, 'scopes': 7917, 'compare': 1983, 'helium': 4190, 'nails': 6005, 'soda': 8337, 'hyper': 4396, 'stomach': 8571, 'scale': 7877, 'strategic': 8593, 'sales': 7821, 'instruction': 4671, 'tan': 8849, 'microscope': 5743, 'allah': 511, 'beginner': 1086, 'grey': 4003, 'hdfc': 4150, 'survey': 8753, 'fought': 3690, 'bhu': 1151, 'realise': 7346, 'surgeon': 8742, 'iron': 4809, 'takes': 8832, 'intend': 4691, 'khan': 5014, 'breakfast': 1356, 'gurgaon': 4048, 'just': 4966, 'snowden': 8322, 'apis': 662, 'sx': 8790, 'sandy': 7839, 'that': 8981, 'balaji': 963, 'unsafe': 9407, 'entanglement': 3155, 'tables': 8816, 'carolina': 1574, 'equipment': 3192, 'examination': 3273, 'poorest': 6832, 'swift': 8778, 'humidity': 4369, 'profits': 7043, 'finals': 3538, 'was': 9708, 'activa': 331, 'paste': 6544, 'mall': 5487, 'odds': 6259, 'nsa': 6198, 'hogwarts': 4271, 'invalidating': 4755, 'suffer': 8681, '1000': 6, 'maiden': 5458, 'avoid': 907, 'absolutely': 264, 'buried': 1443, 'skirt': 8260, 'least': 5191, 'songs': 8375, 'carrying': 1581, 'stanford': 8513, 'isb': 4817, 'mulayam': 5950, 'bubble': 1410, 'seller': 8008, 'eyesight': 3372, 'side': 8179, 'additional': 364, 'innovative': 4632, 'rolling': 7709, 'obey': 6230, 'berkeley': 1126, 'continent': 2131, 'plays': 6774, 'hrithik': 4350, 'module': 5843, 'cd': 1618, 'stages': 8498, 'forum': 3684, 'icon': 4422, 'reports': 7533, 'labour': 5093, 'promotion': 7071, 'retailers': 7612, 'protector': 7106, 'summer': 8701, 'stolen': 8570, 'central': 1638, 'srcc': 8483, 'illnesses': 4473, 'the': 8983, 'flirt': 3599, 'wake': 9672, 'diamond': 2660, 'disk': 2753, 'fictional': 3506, 'watt': 9727, 'gender': 3831, 'visualization': 9621, 'horror': 4320, 'horse': 4321, 'honest': 4299, 'quote': 7240, 'samples': 7831, 'industry': 4588, 'max': 5603, 'soup': 8393, 'resigned': 7570, 'cauvery': 1611, 'sugar': 8684, 'night': 6119, 'rent': 7509, 'modelling': 5832, 'asp': 780, 'frustration': 3754, 'mitochondria': 5810, 'separation': 8042, 'democratic': 2542, 'tactics': 8822, 'trans': 9194, 'messenger': 5703, '72': 201, 'competitions': 1993, 'alive': 508, 'andrew': 594, 'roots': 7727, 'thirsty': 9029, 'kingdom': 5042, 'pointers': 6801, 'trek': 9237, 'threesome': 9046, 'internet': 4719, 'videos': 9576, 'xl': 9942, 'toothpaste': 9123, 'hubble': 4360, 'coastal': 1875, 'paying': 6563, 'yahoo': 9947, 'bsnl': 1408, 'heads': 4160, 'mosquito': 5899, 'nerd': 6074, 'cersei': 1648, 'excess': 3283, 'demonic': 2552, 'density': 2560, 'asylum': 823, 'historically': 4257, 'ifb': 4446, 'aliexpress': 506, 'ivy': 4853, 'happening': 4106, 'drug': 2901, 'painless': 6466, 'memories': 5676, 'marital': 5537, 'rounds': 7741, 'passport': 6538, 'assurance': 812, 'obligations': 6235, 'modem': 5834, 'adapt': 351, 'kind': 5035, 'belly': 1107, 'festivals': 3493, 'cookies': 2175, 'executive': 3295, '1990': 56, 'colours': 1932, 'buddhism': 1414, 'arabia': 705, 'flipkart': 3598, 'coach': 1870, 'flash': 3586, 'important': 4515, 'superhero': 8713, 'referred': 7416, 'arrival': 746, 'intuit': 4749, 'presentation': 6955, 'sex': 8074, 'remedies': 7492, 'ethical': 3229, 'principle': 6985, 'ansys': 629, 'rail': 7266, 'filed': 3520, 'hairs': 4075, 'sellers': 8009, 'bands': 985, 'restart': 7597, 'ppf': 6904, 'hobbies': 4266, 'tension': 8937, 'highlights': 4229, 'deadly': 2458, 'below': 1110, '9th': 230, 'wins': 9842, 'but': 1457, 'turnover': 9295, 'reputation': 7544, 'dinner': 2706, 'animated': 609, 'lost': 5381, 'imply': 4512, 'damaged': 2417, 'governor': 3954, 'treated': 9229, 'lipton': 5303, 'holes': 4278, 'jurisdiction': 4964, 'homogeneous': 4295, 'rings': 7668, 'tectonic': 8900, 'prep': 6941, 'pennsylvania': 6596, 'potential': 6888, 'aspirin': 788, 'rectifier': 7398, 'lee': 5200, 'spider': 8446, 'electronics': 3060, 'authority': 884, 'perfume': 6618, 'zero': 9986, 'operators': 6334, 'collecting': 1909, 'intending': 4693, 'upward': 9436, 'teaching': 8884, 'subjects': 8653, 'lateral': 5145, 'speeches': 8432, 'marks': 5547, 'painters': 6469, 'farming': 3431, 'example': 3275, 'rather': 7312, 'pot': 6884, 'appeared': 673, 'deliberately': 2528, 'flex': 3592, 'issued': 4836, 'gotham': 3948, 'straight': 8585, 'plugins': 6784, 'calculated': 1489, 'socialism': 8327, 'blues': 1249, 'indicates': 4568, 'reversed': 7631, 'settle': 8066, 'soon': 8379, 'runner': 7777, 'asians': 773, 'healthiest': 4167, 'creed': 2293, 'rajan': 7278, 'certification': 1652, 'docs': 2805, 'lakh': 5108, 'elaborate': 3041, 'twenties': 9307, 'influenced': 4605, 'variables': 9507, 'hillary': 4239, 'cupcake': 2356, 'wisconsin': 9851, 'royale': 7752, 'multiplication': 5956, 'float': 3601, 'procurement': 7021, 'contest': 2128, 'treatments': 9232, 'refuse': 7426, 'gixxer': 3902, 'messages': 5700, 'battles': 1037, 'ajay': 478, 'domains': 2823, 'many': 5522, 'isc': 4818, 'tell': 8917, 'regrow': 7449, 'practice': 6908, 'legit': 5212, 'featured': 3461, 'putin': 7191, 'lap': 5127, 'dilation': 2700, 'assist': 802, 'tropical': 9263, 'lg': 5240, 'er': 3196, 'core': 2194, '89': 215, 'trash': 9218, 'healthcare': 4165, 'tennis': 8934, 'unemployed': 9370, 'ejaculation': 3038, 'jealous': 4889, 'per': 6604, 'landforms': 5116, 'providers': 7122, 'prohibited': 7055, 'seemingly': 7990, 'intellectually': 4688, 'document': 2808, 'calendar': 1495, 'bhopal': 1149, 'hill': 4238, 'decimal': 2483, 'hut': 4387, 'tanks': 8852, 'waste': 9713, 'options': 6353, 'propel': 7080, 'value': 9493, 'iiit': 4457, 'finn': 3557, 'soft': 8339, 'oracle': 6355, 'subconscious': 8650, 'denmark': 2556, 'examinations': 3274, 'reach': 7330, 'pe': 6575, 'dropped': 2896, 'involved': 4777, 'worried': 9901, 'extinct': 3356, 'contemporary': 2125, 'ota': 6397, 'book': 1281, 'excercise': 3282, 'something': 8366, 'talks': 8842, 're': 7329, '42': 149, 'strange': 8589, 'bulldog': 1434, 'awake': 910, 'alarm': 486, 'mac': 5427, 'automobile': 896, 'opera': 6326, 'acm': 319, 'dryer': 2908, 'hurting': 4382, 'maths': 5593, 'soil': 8342, 'parent': 6504, '650': 193, 'drawn': 2872, 'ui': 9342, 'off': 6264, 'solving': 8360, 'claiming': 1804, 'changing': 1676, 'null': 6209, 'fiitjee': 3518, 'yo': 9962, 'prom': 7062, 'ocd': 6253, 'fat': 3440, 'salt': 7825, 'clark': 1809, 'sa': 7795, 'slim': 8281, 'daughters': 2446, 'chronic': 1769, 'muslims': 5977, 'great': 3995, 'pharmaceuticals': 6659, 'cad': 1480, 'hairfall': 4074, 'opposing': 6343, 'baked': 961, 'somme': 8371, 'cts': 2343, 'momentum': 5857, 'so': 8323, 'cp': 2258, 'analyse': 579, 'magnesium': 5445, 'intended': 4692, 'animals': 608, 'pigs': 6718, 'writer': 9919, 'aims': 461, 'deals': 2465, 'hour': 4338, 'exact': 3270, 'aamir': 238, 'nse': 6199, 'listing': 5313, 'recognize': 7376, 'instantly': 4664, 'business': 1453, 'mixing': 5817, 'converted': 2161, 'operation': 6330, 'wishes': 9855, 'cantonese': 1539, 'yawning': 9951, 'couple': 2236, 'market': 5541, 'messaging': 5701, 'imei': 4485, 'dish': 2751, 'pok': 6806, 'needs': 6058, 'visit': 9614, 'jailbreak': 4860, 'printing': 6990, 'leagues': 5180, 'majoring': 5472, 'painted': 6468, 'raj': 7277, 'fluently': 3617, 'touch': 9143, 'topper': 9129, 'boeing': 1261, 'theorem': 8997, 'contacted': 2117, 'hannibal': 4103, 'mp': 5932, 'dental': 2561, 'intersections': 4726, 'legal': 5205, 'sells': 8011, 'exit': 3307, 'unfollow': 9375, 'manila': 5507, 'rooted': 7725, 'follow': 3635, 'copyrighted': 2192, 'besides': 1131, 'gain': 3787, 'cuba': 2344, 'react': 7333, 'suicidal': 8689, 'dominate': 2827, 'backstory': 944, 'safari': 7807, 'transmission': 9212, 'skinned': 8256, 'row': 7748, 'locate': 5340, 'philippine': 6668, 'md': 5619, 'disney': 2755, 'votes': 9657, 'immigrant': 4490, 'delivered': 2531, 'powered': 6899, 'tight': 9069, 'switch': 8783, 'requested': 7547, 'creamy': 2279, 'larry': 5135, 'ask': 775, 'fed': 3464, 'anymore': 648, 'full': 3759, 'masses': 5571, 'betrayed': 1135, 'liter': 5315, 'murder': 5963, 'employer': 3108, 'bots': 1310, 'supports': 8730, 'caucasians': 1605, 'awareness': 916, 'sweat': 8771, 'turbine': 9285, 'middle': 5747, 'following': 3639, 'bee': 1076, 'vapor': 9504, 'by': 1470, 'balanced': 965, 'entertainment': 3162, 'calm': 1503, 'worry': 9902, 'zoho': 9991, 'hearing': 4172, 'nomination': 6151, '500': 165, 'morals': 5890, 'multiply': 5957, 'fits': 3576, 'lightning': 5272, 'hi': 4217, 'duality': 2915, 'factual': 3389, 'fallen': 3408, 'loser': 5376, 'brother': 1394, 'legitimate': 5213, 'opt': 6345, 'abruptly': 259, 'hike': 4235, 'latitude': 5149, 'regain': 7430, 'socially': 8329, 'consideration': 2088, 'bermuda': 1128, 'producing': 7026, 'contribute': 2144, 'loved': 5391, 'included': 4545, 'porn': 6844, 'relating': 7466, 'bass': 1025, 'fake': 3405, 'strongly': 8623, 'graduating': 3971, 'com': 1937, 'corporations': 2202, 'belief': 1098, 'diplomatic': 2711, 'talked': 8840, 'informal': 4609, 'matthew': 5599, 'start': 8521, '22': 96, 'citizen': 1791, 'sexually': 8079, 'electricity': 3056, 'physics': 6697, 'captured': 1559, 'rolls': 7710, 'plugin': 6783, 'accomplish': 294, 'eminem': 3091, 'articleship': 756, 'winding': 9833, 'foot': 3647, 'fluent': 3616, 'design': 2597, 'symbol': 8794, 'shastri': 8105, 'removing': 7503, 'pseudoscience': 7133, 'js': 4946, 'charter': 1695, 'sell': 8007, 'seriously': 8051, 'reporting': 7532, 'robots': 7694, 'halls': 4083, 'kickass': 5017, 'web': 9752, 'overs': 6429, 'elder': 3045, 'offices': 6276, 'tab': 8813, 'ash': 769, 'dairy': 2411, '1962': 50, 'vector': 9518, 'signs': 8195, 'chandra': 1671, 'deliver': 2530, 'distributed': 2778, 'itinerary': 4848, 'currencies': 2369, 'get': 3869, 'forms': 3679, 'shopping': 8144, 'fir': 3558, 'indonesia': 4580, 'penalty': 6588, 'wireless': 9849, 'iq': 4798, 'pneumonia': 6791, 'logo': 5354, 'moving': 5931, 'seattle': 7962, 'guests': 4030, 'jaipur': 4864, 'philosopher': 6670, 'still': 8566, 'economist': 2994, 'speakers': 8417, 'classify': 1817, 'architects': 713, 'boot': 1288, 'hospital': 4323, '2d': 111, 'genocide': 3852, 'download': 2850, 'when': 9794, 'bar': 1003, 'cigarettes': 1778, 'jong': 4932, '5th': 180, 'results': 7608, 'civilians': 1798, 'jennifer': 4896, 'evolution': 3264, 'beauty': 1067, 'packet': 6457, 'iqs': 4799, 'especially': 3214, 'ebooks': 2980, 'unsc': 9408, 'mortality': 5897, 'billionaires': 1176, 'ka': 4972, 'loop': 5369, 'habits': 4060, 'college': 1915, 'giants': 3880, 'performing': 6616, 'cancer': 1528, 'straighten': 8586, 'handsome': 4096, 'cube': 2346, 'vertically': 9558, 'ren': 7504, 'academy': 275, 'gupta': 4047, 'applying': 685, 'surfaces': 8739, 'pores': 6842, 'laundry': 5155, 'feminism': 3484, 'unread': 9404, 'tile': 9070, 'professor': 7036, 'drake': 2864, 'filter': 3533, 'cramps': 2271, 'sas': 7848, 'anyway': 652, 'alexa': 496, 'jon': 4930, 'potter': 6891, 'stage': 8497, 'ranges': 7292, 'pleasurable': 6777, 'std': 8549, 'favour': 3451, 'witness': 9862, 'keys': 5009, 'cases': 1585, 'ryan': 7789, 'freshmen': 3734, 'disorders': 2757, 'feynman': 3499, 'ghosts': 3876, 'confirm': 2062, 'left': 5202, 'sessions': 8061, 'upvotes': 9435, 'other': 6399, 'fundamental': 3768, 'participating': 6516, 'backwards': 947, 'session': 8060, '15th': 34, 'correlation': 2207, 'millennials': 5761, 'stubborn': 8630, 'toshiba': 9139, '400': 145, 'youtubers': 9978, 'las': 5136, 'winner': 9839, 'earned': 2956, 'memory': 5678, 'lovers': 5393, 'levels': 5237, 'philadelphia': 6667, 'uan': 9327, 'turned': 9293, 'bisexual': 1201, 'helping': 4197, 'hindi': 4244, 'certificates': 1651, 'pumps': 7166, 'remember': 7494, 'se': 7948, 'sometimes': 8368, 'peel': 6583, 'foam': 3626, 'mit': 5809, 'browsing': 1400, 'cells': 1631, 'claus': 1820, 'spiders': 8447, 'programmers': 7049, 'tribunal': 9245, 'camp': 1514, 'wine': 9836, 'parts': 6526, 'coordinates': 2183, 'fifty': 3510, 'drupal': 2906, 'hydraulic': 4391, 'upgrade': 9420, 'annum': 620, 'cook': 2171, 'skywalker': 8266, 'oxygen': 6444, '18th': 44, 'islands': 4824, 'solutions': 8355, 'mary': 5562, 'ie': 4442, 'ukraine': 9344, 'bulgaria': 1431, 'experiences': 3325, 'iit': 4461, 'micromax': 5740, 'combination': 1939, 'satisfaction': 7854, 'fruit': 3750, 'expose': 3344, 'own': 6434, 'kiss': 5045, 'escort': 3211, 'oven': 6419, 'adopted': 382, 'blister': 1229, 'vendors': 9536, 'atheism': 826, 'half': 4080, 'golden': 3931, 'destroying': 2618, 'sociopaths': 8334, 'brush': 1402, 'appropriate': 693, 'six': 8243, 'agreed': 450, 'throwing': 9054, 'refuses': 7428, 'achieved': 312, 'fi': 3500, 'my': 5984, 'ultra': 9348, 'bless': 1227, 'younger': 9970, 'canada': 1521, 'chicken': 1729, 'snooker': 8320, 'touching': 9146, 'disappear': 2728, 'town': 9159, 'cost': 2215, 'li': 5242, 'economics': 2992, 'co': 1868, 'pcm': 6572, 'abusive': 270, 'reproduce': 7539, 'admission': 375, 'ink': 4626, 'folk': 3633, 'composed': 2017, 'written': 9923, 'canadian': 1522, 'robot': 7692, 'digit': 2696, 'pcb': 6571, 'flavor': 3589, 'pricing': 6977, 'throat': 9048, 'gk': 3903, 'racial': 7251, 'cab': 1473, 'fauna': 3447, 'bodybuilding': 1260, 've': 9517, 'era': 3197, 'github': 3897, 'timing': 9077, 'thus': 9057, 'upside': 9431, 'enforcement': 3133, 'popular': 6837, 'projected': 7057, 'wolf': 9870, 'conveyancing': 2166, 'claim': 1802, 'databases': 2439, 'afterlife': 429, 'entrepreneurs': 3170, 'respond': 7588, 'starter': 8523, 'felt': 3480, 'technology': 8899, 'downvotes': 2856, 'accountants': 301, 'subjective': 8652, 'oscar': 6396, 'follows': 3640, 'vegetarian': 9528, 'payments': 6565, 'affect': 412, 'fabric': 3374, '43': 150, 'schengen': 7901, 'obama': 6225, 'penises': 6595, 'reactor': 7337, 'knew': 5060, 'tracked': 9169, 'actual': 344, 'believe': 1100, 'bell': 1106, 'platforms': 6765, 'apologize': 667, 'letting': 5235, 'jio': 4912, 'meters': 5716, 'lamp': 5113, 'sonoran': 8376, 'take': 8830, 'moderators': 5837, 'grants': 3984, 'ring': 7667, 'gmail': 3915, 'chase': 1697, 'blonde': 1240, 'circumference': 1787, 'australia': 877, '7th': 208, 'daddy': 2408, 'interviewers': 4731, 'position': 6862, 'candles': 1532, 'kinetic': 5040, 'dysfunction': 2949, 'eliminated': 3071, 'comment': 1959, 'efficient': 3023, 'cm': 1864, 'beatles': 1064, 'organic': 6371, 'classified': 1816, 'elizabeth': 3074, 'pornstars': 6847, 'africa': 425, 'jam': 4867, 'documents': 2812, 'eight': 3034, 'thin': 9021, 'whisky': 9805, 'few': 3497, 'chloroplasts': 1744, 'display': 2760, 'googling': 3941, 'foster': 3689, 'groups': 4011, 'truck': 9266, 'la': 5088, 'mucus': 5946, 'spread': 8472, 'complexion': 2009, 'cat': 1597, 'reached': 7331, 'airprint': 474, 'dynamics': 2947, 'redeem': 7403, 'her': 4203, 'ran': 7285, 'wish': 9854, 'privately': 6998, 'textile': 8968, 'recruiter': 7392, 'officer': 6274, 'everytime': 3260, 'tenure': 8939, 'large': 5132, 'rust': 7788, 'bi': 1154, 'clock': 1844, 'possession': 6867, 'typing': 9321, '4620': 153, 'rottweiler': 7737, 'discount': 2740, 'focusing': 3629, 'dublin': 2918, 'sunlight': 8707, 'whenever': 9795, 'shotguns': 8152, 'intake': 4679, 'pak': 6474, 'st': 8492, 'functional': 3763, 'thc': 8982, 'ur': 9439, 'closing': 1853, 'bread': 1352, 'marrying': 5552, 'fl': 3581, 'cancellation': 1526, 'amount': 570, 'santa': 7842, 'skydiving': 8263, 'christmas': 1763, 'buddhist': 1415, 'winston': 9843, 'again': 432, 'feminine': 3483, 'orlando': 6392, 'untold': 9412, 'lottery': 5385, 'lesson': 5228, 'volunteer': 9649, 'history': 4258, 'entirely': 3165, 'us': 9450, 'razor': 7325, 'kik': 5023, 'waiting': 9671, 'alto': 541, 'coaches': 1871, 'prospective': 7097, 'diy': 2794, 'chris': 1758, 'lewis': 5238, 'workers': 9887, 'sponsor': 8461, 'explained': 3335, 'highways': 4233, 'composer': 2018, 'diamonds': 2661, 'attraction': 862, 'resting': 7600, 'organizing': 6380, 'regularly': 7451, 'charges': 1687, 'emotionally': 3098, 'computational': 2028, 'endangered': 3121, 'nri': 6196, 'ww1': 9927, 'quora': 7236, 'ruled': 7769, 'compulsory': 2027, 'coursera': 2242, '1z0': 66, 'i20': 4405, 'conflict': 2065, 'g4': 3783, 'foolish': 3646, 'resolve': 7577, 'gay': 3818, 'affair': 410, 'disease': 2749, 'vpn': 9661, 'maximum': 5605, 'equation': 3188, 'popcorn': 6835, 'violence': 9596, 'darwin': 2434, 'whey': 9799, 'satan': 7850, '3g': 140, 'intolerance': 4738, 'observer': 6239, 'misses': 5797, 'actuarial': 346, 'fertility': 3490, 'phenol': 6664, 'fights': 3515, 'mastercard': 5574, 'fancy': 3419, 'benefits': 1119, 'ratio': 7315, 'dicaprio': 2664, 'integral': 4682, 'kite': 5052, 'eos': 3180, 'went': 9776, 'overnight': 6426, 'prevent': 6968, 'ancient': 590, 'cruel': 2325, 'metaphor': 5713, 'personally': 6637, 'practices': 6909, 'name': 6007, 'funded': 3769, 'patna': 6556, 'temples': 8927, 'finger': 3548, 'passive': 6537, 'weekend': 9761, 'husband': 4384, 'rapper': 7302, 'mail': 5459, 'corrupt': 2209, 'legends': 5210, 'iraq': 4804, 'asian': 772, 'ouija': 6403, 'kitchener': 5051, 'invisible': 4772, 'tall': 8843, 'elastic': 3042, 'grad': 3963, 'colorado': 1927, 'frequent': 3728, 'times': 9076, 'responsibilities': 7592, 'guilty': 4037, '21': 94, 'among': 568, 'ate': 825, 'integration': 4685, 'nap': 6013, 'tastiest': 8863, 'difference': 2682, 'launch': 5152, 'romania': 7714, 'a2a': 231, 'tomato': 9108, 'recommended': 7381, 'musk': 5975, 'measured': 5630, 'test': 8956, 'team': 8886, 'bang': 989, 'gained': 3788, 'mature': 5601, 'pest': 6643, 'rick': 7654, 'user': 9460, 'ticks': 9063, 'iisc': 4460, 'balancing': 966, 'arab': 704, 'silk': 8201, 'series': 8049, 'snape': 8317, 'paypal': 6566, 'portals': 6852, 'showcase': 8160, 'website': 9755, 'restriction': 7605, 'anyone': 649, 'experiment': 3327, 'reverse': 7630, 'patent': 6549, 'listen': 5310, 'collision': 1919, 'realized': 7351, 'fingerprints': 3550, 'chances': 1669, 'graphic': 3988, 'snapdragon': 8316, 'or': 6354, 'intense': 4694, 'inr': 4636, 'ticket': 9061, 'illegally': 4470, 'kochi': 5070, 'statistics': 8541, 'churches': 1773, 'component': 2014, 'butts': 1464, 'navi': 6035, 'coast': 1874, 'rice': 7649, 'b2b': 930, 'ladies': 5102, 'nda': 6045, 'long': 5362, 'roger': 7699, 'mis': 5791, 'expect': 3315, 'albert': 488, 'wanted': 9691, 'collar': 1905, 'millionaire': 5763, 'armenia': 731, 'logical': 5350, 'qualified': 7208, 'divorced': 2792, 'trouble': 9264, 'edward': 3013, 'bhogle': 1148, 'diode': 2708, '220v': 98, '4th': 162, 'excuses': 3292, 'mma': 5821, 'cannabis': 1534, 'toefl': 9098, 'nus': 6215, 'seems': 7991, 'meteor': 5714, 'okcupid': 6290, 'founding': 3696, 'feels': 3474, 'desperate': 2610, 'bodies': 1258, 'makers': 5477, 'inequality': 4589, 'frame': 3705, 'footage': 3648, 'recreational': 7389, 'patterns': 6559, 'inner': 4628, 'worked': 9885, 'secured': 7979, 'oldest': 6295, 'wage': 9668, 'monetize': 5862, 'thomas': 9031, 'mysore': 5990, 'predict': 6922, 'whites': 9808, 'span': 8411, 'families': 3415, 'germany': 3868, 'tokyo': 9102, 'achieve': 311, 'category': 1600, 'grass': 3990, 'arbitration': 709, 'worms': 9899, 'occurs': 6252, 'blockchain': 1231, 'woah': 9868, 'circle': 1780, 'image': 4479, 'vishnu': 9610, 'introduction': 4744, 'spirits': 8452, 'dare': 2429, 'ranger': 7291, 'mecca': 5635, 'guidelines': 4034, 'camera': 1512, 'decent': 2479, 'doctor': 2806, 'biology': 1189, 'moles': 5853, 'sample': 7830, 'afcat': 409, 'giant': 3879, 'sulfate': 8695, 'sachs': 7800, 'awakens': 911, 'romantic': 7715, 'bottles': 1312, 'responding': 7589, 'covalent': 2247, 'layout': 5165, 'persons': 6639, 'telegram': 8911, 'draft': 2859, 'ministers': 5781, 'trading': 9178, 'tcs': 8878, 'scratch': 7932, 'benghazi': 1123, 'naruto': 6020, '2009': 79, 'sweating': 8772, 'spouse': 8470, 'charming': 1693, 'hardest': 4118, 'cake': 1484, 'ntse': 6202, 'coming': 1955, 'upi': 9422, 'corner': 2198, 'generation': 3839, 'discrimination': 2746, 'stein': 8556, 'extrovert': 3365, 'infected': 4595, 'queens': 7221, 'cosmic': 2214, 'fee': 3467, 'offensive': 6267, 'lacking': 5098, 'aside': 774, 'demonetize': 2549, 'problems': 7008, 'heal': 4162, 'martial': 5556, 'spine': 8449, 'cream': 2278, 'innovation': 4630, 'assange': 792, 'basically': 1020, 'cctv': 1617, 'sperm': 8442, 'neutrons': 6091, 'vit': 9623, 'funny': 3774, 'cameras': 1513, 'don': 2830, 'birthday': 1199, 'aroused': 739, 'therapist': 9003, 'automatically': 894, 'photograph': 6679, 'defense': 2509, 'mission': 5801, 'compass': 1987, 'documentation': 2811, 'simulate': 8214, 'begging': 1084, 'tapped': 8855, 'came': 1510, 'creator': 2287, 'chandrakar': 1672, 'limits': 5283, 'kejriwal': 4999, 'stressful': 8609, 'scam': 7879, 'sense': 8027, 'stripe': 8618, 'attractions': 863, 'lions': 5299, 'lac': 5096, 'deactivated': 2455, 'curve': 2378, 'asphalt': 784, 'constantly': 2098, 'comes': 1949, 'richest': 7653, 'turtle': 9297, 'roku': 7702, 'isps': 4829, 'broadband': 1383, 'christ': 1759, 'viewed': 9581, 'process': 7013, 'countries': 2231, 'zeus': 9987, 'surface': 8738, 'retain': 7613, 'them': 8991, 'to': 9093, 'docker': 2804, 'carrier': 1578, 'weirdest': 9769, 'cancelled': 1527, 'cal': 1486, 'wars': 9707, 'ends': 3126, 'objects': 6234, 'italians': 4842, 'proposals': 7090, 'prey': 6973, 'shooting': 8141, 'suppliers': 8723, 'officers': 6275, 'allows': 523, 'bioinformatics': 1187, 'weird': 9768, 'phrases': 6692, 'celsius': 1634, 'replaced': 7523, 'turks': 9291, 'it': 4840, 'closest': 1851, 'sexual': 8077, 'doctors': 2807, 'utilize': 9472, 'exception': 3281, 'donate': 2832, 'jainism': 4863, 'capitalist': 1552, 'landscape': 5119, 'reaches': 7332, 'ps4': 7132, 'honestly': 4300, 'heater': 4178, 'question': 7224, 'cyclones': 2399, 'buffett': 1421, 'austria': 880, 'though': 9035, 'fermentation': 3488, 'i3': 4406, 'regular': 7450, 'receipt': 7362, 'pharm': 6656, 'pack': 6452, 'revolt': 7638, 'anticipated': 637, 'telecom': 8909, 'therapeutics': 9002, 'urban': 9441, 'desk': 2608, 'extra': 3358, 'flaws': 3591, 'increasing': 4555, 'shorts': 8150, 'bay': 1038, 'western': 9780, 'dnc': 2800, 'print': 6987, 'iran': 4801, 'count': 2228, 'meditating': 5653, 'tzu': 9325, 'un': 9349, 'ellen': 3075, 'hero': 4210, 'duplicate': 2930, 'weakness': 9742, 'vr': 9662, '25th': 106, 'tax': 8870, 'modi': 5839, 'park': 6508, 'might': 5749, 'vivo': 9626, 'regression': 7445, 'professors': 7037, 'nearest': 6049, 'skull': 8261, 'stationary': 8538, 'shoud': 8154, 'poker': 6808, 'orbitals': 6360, 'charged': 1685, 'rap': 7298, 'female': 3481, 'encounter': 3116, 'dentists': 2564, 'requirement': 7551, 'attempting': 851, 'searched': 7954, 'bcom': 1045, 'free': 3715, 'rarely': 7305, 'show': 8159, 'step': 8558, 'forbes': 3652, 'capricorn': 1554, 'bolt': 1269, 'ski': 8251, 'biggest': 1167, 'intensity': 4695, 'neo': 6071, 'selfish': 8006, 'meals': 5622, 'mahabharata': 5452, 'referral': 7415, 'microsoft': 5744, 'scenario': 7891, 'personnel': 6638, 'tears': 8889, 'crisis': 2305, 'manufacturers': 5520, 'valve': 9496, 'drivers': 2889, 'firearms': 3560, 'karan': 4983, 'automation': 895, 'shall': 8091, 'assassinated': 794, 'mongolia': 5865, 'conclusion': 2044, 'oregon': 6368, 'whatsapp': 9789, 'az': 925, 'instructions': 4672, 'bain': 958, 'ceramic': 1644, 'describe': 2587, 'innovations': 4631, 'covert': 2253, 'opening': 6323, 'barcelona': 1007, 'suddenly': 8678, 'hell': 4191, 'spirit': 8451, 'soldier': 8345, 'reinstall': 7460, 'speaking': 8418, 'change': 1673, 'snow': 8321, 'requests': 7548, 'recession': 7370, 'script': 7939, 'sits': 8239, 'hating': 4138, 'trace': 9166, 'journalist': 4938, 'shri': 8167, '12th': 22, '32': 124, 'edm': 3007, 'infinity': 4601, 'admire': 374, 'pepsi': 6603, 'sodium': 8338, 'receives': 7366, 'flop': 3605, 'offshore': 6280, 'valued': 9494, 'prove': 7115, 'improvement': 4526, 'maybe': 5609, 'traveling': 9222, 'trait': 9191, 'trader': 9176, 'passion': 6535, 'brings': 1378, 'negatively': 6062, 'dopamine': 2840, 'asking': 777, 'efficiently': 3024, 'sa1': 7796, 'gravitational': 3991, 'litter': 5322, 'participate': 6515, 'capacitor': 1545, 'polo': 6827, 'able': 250, 'wear': 9748, 'magnets': 5448, 'notable': 6169, 'weeks': 9764, 'chatting': 1700, 'threats': 9044, 'configuration': 2060, 'neighbor': 6065, 'gary': 3809, 'acceptance': 285, 'sign': 8185, 'delay': 2522, 'literacy': 5316, 'wasted': 9714, 'hangout': 4100, 'measures': 5632, 'providing': 7124, 'distractions': 2776, 'political': 6820, 'rows': 7750, 'object': 6231, 'easy': 2973, 'ip': 4788, 'his': 4255, 'ramayana': 7283, 'private': 6997, 'charles': 1691, '23': 99, 'offer': 6268, 'smartphone': 8297, 'trade': 9174, 'lucid': 5404, 'broke': 1386, '60': 183, 'username': 9461, 'gear': 3823, 'headphone': 4158, 'bhatt': 1146, 'ensure': 3154, 'sedimentary': 7981, 'are': 717, 'membranes': 5672, '10': 4, 'lower': 5397, 'pace': 6450, 'prokaryotic': 7061, 'tests': 8962, 'hairstyle': 4076, '60k': 187, 'shopify': 8143, 'wire': 9847, 'herpes': 4213, 'decorate': 2492, 'urge': 9443, 'intent': 4697, 'recently': 7369, 'polls': 6825, 'undergo': 9360, 'huawei': 4358, 'unsubscribe': 9410, 'touristic': 9153, 'gentleman': 3856, 'embassy': 3084, 'shrink': 8169, 'hope': 4312, 'charging': 1688, 'washing': 9710, 'rationale': 7317, 'nickel': 6112, 'mountain': 5920, 'myntra': 5987, '747': 202, 'cognitive': 1889, 'sarcastic': 7846, 'pronounced': 7075, 'hangover': 4102, 'bjp': 1214, '53': 173, 'managing': 5499, 'moderate': 5835, 'taj': 8829, 'vape': 9502, 'phosphate': 6677, 'nicotine': 6114, 'raven': 7320, 'boston': 1306, 'stores': 8581, 'introductory': 4745, 'inter': 4700, 'alternatives': 538, 'maine': 5462, 'packaging': 6455, 'corp': 2199, 'visitor': 9617, 'bluestacks': 1250, 'politics': 6824, 'argue': 722, 'clean': 1822, 'hepatitis': 4202, 'beverages': 1140, 'adapted': 353, 'spelling': 8437, 'joining': 4924, 'glowing': 3911, 'hdd': 4149, 'fame': 3413, '32gb': 125, 'surfing': 8740, 'vision': 9613, 'intimate': 4734, 'valley': 9490, 'everybody': 3256, 'fresh': 3730, 'helped': 4195, 'grace': 3962, 'couldn': 2225, 'indo': 4579, 'blocks': 1234, 'communications': 1974, 'hoax': 4265, 'inorganic': 4633, 'consent': 2081, 'bird': 1196, 'wisdom': 9852, 'freelancer': 3718, 'images': 4480, 'designers': 2601, 'curbing': 2361, 'priced': 6975, 'outcome': 6407, 'filipinos': 3524, 'veterans': 9560, 'oral': 6356, 'contribution': 2147, 'hacker': 4063, 'handwriting': 4097, 'gen': 3830, 'nazis': 6039, 'weren': 9778, 'clearly': 1829, 'grammatically': 3977, 'mold': 5848, 'elected': 3048, 'chickens': 1730, 'seeking': 7988, 'democrat': 2541, 'auto': 889, 'versa': 9552, 'conventional': 2156, 'snakes': 8312, 'stopped': 8575, '250': 102, 'bulb': 1430, 'demanding': 2537, 'monster': 5876, 'poles': 6813, 'age': 434, 'caltech': 1506, 'horoscope': 4318, 'vocal': 9631, 'mixers': 5815, 'escape': 3209, 'ola': 6292, 'websites': 9756, 'body': 1259, 'healthy': 4168, 'sketching': 8250, 'organisation': 6372, 'petrol': 6647, 'each': 2950, 'burned': 1445, 'fad': 3391, 'alexander': 497, 'kenya': 5002, 'bernie': 1129, 'accountant': 300, 'ross': 7732, 'commercial': 1962, 'louder': 5387, 'furious': 3775, 'definitely': 2514, 'beginning': 1088, 'kanpur': 4978, 'arya': 763, 'acquired': 323, 'sydney': 8791, 'fps': 3702, 'madison': 5436, 'contractors': 2142, 'absent': 262, 'ib': 4412, 'formation': 3674, 'phrase': 6691, 'capitalists': 1553, 'civilization': 1799, 'omega': 6302, 'mole': 5849, 'select': 7996, 'contain': 2120, 'hague': 4070, 'headlights': 4157, 'raised': 7275, 'telescope': 8914, 'tata': 8864, 'weekends': 9762, 'psychiatry': 7139, 'amp': 572, 'autocad': 891, 'inbound': 4535, 'lithium': 5321, 'bills': 1178, 'incest': 4538, 'apocalypse': 665, 'juice': 4954, 'update': 9417, '3d': 138, 'physicists': 6696, 'columbia': 1933, 'eng': 3134, 'tutorials': 9300, 'bullets': 1437, '85': 213, 'van': 9499, 'carbonate': 1564, 'accent': 280, 'laravel': 5131, 'molecular': 5850, 'lifestyle': 5265, 'transformation': 9202, 'fail': 3394, 'words': 9883, 'random': 7288, 'bicycle': 1160, 'microcontroller': 5739, 'diet': 2678, 'tour': 9150, 'thinker': 9025, 'request': 7546, 'becoming': 1072, 'existence': 3303, 'entrepreneurship': 3171, 'button': 1462, 'slave': 8271, 'processes': 7015, 'ranks': 7297, 'killed': 5026, 'controversial': 2154, 'dslr': 2910, 'diploma': 2710, 'well': 9774, 'competitive': 1994, 'storm': 8583, 'yrs': 9980, 'oats': 6224, 'brazil': 1350, 'grain': 3973, 'reference': 7412, 'upwards': 9437, 'frustrating': 3753, 'stranded': 8588, 'fix': 3579, 'telugu': 8920, 'angel': 597, 'grant': 3982, 'structural': 8624, 'donation': 2833, 'packs': 6459, 'child': 1734, 'pulse': 7163, 'mainly': 5464, 'possibilities': 6870, 'rigged': 7664, 'noticed': 6176, 'transformer': 9203, 'uri': 9444, 'fasting': 3439, 'honours': 4306, 'michelle': 5736, 'maruti': 5558, 'nurse': 6213, 'vedic': 9521, 'hr': 4349, 'dying': 2944, 'logistics': 5353, 'nios': 6128, 'qa': 7199, 'flip': 3597, 'sport': 8465, 'visible': 9612, 'orgasms': 6383, 'governance': 3951, 'imessage': 4486, '20th': 93, 'pros': 7095, 'b1': 928, 'regarded': 7432, 'checks': 1712, 'probably': 7006, 'keywords': 5011, 'adjectives': 369, 'json': 4947, 'kohli': 5071, 'governments': 3953, 'episode': 3182, 'masturbation': 5578, 'compatible': 1989, 'photo': 6678, 'certifications': 1653, 'agnostic': 446, 'abs': 260, 'plant': 6757, 'mushkil': 5969, 'forums': 3685, 'courier': 2240, 'malayalam': 5482, '5000': 166, 'piece': 6712, 'mad': 5434, 'vegetarians': 9529, 'lotion': 5383, 'merged': 5693, 'realize': 7350, 'strengths': 8605, 'arm': 729, 'throw': 9053, 'f1': 3373, 'under': 9359, 'indie': 4573, 'conversation': 2157, 'displaced': 2758, 'quite': 7233, 'melbourne': 5665, 'choice': 1747, 'naming': 6010, 'invest': 4764, 'profound': 7044, 'womb': 9873, 'gross': 4007, 'lcd': 5171, 'solution': 8354, 'motorola': 5917, 'ghaziabad': 3874, 'engine': 3139, 'infection': 4596, 'indians': 4566, 'plasma': 6759, 'hurt': 4381, 'enjoyable': 3148, 'longest': 5364, 'auction': 867, '18': 41, 'things': 9023, 'awesome': 918, 'learnt': 5189, 'otg': 6398, 'reviews': 7634, 'b2': 929, 'overcoming': 6423, 'drinks': 2885, 'log': 5346, 'tampon': 8848, 'sand': 7835, 'william': 9828, 'school': 7905, 'coding': 1886, 'outstanding': 6418, 'unfriend': 9376, 'mtech': 5942, 'dragons': 2862, '6000': 185, 'watermelon': 9723, 'carbon': 1563, 'environment': 3176, 'frog': 3745, 'dj': 2796, 'gwalior': 4053, 'bonds': 1276, 'bieber': 1163, 'escorts': 3212, 'biblical': 1158, 'living': 5328, 'advertisements': 395, 'pet': 6644, 'uncomfortable': 9357, 'breed': 1365, 'excellent': 3279, 'lenses': 5220, 'ielts': 4443, 'literature': 5319, 'simply': 8211, 'hairstyles': 4077, 'distinct': 2772, 'spent': 8441, 'swimming': 8780, 'collect': 1908, 'pets': 6649, 'setting': 8064, 'celebrated': 1625, 'kaine': 4974, 'slaves': 8273, 'bba': 1040, 'death': 2467, 'mncs': 5823, 'bombs': 1273, 'their': 8988, 'irritating': 4813, 'maternity': 5586, 'approval': 694, 'mermaids': 5697, 'ptsd': 7147, 'mention': 5684, '1952': 47, 'civilizations': 1800, 'musician': 5973, 'atlanta': 831, 'peaceful': 6577, 'equator': 3190, 'migrate': 5750, 'editors': 3006, 'sacramento': 7802, 'portrayed': 6857, 'mercedes': 5688, 'delivery': 2532, 'pokémon': 6809, 'tells': 8919, 'ignored': 4450, 'tobacco': 9095, 'garlic': 3808, 'liters': 5320, 'green': 4001, 'optional': 6352, 'everyone': 3258, 'spending': 8440, 'chi': 1727, 'dimensions': 2704, 'configure': 2061, 'ki': 5015, 'installing': 4660, 'vietnamese': 9579, 'worm': 9898, 'cuisine': 2348, 'sound': 8389, 'ide': 4429, 'stalking': 8503, 'singers': 8224, 'whole': 9810, 'homeopathy': 4290, 'officially': 6278, 'quorans': 7238, 'undergrad': 9361, 'evaluation': 3245, 'shepherd': 8118, 'normal': 6158, 'husbands': 4385, 'isotopes': 4827, 'brokerage': 1389, 'cabin': 1474, 'riding': 7661, 'lobster': 5338, 'telescopes': 8915, 'weakest': 9741, 'command': 1957, 'legislation': 5211, 'buy': 1465, 'spoke': 8459, 'alongside': 529, 'peru': 6641, 'extraterrestrial': 3362, 'you': 9968, 'ruler': 7770, 'catholics': 1603, 'euro': 3239, 'relations': 7468, 'antibiotics': 636, 'teachings': 8885, 'century': 1642, 'micro': 5738, 'package': 6453, 'secure': 7978, 'fighters': 3513, 'defend': 2508, 'disprove': 2764, 'moons': 5886, 'carry': 1580, 'sin': 8218, 'dangal': 2424, 'lately': 5143, 'thousands': 9039, 'brave': 1349, 'sony': 8378, 'gene': 3833, 'submarine': 8655, 'novel': 6185, 'nearby': 6048, 'cash': 1586, 'sleepy': 8276, 'fell': 3477, 'cst': 2338, 'appearance': 672, 'pull': 7158, 'adults': 386, '36': 131, 'makeup': 5479, 'service': 8057, 'hobby': 4268, 'genuine': 3857, 'putting': 7192, 'steal': 8551, 'modeling': 5831, 'concerned': 2041, 'demonetizing': 2551, 'unix': 9395, 'carrie': 1576, 'periods': 6622, 'refund': 7425, 'logging': 5348, 'brand': 1343, 'pf': 6651, 'purchase': 7176, 's7': 7794, 'judge': 4950, 'interactive': 4704, 'immediate': 4488, 'searh': 7957, 'hookah': 4310, '78': 207, 'matrices': 5595, 'webcam': 9753, 'seduce': 7982, 'ruling': 7772, 'realistically': 7348, 'elbow': 3044, 'competition': 1992, 'islamic': 4822, 'roommates': 7722, 'while': 9801, 'room': 7720, 'debit': 2471, 'filipino': 3523, 'conscience': 2077, 'accenture': 282, 'ton': 9112, 'attended': 855, 'shouldn': 8158, 'engines': 3143, 'scientist': 7912, 'building': 1427, 'precautions': 6919, 'keyboard': 5008, 'completely': 2005, 'lymph': 5423, 'switches': 8785, '10k': 11, 'borrowed': 1302, 'accidentally': 292, 'americas': 562, 'hug': 4361, 'antarctica': 631, 'anchoring': 589, 'becomes': 1071, 'cups': 2358, 'billion': 1174, 'd5200': 2405, 'oyo': 6445, 'staying': 8547, 'pension': 6598, 'linux': 5296, 'applied': 683, 'ds': 2909, 'princeton': 6983, 'dogs': 2817, 'rio': 7669, 'kernel': 5005, 'suspended': 8760, 'observed': 6238, 'gaming': 3800, 'common': 1969, 'remain': 7488, 'buildings': 1428, 'regulations': 7454, 'virtually': 9604, 'cage': 1483, 'theists': 8990, 'cvv': 2393, 'breaker': 1355, 'merchants': 5690, 'strong': 8620, 'principal': 6984, 'prominent': 7063, 'forward': 3686, 'hired': 4252, 'anchor': 588, 'interests': 4709, 'double': 2846, 'muscle': 5965, 'qualifications': 7207, 'release': 7476, 'attempted': 850, 'key': 5007, 'hunt': 4377, 'eradicate': 3198, 'stains': 8501, 'circuit': 1782, 'vtu': 9664, 'ideas': 4433, 'song': 8374, 'liked': 5275, 'mutual': 5981, 'silly': 8202, 'omegle': 6303, 'device': 2644, 'singular': 8228, 'nobel': 6142, 'huh': 4363, 'atoms': 839, 'dallas': 2414, 'spanish': 8412, 'gibson': 3881, 'ronaldo': 7718, 'bulletproof': 1436, 'district': 2780, 'contests': 2129, 'because': 1069, 'capita': 1549, 'bottom': 1313, 'gadget': 3785, '180': 42, 'imac': 4478, 'divide': 2785, 'candle': 1531, 'yr': 9979, 'turning': 9294, 'rub': 7759, 'sore': 8382, 'chemicals': 1717, 'hands': 4094, 'sizes': 8247, 'trilogy': 9253, 'mess': 5698, 'colonies': 1922, 'traitor': 9192, 'algorithm': 500, 'sanders': 7836, 'bihar': 1168, 'fighter': 3512, 'politician': 6822, 'coat': 1877, 'falling': 3409, 'vulnerable': 9666, 'line': 5285, 'neighborhoods': 6067, 'rid': 7656, 'redmi': 7405, 'magnitude': 5449, 'surrounding': 8751, 'cider': 1776, 'treaty': 9234, 'follower': 3637, 'funeral': 3772, 'sheet': 8113, 'ecology': 2987, 'not': 6168, 'gears': 3824, 'ridiculous': 7660, 'god': 3923, '33': 126, 'fallacy': 3407, 'cooking': 2176, 'finds': 3546, 'kg': 5012, 'www': 9933, 'libya': 5253, 'stayed': 8546, 'passports': 6539, 'possess': 6866, 'corps': 2203, 'brilliant': 1375, 'loyal': 5399, 'surely': 8736, 'fatigue': 3444, 'knows': 5069, 'love': 5390, 'bose': 1303, 'coke': 1897, 'tries': 9250, 'collection': 1910, 'portion': 6854, 'incredibly': 4557, 'parks': 6510, 'worthwhile': 9909, 'traveller': 9224, 'adopt': 381, 'branded': 1344, 'powder': 6897, 'gums': 4044, 'spam': 8410, 'sphere': 8443, 'senior': 8025, 'commonly': 1970, 'saving': 7867, 'distro': 2781, 'fresher': 3731, 'pronounce': 7074, 'lying': 5422, 'forming': 3678, 'lending': 5216, 'zuckerberg': 9998, 'wet': 9783, 'slow': 8287, 'formed': 3676, 'travel': 9219, 'conscious': 2078, 'insult': 4676, 'fallout': 3410, 'heated': 4177, 'sauron': 7864, 'shops': 8145, 'social': 8326, 'orchestra': 6362, 'kilos': 5033, 'currently': 2372, 'shah': 8085, 'spacecraft': 8404, 'skill': 8252, 'engagement': 3137, 'critics': 2312, 'bahamas': 957, 'burns': 1448, 'plate': 6761, 'return': 7621, 'neil': 6069, 'location': 5342, 'em': 3079, 'ims': 4529, 'hashtags': 4132, 'liberal': 5245, 'secretly': 7970, 'domain': 2822, 'mammals': 5491, 'impacts': 4502, 'boys': 1330, 'irish': 4808, 'marines': 5535, 'sd': 7945, '911': 222, 'ego': 3030, 'should': 8155, 'these': 9011, 'gram': 3974, 'monitoring': 5867, 'caught': 1606, 'selected': 7997, 'discussion': 2748, 'mood': 5884, 'intention': 4698, 'trusted': 9272, 'drinking': 2884, 'baluchistan': 979, 'bypass': 1471, 'metal': 5709, 'once': 6305, 'conductor': 2054, 'boxer': 1323, 'some': 8361, 'special': 8421, 'dual': 2914, 'addictive': 361, 'combat': 1938, 'buyers': 1467, 'connected': 2070, 'sequence': 8045, '5v': 181, 'demonetisation': 2545, 'siblings': 8177, 'dfrac': 2647, '300': 118, 'literary': 5318, 'potassium': 6885, 'shown': 8165, 'mass': 5567, 'dick': 2666, 'feet': 3476, 'really': 7352, 'hottest': 4337, 'h2o': 4058, 'krishna': 5079, 'years': 9954, '2k': 114, 'muscles': 5966, 'block': 1230, 'medal': 5642, 'transferring': 9199, 'danger': 2425, 'qm': 7201, 'sketch': 8249, 'film': 3529, 'food': 3643, 'drum': 2903, 'cards': 1567, 'temporarily': 8928, 'economically': 2991, 'proportions': 7088, 'quickly': 7230, 'kong': 5073, 'label': 5090, 'media': 5644, 'muhammad': 5948, 'envy': 3178, 'prophet': 7086, 'street': 8601, 'delaware': 2521, 'early': 2954, 'like': 5274, 'mindset': 5769, 'balloons': 975, 'cms': 1865, 'metabolism': 5708, 'airbender': 464, 'necessarily': 6051, 'sciences': 7909, 'eve': 3246, 'likes': 5278, 'knight': 5062, 'loud': 5386, 'fare': 3425, 'reads': 7343, 'ckwl': 1801, 'lawyers': 5160, 'sauce': 7861, 'violin': 9598, 'traders': 9177, 'camps': 1518, 'webpage': 9754, 'dota': 2844, 'run': 7776, 'power': 6898, 'continuous': 2136, 'loosing': 5372, 'ionic': 4783, 'volt': 9643, 'indicators': 4571, 'meme': 5673, 'russians': 7787, 'lip': 5300, 'laserjet': 5138, 'pandora': 6486, 'theories': 9000, 'designed': 2599, 'cluster': 1860, 'query': 7223, 'drone': 2892, 'understand': 9365, 'outside': 6415, 'dreams': 2876, 'alphabet': 532, 'injury': 4625, 'award': 912, 'separated': 8040, 'gst': 4020, 'programme': 7047, 'ideology': 4437, 'poor': 6831, 'ak': 479, 'tear': 8888, 'decreasing': 2495, 'penis': 6594, 'pop': 6834, 'minor': 5783, 'agent': 439, 'serial': 8047, 'starts': 8525, 'newton': 6101, 'representative': 7536, 'bleed': 1224, 'hawaii': 4144, 'wardrobes': 9696, 'blogs': 1239, 'kevin': 5006, 'arrays': 743, 'showers': 8163, 'rcc': 7328, 'tourism': 9151, 'stone': 8572, 'permanent': 6624, 'solid': 8350, 'physicist': 6695, 'invite': 4774, 'smallest': 8293, 'volume': 9648, 'rhyme': 7647, 'since': 8219, 'universe': 9391, 'concerns': 2042, 'borough': 1300, 'do': 2801, 'al': 483, 'method': 5720, 'sliding': 8278, 'advisor': 401, 'cavity': 1612, 'discovery': 2744, 'hate': 4135, 'eats': 2977, 'ssc': 8488, 'fine': 3547, 'responses': 7591, 'sociology': 8332, 'hypothesis': 4400, 'knee': 5058, 'deaf': 2460, 'colombia': 1920, 'coordinate': 2182, 'nightmares': 6120, 'onions': 6313, 'african': 426, 'copper': 2188, 'dawn': 2448, 'streams': 8600, 'karakum': 4982, 'missing': 5800, 'prelims': 6935, 'hindustan': 4248, 'feature': 3460, 'complexity': 2010, 'walked': 9676, 'hole': 4277, 'around': 738, 'udacity': 9333, 'nature': 6033, '47': 154, 'doesn': 2814, 'swallow': 8766, 'frost': 3748, 'pulling': 7160, 'monitor': 5866, 'hosts': 4331, 'already': 533, 'ice': 4418, 'chelsea': 1715, 'chetan': 1723, 'regime': 7436, 'happiness': 4111, 'subscription': 8663, 'doing': 2818, 'ubuntu': 9330, 'dumbest': 2924, 'decides': 2482, 'rudest': 7764, 'substitutes': 8667, 'air': 463, 'degree': 2517, 'merger': 5694, 'binary': 1180, 'situations': 8242, 'granted': 3983, 'obese': 6228, 'landing': 5117, 'reinforcement': 7459, 'stopping': 8576, 'animes': 612, 'cultural': 2350, 'fact': 3384, 'panda': 6485, 'locations': 5343, 'users': 9462, 'beef': 1077, 'dear': 2466, 'marginal': 5532, 'crashes': 2274, 'yogurt': 9965, 'loan': 5336, 'japanese': 4875, 'blowjob': 1246, 'close': 1847, 'du': 2913, 'gel': 3827, 'palestine': 6478, 'sue': 8679, 'survived': 8757, 'costco': 2217, 'congress': 2068, 'views': 9585, 'cry': 2330, 'browser': 1399, 'browse': 1398, 'tons': 9116, 'hills': 4240, 'parametric': 6501, 'encryption': 3119, 'ended': 3122, 'chuck': 1771, '2007': 77, 'tier': 9065, 'mumbai': 5960, 'massachusetts': 5569, 'waves': 9732, 'am': 547, 'clutch': 1863, 'genre': 3854, 'qualcomm': 7205, 'country': 2232, 'enhance': 3146, 'wing': 9837, 'vanilla': 9501, 'pluto': 6787, 'analytics': 583, 'saas': 7797, 'fluid': 3618, 'psychologist': 7142, 'mat': 5579, 'phone': 6675, 'consulting': 2109, 'ballon': 973, 'processing': 7016, 'speech': 8431, 'recipes': 7373, 'cohen': 1891, '1980': 53, 'fund': 3767, 'chomsky': 1750, 'pray': 6916, 'rotate': 7733, 'renew': 7506, 'freezer': 3722, 'jimmy': 4911, 'lawyer': 5159, 'torrentz': 9138, 'jeans': 4891, 'protected': 7104, 'unlimited': 9399, 'holidays': 4280, 'g3': 3782, 'pilots': 6723, 'aggregate': 442, '1st': 64, 'reject': 7461, '370': 134, 'flu': 3613, 'hinduism': 4246, 'magic': 5443, 'rule': 7768, 'narendra': 6018, 'bedroom': 1074, 'jews': 4906, 'leaders': 5175, 'downloading': 2852, 'york': 9966, 'growth': 4016, 'outlook': 6413, 'hamsters': 4087, 'alzheimer': 546, 'developers': 2639, 'say': 7870, 'bhagavad': 1144, 'suffering': 8682, 'invalid': 4754, 'demand': 2536, 'transfers': 9200, 'sharks': 8102, 'lag': 5104, 'validity': 9489, 'add': 355, 'flower': 3610, 'nato': 6030, 'bob': 1257, 'marketer': 5542, 'customers': 2383, 'stunt': 8643, 'playing': 6772, 'grades': 3965, 'twenty': 9308, 'vacancies': 9477, 'scripted': 7940, 'dhoni': 2649, 'compliments': 2013, 'correct': 2204, 'bother': 1309, 'drama': 2865, 'bootstrap': 1292, 'proofs': 7078, 'fiber': 3503, 'dressing': 2879, 'rothschild': 7736, 'batsman': 1032, 'province': 7125, 'confused': 2067, 'evolved': 3267, 'uc': 9331, 'finishing': 3554, 'failing': 3396, 'wondering': 9878, 'tensorflow': 8938, 'ucla': 9332, '48': 155, 'bounce': 1315, 'having': 4143, 'ambitious': 554, 'deadpool': 2459, 'targeting': 8858, 'renewal': 7508, 'motorcycle': 5915, 'displaystyle': 2762, 'costume': 2220, 'climb': 1838, 'banana': 982, 'development': 2641, 'join': 4922, 'singaporeans': 8222, 'structures': 8627, '1963': 51, 'wwe': 9930, 'minutes': 5788, 'compared': 1984, 'francisco': 3711, 'ghost': 3875, 'strangest': 8592, 'west': 9779, 'oppose': 6341, 'adapter': 354, 'looks': 5368, 'haunted': 4140, 'debates': 2470, 'vienna': 9577, 'boil': 1262, 'vinegar': 9592, 'pablo': 6449, 'login': 5351, 'npa': 6193, 'field': 3507, 'existential': 3304, 'products': 7031, 'jack': 4856, 'arabic': 707, 'dollars': 2820, 'homework': 4293, 'absolute': 263, '1080p': 10, 'counselling': 2227, 'dark': 2430, 'atrocities': 840, 'different': 2684, 'interval': 4728, 'water': 9721, 'challenging': 1666, 'asthma': 814, 'gorilla': 3945, 'announced': 615, 'survival': 8755, 'ahmedabad': 455, 'appetite': 676, 'branch': 1341, 'visits': 9619, 'abilities': 247, 'wood': 9880, 'cum': 2354, 'civil': 1796, 'stocks': 8569, 'documentaries': 2809, 'reich': 7457, 'lumia': 5412, 'impression': 4521, 'harder': 4117, 'bare': 1008, 'tempered': 8924, 'fields': 3508, 'pakistan': 6475, 'missouri': 5804, 'nine': 6125, 'rolex': 7705, 'pyramids': 7197, 'foreigners': 3662, 'parking': 6509, 'curable': 2359, 'rehab': 7455, 'farts': 3433, 'desert': 2593, 'blackheads': 1217, 'effective': 3018, 'lbs': 5170, 'indirect': 4576, 'vitamin': 9624, 'whereas': 9797, 'registan': 7440, 'cs': 2334, 'him': 4241, 'upvoted': 9434, 'appointment': 688, 'microphone': 5741, 'match': 5580, 'simulation': 8215, 'productivity': 7030, 'autism': 887, 'several': 8071, 'dishes': 2752, 'tumblr': 9282, 'including': 4547, 'dream': 2874, '44': 151, 'pulses': 7164, 'ass': 790, 'extract': 3359, 'bajaj': 959, 'envelope': 3175, 'cotton': 2221, 'preferably': 6929, 'publication': 7151, 'medication': 5647, 'bats': 1031, 'owned': 6435, 'kids': 5022, 'true': 9268, 'eczema': 2998, 'jbims': 4886, 'wrestling': 9915, 'inappropriate': 4533, 'bengaluru': 1122, 'helpful': 4196, 'hypnosis': 4397, 'employee': 3106, 'beagle': 1050, 'mathematicians': 5591, 'kolkata': 5072, 'over': 6420, 'wrap': 9914, 'html5': 4356, 'mc': 5615, 'kitten': 5054, 'closer': 1850, 'portal': 6851, 'links': 5295, 'angle': 602, 'mi': 5731, 'receiving': 7367, 'regions': 7439, 'monitors': 5868, 'salad': 7817, 'expenditure': 3319, 'head': 4153, 'includes': 4546, 'apparently': 669, 'approximate': 698, '2008': 78, 'sword': 8789, 'flies': 3594, 'flags': 3584, 'minister': 5780, 'recruiters': 7393, 'episodes': 3183, 'squats': 8482, 'pulls': 7161, 'activity': 338, 'replacement': 7524, 'percentage': 6608, 'warm': 9699, 'basketball': 1024, 'costa': 2216, 'programmes': 7050, 'treatment': 9231, 'taking': 8833, 'angels': 600, 'stalin': 8502, 'bugs': 1423, 'engaged': 3136, 'crossing': 2321, 'guarantee': 4024, 'sensitivity': 8031, 'iift': 4455, 'creation': 2284, 'venus': 9540, 'são': 8811, 'relatively': 7472, 'income': 4548, 'intentionally': 4699, 'psychology': 7143, 'light': 5269, 'soppy': 8381, 'punish': 7169, 'introverts': 4748, 'collective': 1912, 'ipod': 4795, 'robert': 7690, 'johnny': 4920, 'desires': 2607, 'donald': 2831, 'katrina': 4993, 'boredom': 1297, 'taliban': 8838, 'lowest': 5398, 'hvac': 4388, '800': 210, 'placement': 6743, 'recovered': 7387, 'cashless': 1587, 'embedded': 3086, 'leak': 5181, 'used': 9457, 'tummy': 9283, 'teams': 8887, 'knock': 5063, 'ontario': 6317, 'addicted': 359, 'mount': 5919, 'clustering': 1861, 'replying': 7529, 'marketing': 5543, 'allahabad': 512, 'decision': 2484, 'killers': 5028, 'iv': 4852, 'kva': 5083, 'determines': 2632, 'essay': 3215, 'poisonous': 6805, 'angry': 603, 'virat': 9600, 'uk': 9343, 'organizations': 6377, 'idaho': 4428, 'inheritance': 4616, 'tornado': 9133, 'chhattisgarh': 1726, 'beijing': 1094, 'laptop': 5129, 'syllabus': 8792, 'gainer': 3789, 'weight': 9766, 'criticisms': 2311, 'chloride': 1743, 'memorize': 5677, 'implementation': 4508, 'prisoners': 6994, 'discharge': 2734, 'slower': 8288, 'appointed': 687, 'adolf': 380, 'report': 7530, 'newspaper': 6099, 'manga': 5504, 'fuse': 3779, 'hits': 4261, 'darth': 2433, 'accessible': 289, 'lanyards': 5125, 'lesbians': 5225, 'visas': 9608, 'bs': 1404, 'threatening': 9043, 'permanently': 6625, 'spells': 8438, 'quebec': 7219, 'taxes': 8873, 'ending': 3123, 'grammatical': 3976, 'battle': 1035, 'pre': 6918, 'viral': 9599, 'dr': 2858, 'attendants': 854, 'arms': 734, 'conspiracies': 2095, 'tossed': 9140, 'salary': 7819, 'capacity': 1547, 'clusters': 1862, 'diary': 2663, '77': 206, 'interested': 4707, 'vowels': 9659, 'quantum': 7217, 'biotic': 1194, 'algebra': 498, 'restaurant': 7598, 'predators': 6921, 'horrible': 4319, 'repair': 7513, 'title': 9090, 'actually': 345, 'representatives': 7537, 'forgot': 3669, 'vietnam': 9578, 'elsewhere': 3078, 'joined': 4923, 'libra': 5250, 'live': 5324, 'dependent': 2571, 'escobar': 3210, 'backlinks': 942, 'bhubaneswar': 1152, 'egypt': 3031, 'output': 6414, 'farm': 3428, 'please': 6776, 'translation': 9211, 'kashmiri': 4992, 'tree': 9235, 'haram': 4113, 'roof': 7719, 'trust': 9271, 'focused': 3628, 'hair': 4072, 'identical': 4434, 'equivalent': 3195, 'dizzy': 2795, 'alibaba': 503, 'slight': 8279, 'beams': 1052, 'tv': 9302, 'shorter': 8148, 'copied': 2186, 'oils': 6286, 'diffusion': 2692, 'counted': 2229, 'coimbatore': 1893, 'army': 736, 'amazon': 550, 'wheel': 9791, 'bra': 1333, 'cyanide': 2394, 'actor': 339, 'help': 4194, 'meerut': 5656, 'wings': 9838, 'tasks': 8861, 'hawking': 4145, 'vote': 9653, 'has': 4129, 'southeast': 8398, 'iitb': 4462, 'geforce': 3826, 'norwegian': 6164, 'vast': 9512, 'research': 7555, 'insanity': 4638, 'theoretical': 8998, 'sons': 8377, 'bengal': 1120, 'decide': 2480, 'symbolism': 8795, 'disable': 2723, 'mine': 5770, 'cargo': 1572, 'yoga': 9964, 'cheated': 1705, 'thoughts': 9037, 'soulmate': 8387, 'hamster': 4086, 'stain': 8499, 'thesis': 9012, 'wrong': 9924, 'easily': 2970, 'mistress': 5807, 'dots': 2845, 'whose': 9813, 'inpatient': 4634, 'nationality': 6026, 'startups': 8527, 'qualification': 7206, '31': 123, 'enter': 3156, 'welding': 9772, 'chicago': 1728, 'fever': 3496, 'obamacare': 6226, 'spectrum': 8430, 'rbi': 7326, 'info': 4608, 'agenda': 438, 'abraham': 257, 'against': 433, 'files': 3521, 'girls': 3892, 'zomato': 9992, 'practically': 6907, 'pilani': 6719, 'slit': 8283, 'ledger': 5199, 'smart': 8294, 'blood': 1241, 'ebook': 2979, 'israel': 4830, 'advise': 399, 'real': 7345, 'football': 3649, 'ese': 3213, 'screenplay': 7934, 'similarities': 8206, 'underground': 9363, 'engineers': 3142, 'rac': 7247, 'yearly': 9953, 'entries': 3172, 'asteroid': 813, 'troubleshoot': 9265, 'submarines': 8656, 'transaction': 9195, 'from': 3746, 'estimated': 3223, 'authentic': 881, 'chsl': 1770, 'rahul': 7264, 'graduated': 3969, 'international': 4717, 'spots': 8469, 'colonized': 1924, 'digest': 2693, 'rom': 7711, 'suzuki': 8765, 'helicopter': 4189, '40k': 148, 'handset': 4095, 'directors': 2718, 'mic': 5733, 'plan': 6748, 'graph': 3987, 'justice': 4967, 'streets': 8602, 'movies': 5930, 'allen': 514, 'dump': 2926, 'spacetime': 8407, 'mileage': 5755, 'suited': 8693, 'fpga': 3701, 'triple': 9256, 'adwords': 405, 'salaries': 7818, 'define': 2511, 'channel': 1677, 'robotics': 7693, 'avenger': 901, 'discover': 2741, 'push': 7188, 'immoral': 4495, 'surat': 8734, 'selecting': 7998, 'leg': 5203, 'counter': 2230, 'deaths': 2468, 'pvt': 7195, 'united': 9387, 'idea': 4430, 'mix': 5813, 'moderation': 5836, 'result': 7607, 'girlfriend': 3890, 'caffeine': 1482, 'highlands': 4228, 'samajwadi': 7828, 'amongst': 569, 'red': 7401, 'purchases': 7178, 'reset': 7561, 'thai': 8973, 'estate': 3220, 'ductile': 2920, 'truths': 9275, 'albums': 490, 'photographer': 6680, 'league': 5179, 'measure': 5629, 'junk': 4962, 'also': 534, 'vera': 9541, '2012': 82, 'authentication': 882, 'sikhs': 8197, 'eccentric': 2982, 'lamborghini': 5112, 'official': 6277, '30000': 120, 'paths': 6552, 'genres': 3855, 'palm': 6480, 'september': 8043, 'bend': 1115, 'trigger': 9251, 'liability': 5243, 'domicile': 2825, 'qatar': 7200, 'shortest': 8149, 'deficit': 2510, 'procedure': 7010, 'relevant': 7480, 'mark': 5538, 'touched': 9144, 'favourite': 3452, 'employees': 3107, 'little': 5323, 'adderall': 357, 'psychiatrists': 7138, 'gif': 3882, 'petroleum': 6648, 'review': 7633, 'linear': 5286, 'cheapest': 1703, 'textbooks': 8966, 'dakota': 2412, 'manufacturer': 5519, 'limited': 5282, 'operated': 6328, 'state': 8530, 'role': 7703, 'safest': 7811, 'rabbit': 7244, 'delayed': 2523, 'gopro': 3943, 'installation': 4658, 'warrant': 9702, 'technologies': 8898, 'weed': 9759, 'license': 5256, 'silent': 8199, 'advantage': 389, 'firefox': 3563, 'drones': 2893, 'tylenol': 9316, 'elementary': 3063, 'they': 9014, 'pimple': 6724, 'ussr': 9467, 'routine': 7745, 'five': 3577, 'strings': 8616, 'questions': 7225, 'reflection': 7419, 'stress': 8607, 'create': 2280, 'humor': 4370, 'genie': 3849, 'nosql': 6166, 'coverage': 2249, 'effect': 3017, 'telangana': 8908, 'eukaryotic': 3238, 'comedy': 1948, 'initial': 4618, 'repeating': 7519, 'devices': 2645, 'teach': 8881, 'distracted': 2775, 'statistical': 8540, 'actors': 340, 'soluble': 8353, 'funds': 3771, '125': 19, 'csir': 2336, 'routes': 7744, 'controlled': 2150, 'enroll': 3153, 'grounds': 4009, 'mahal': 5453, 'discontinuing': 2739, 'illinois': 4471, 'future': 3781, 'comparison': 1986, 'iims': 4459, 'sick': 8178, 'salmon': 7824, '51': 171, 'portfolio': 6853, 'enters': 3160, 'cardio': 1566, 'biological': 1188, 'sabha': 7798, 'nth': 6201, 'lets': 5232, 'universes': 9392, 'youtube': 9976, 'acoustic': 321, 'bsf': 1407, 'joke': 4927, 'hotels': 4334, 'wash': 9709, 'sting': 8567, 'advertising': 396, 'cpa': 2259, 'memorable': 5675, 'impeached': 4503, 'usc': 9454, 'curing': 2365, 'difficult': 2689, 'themselves': 8995, 'ww3': 9929, 'oceans': 6255, 'cross': 2319, 'pretty': 6966, 'faced': 3377, 'continuing': 2135, 'smell': 8300, 'keeps': 4998, 'illuminati': 4474, 'bhim': 1147, 'pickup': 6707, 'outer': 6410, 'ruby': 7762, 'wouldn': 9912, 'bmw': 1252, 'synthetic': 8805, 'jerry': 4898, 'deleted': 2525, 'cfa': 1656, 'silence': 8198, 'cast': 1589, 'erosion': 3203, 'emojis': 3095, 'clay': 1821, 'thighs': 9020, 'apply': 684, 'moto': 5913, 'generating': 3838, 'wound': 9913, 'socialist': 8328, 'muscular': 5967, 'exercising': 3298, 'careers': 1570, 'sing': 8220, 'learn': 5185, 'hons': 4307, 'preparation': 6943, 'kitkat': 5053, 'monkey': 5870, 'montreal': 5881, 'zodiac': 9990, 'gum': 4043, 'activated': 333, 'irritated': 4812, 'raped': 7300, 'vegetables': 9527, 'unethical': 9372, '160': 36, 'reside': 7562, 'butt': 1459, 'jnu': 4913, 'chief': 1731, 'warfare': 9698, 'sandwiches': 7838, '360': 132, 'ninja': 6126, 'away': 917, 'gi': 3878, 'chromosome': 1767, 'addict': 358, 'spoilers': 8458, 'scorpion': 7923, 'azerbaijan': 926, 'gr': 3960, 'resolution': 7575, 'startup': 8526, 'inspiron': 4655, 'gobi': 3922, 'syrian': 8807, 'pole': 6812, 'societies': 8330, 'displayed': 2761, 'eggs': 3029, 'worth': 9907, 'watch': 9717, 'outsourcing': 6417, 'cockroaches': 1881, 'fees': 3475, 'bachelors': 936, 'mobility': 5826, 'vocabulary': 9630, 'superfluid': 8712, 'happened': 4105, 'refer': 7411, 'rrb': 7754, 'rhode': 7646, 'motion': 5906, 'followed': 3636, 'exist': 3301, 'jet': 4901, 'accomplishments': 296, 'newborn': 6095, 'quant': 7213, 'sq': 8477, 'ladakh': 5100, 'forensic': 3663, 'distance': 2769, 'rafale': 7262, 'unified': 9379, 'incidents': 4542, 'lens': 5219, 'breeds': 1366, 'aa': 232, 'scenes': 7894, 'missiles': 5799, 'particles': 6518, 'wordpress': 9882, 'killer': 5027, 'expenses': 3321, 'villain': 9589, 'mushrooms': 5970, 'infections': 4597, 'card': 1565, 'youtuber': 9977, 'bullying': 1441, 'rude': 7763, 'underwear': 9369, 'item': 4846, 'peroxide': 6629, 'practise': 6911, 'says': 7872, 'variance': 9508, 'globe': 3909, 'drums': 2904, 'fargo': 3427, 'demonitization': 2553, 'conductors': 2055, 'ab': 240, 'kickstarter': 5019, 'writers': 9920, 'dose': 2842, 'optimize': 6350, 'master': 5573, 'ones': 6308, 'con': 2032, 'html': 4355, 'celebrity': 1628, 'aunt': 875, 'insert': 4642, 'sushi': 8758, 'elon': 3076, 'selling': 8010, 'science': 7908, 'capabilities': 1542, 'author': 883, 'voter': 9655, 'genotype': 3853, 'voice': 9634, 'admitted': 378, 'craigslist': 2270, 'mom': 5854, 'model': 5830, 'athlete': 829, 'likelihood': 5276, 'leader': 5174, 'genghis': 3848, 'european': 3241, 'magnetic': 5447, 'clat': 1819, 'thank': 8976, 'slip': 8282, 'covers': 2252, 'kittens': 5055, 'analog': 578, 'wall': 9680, 'expensive': 3322, 'considered': 2089, 'began': 1082, 'wrinkles': 9916, 'requires': 7553, 'protest': 7109, 'reported': 7531, 'nyc': 6221, 'layover': 5166, 'committed': 1966, 'approaches': 692, 'mistake': 5805, 'dating': 2444, 'ion': 4782, 'based': 1017, 'kick': 5016, 'raise': 7274, 'loves': 5394, 'marx': 5560, 'dev': 2635, '2006': 76, 'pass': 6529, 'motivate': 5907, 'cooked': 2172, 'jokes': 4929, 'routines': 7746, 'genius': 3850, 'hong': 4303, '700': 199, 'nationalism': 6025, 'beans': 1054, 'shift': 8122, 'wrongly': 9925, 'host': 4326, 'captain': 1556, '11th': 15, 'bitcoin': 1204, 'mantra': 5514, 'paul': 6560, 'peter': 6645, 'valid': 9488, 'population': 6840, 'chain': 1659, 'businessman': 1455, 'grown': 4014, 'secular': 7976, 'year': 9952, 'accommodation': 293, 'recording': 7384, 'fusion': 3780, 'continental': 2132, 'mining': 5779, 'tracks': 9172, 'stare': 8516, 'means': 5627, 'karna': 4989, 'rides': 7658, 'creativity': 2286, 'specs': 8429, 'range': 7290, 'smartest': 8296, '19th': 57, 'ngc': 6105, 'which': 9800, 'account': 298, 'house': 4340, 'owning': 6439, 'afternoon': 430, 'billionaire': 1175, 'injection': 4624, 'shield': 8121, 'higgs': 4224, 'coolest': 2178, 'detox': 2633, 'muslim': 5976, 'homepage': 4291, 'medieval': 5650, 'railways': 7269, 'than': 8975, 'enlarge': 3149, 'schemes': 7900, 'ramsay': 7284, 'codes': 1885, 'detectable': 2624, 'honey': 4301, 'alchemist': 491, 'presence': 6953, 'polar': 6811, 'models': 5833, 'stranger': 8590, 'republican': 7542, 'branches': 1342, 'sector': 7974, 'changed': 1674, 'region': 7437, 'institutions': 4670, 'forecast': 3658, 'rosetta': 7730, 'nations': 6027, 'java': 4878, 'therapy': 9005, 'earns': 2959, 'scandinavian': 7883, 'states': 8534, 'revenge': 7628, 'manufactured': 5518, 'directions': 2715, 'even': 3247, 'race': 7248, 'youngest': 9971, 'flow': 3609, 'suck': 8675, 'instrument': 4673, 'become': 1070, 'suppose': 8731, 'deleting': 2526, 'mostly': 5902, 'poisoning': 6804, 'cyber': 2395, 'permission': 6626, 'roughly': 7739, 'france': 3709, 'best': 1132, 'banerjee': 988, 'continue': 2134, 'shut': 8170, 'needing': 6057, 'fox': 3700, 'monarchy': 5859, 'suicide': 8690, 'vivekananda': 9625, 'jayalalitha': 4883, 'backward': 946, 'versions': 9555, 'chosen': 1757, 'astrologers': 816, 'cdma': 1620, 'evil': 3263, 'buttons': 1463, 'welfare': 9773, 'logos': 5355, 'demonetization': 2548, 'focus': 3627, 'come': 1945, 'traditional': 9180, 'any': 645, 'borderline': 1294, 'crops': 2316, 'vomit': 9650, 'lungs': 5416, 'ac': 271, 'scene': 7893, 'importing': 4517, 'moments': 5856, 'occur': 6250, 'satire': 7853, 'breast': 1360, 'cute': 2387, 'trying': 9277, 'drilling': 2882, 'ability': 248, 'rational': 7316, 'communist': 1976, 'traditions': 9181, 'phobia': 6673, 'manual': 5515, 'sides': 8181, 'uae': 9326, 'existing': 3305, 'pig': 6717, 'irony': 4810, 'taste': 8862, 'slang': 8270, 'specifically': 8427, 'anonymous': 622, 'scotia': 7925, 'course': 2241, 'neuroscience': 6087, 'didn': 2671, 'scary': 7890, 'weapons': 9747, 'girth': 3893, 'properly': 7082, 'provides': 7123, 'corruption': 2211, 'tester': 8959, 'independently': 4561, 'upgrading': 9421, 'considering': 2090, 'sibling': 8176, 'rti': 7758, 'confidence': 2058, 'mouth': 5923, 'stuffy': 8642, 'brass': 1348, 'invention': 4759, 'odisha': 6261, 'orbits': 6361, 'recognition': 7375, 'completing': 2006, 'barrel': 1011, 'simpson': 8212, 'dictatorship': 2668, 'worship': 9905, 'ar': 703, 'vladimir': 9627, 'laos': 5126, 'designing': 2602, 'collector': 1914, 'searching': 7956, 'purely': 7181, 'balance': 964, 'von': 9652, 'meiosis': 5663, 'customized': 2384, 'sea': 7949, 'scenarios': 7892, 'vegans': 9524, 'analyst': 581, 'medicines': 5649, 'googled': 3940, 'synchronous': 8800, 'hold': 4272, 'alcoholic': 493, 'blow': 1244, 'suspension': 8761, 'path': 6551, 'courses': 2243, 'enable': 3114, 'sql': 8478, 'senator': 8020, 'concrete': 2045, 'submitted': 8658, 'diversity': 2784, 'kilauea': 5024, 'liking': 5279, 'serials': 8048, 'analysis': 580, 'scholarship': 7903, 'pick': 6703, 'cars': 1582, 'would': 9911, 'committee': 1967, 'hurts': 4383, 'malaysian': 5484, 'invasion': 4756, 'processor': 7017, 'dresses': 2878, 'buffet': 1420, 'bhagat': 1143, 'dealing': 2464, 'mohammad': 5845, 'skin': 8255, 'intj': 4735, 'dil': 2699, 'reddit': 7402, 'swear': 8770, 'disadvantages': 2726, 'tire': 9083, 'nearly': 6050, 'spears': 8420, 'icse': 4426, 'goods': 3938, 'thinking': 9026, 'cousin': 2246, 'forehead': 3659, 'references': 7413, 'boyfriend': 1328, 'avengers': 902, 'ir': 4800, 'hey': 4216, 'ruin': 7765, '750': 204, 'hijab': 4234, 'orbital': 6359, 'stealing': 8552, 'secret': 7968, 'displacement': 2759, 'ground': 4008, 'connection': 2073, 'cabinet': 1475, 'infant': 4593, 'businesses': 1454, 'formats': 3675, 'execution': 3294, 'bizarre': 1213, 'lighter': 5270, '8th': 217, 'surveillance': 8752, 'rate': 7309, 'chopra': 1753, 'wifi': 9820, 'guy': 4051, 'standards': 8510, 'equilibrium': 3191, 'venezuela': 9537, 'clarification': 1808, 't20': 8812, 'ece': 2983, 'shadow': 8083, '27': 108, 'soccer': 8325, '40000': 147, 'talented': 8837, 'flight': 3595, 'economical': 2990, 'definitively': 2516, 'chains': 1660, 'reveal': 7625, 'yourself': 9974, 'haircut': 4073, 'viswanathan': 9622, 'directly': 2716, 'integer': 4680, 'believers': 1102, 'oneself': 6309, 'acid': 316, 'trending': 9239, 'erection': 3201, 'etymology': 3236, 'joker': 4928, 'iodine': 4781, 'digestion': 2694, 'transportation': 9215, 'manufacture': 5517, 'semi': 8016, 'aircraft': 467, 'convince': 2169, 'franklin': 3713, 'circuits': 1783, 'stray': 8596, 'everything': 3259, 'flooring': 3604, 'strategies': 8594, 'cop': 2184, 'maharaj': 5454, 'issues': 4837, '21st': 95, 'force': 3654, 'colored': 1928, 'fashion': 3435, 'introverted': 4747, 'differ': 2681, 'carpet': 1575, 'skip': 8258, 'holding': 4275, 'activation': 334, 'cheaper': 1702, 'excluding': 3288, 'silicon': 8200, 'screenshots': 7937, 'resume': 7609, 'turkish': 9290, 'traits': 9193, 'box': 1322, 'perfect': 6611, 'amplitude': 574, 'tails': 8827, 'pose': 6861, '40': 144, 'handled': 4092, 'manipulative': 5510, 'recognized': 7377, 'technologically': 8897, 'wittiest': 9864, 'issue': 4835, 'hp': 4348, 'pink': 6728, 'laugh': 5150, '200': 68, 's3': 7790, 'fiance': 3501, 'homes': 4292, 'solved': 8357, 'converting': 2163, 'farmers': 3430, 'scanner': 7884, 'passwords': 6541, 'merchant': 5689, 'jr': 4944, 'home': 4286, 'calls': 1502, 'afraid': 424, 'populated': 6839, 'phenomena': 6665, 'chocolates': 1746, 'mars': 5553, '140': 27, 'harassment': 4114, 'incorporate': 4550, 'positions': 6863, 'terrorist': 8952, 'technique': 8894, 'earthquakes': 2966, 'whiny': 9803, 'circular': 1784, 'screenshot': 7936, 'called': 1499, 'management': 5495, 'personalities': 6635, 'news': 6098, 'jaw': 4880, 'streak': 8597, 'guru': 4049, 'late': 5142, 'overweight': 6432, 'bus': 1450, 'twitching': 9312, 'castle': 1593, 'updates': 9419, 'characteristics': 1682, 'inevitable': 4591, 'stretching': 8611, 'driver': 2888, 'index': 4562, 'opinions': 6337, 'irs': 4814, 'pc': 6570, 'ratan': 7308, 'pavilion': 6561, 'destruction': 2619, 'nuclear': 6203, 'lesbian': 5224, 'nowhere': 6191, 'specialist': 8422, '100': 5, 'gpa': 3957, 'dimples': 2705, 'puberty': 7148, 'narcissistic': 6016, 'stupidest': 8645, 'dates': 2443, 'castor': 1594, 'cse': 2335, 'coloured': 1931, 'herbalife': 4205, 'methamphetamine': 5718, 'older': 6294, 'german': 3866, 'guess': 4028, 'multiplayer': 5954, 'valuable': 9491, 'have': 4141, 'internship': 4721, 'creates': 2282, 'mistry': 5808, 'holocaust': 4284, 'lan': 5114, 'norms': 6160, 'generated': 3837, 'month': 5878, 'birthdays': 1200, 'transition': 9208, 'lack': 5097, 'teen': 8902, 'forgotten': 3670, 'convinced': 2170, 'declaration': 2487, 'mahindra': 5457, 'campus': 1519, 'dominated': 2828, 'puerto': 7156, 'bite': 1206, 'disabled': 2724, 'happy': 4112, 'benadryl': 1113, 'parliament': 6511, 'if': 4445, 'controller': 2151, 'monoxide': 5873, 'scientology': 7914, 'cdac': 1619, 'swallowing': 8767, 'protocol': 7110, 'mode': 5829, 'paint': 6467, 'surnames': 8747, 'infidelity': 4599, 'harbor': 4115, 'guns': 4046, 'breaking': 1357, 'criteria': 2307, 'relay': 7475, 'maturity': 5602, 'pepper': 6602, 'export': 3342, 'broadway': 1385, 'determined': 2631, 'circumstances': 1788, 'michael': 5735, 'gta': 4022, 'tamil': 8845, 'bed': 1073, 'pants': 6491, 'elements': 3064, 'verizon': 9550, 'switched': 8784, 'vcs': 9516, 'rankings': 7296, 'courts': 2245, 'deactivate': 2454, 'chihuahua': 1732, 'organize': 6378, 'thanksgiving': 8978, 'urine': 9446, 'transistor': 9206, 'kpop': 5078, 'spain': 8409, 'party': 6527, 'aluminium': 542, 'built': 1429, 'sanskrit': 7841, 'decided': 2481, 'consumption': 2115, 'commit': 1965, 'roast': 7687, 'viscosity': 9609, 'rolled': 7707, 'highschool': 4231, 'demat': 2538, 'treats': 9233, 'dandruff': 2423, 'clinton': 1842, 'cultures': 2353, 'formula': 3680, 'vellore': 9533, 'afterwards': 431, 'cyrus': 2402, 'student': 8632, 'wants': 9693, 'schools': 7906, 'mona': 5858, 'ao': 654, 'hire': 4251, 'reasonably': 7357, 'turbo': 9286, 'stretch': 8610, 'units': 9388, 'balloon': 974, 'bronze': 1391, 'editing': 3003, 'profitable': 7042, 'necessary': 6052, 'ranking': 7295, 'gallery': 3794, 'couples': 2237, 'announcement': 616, '5g': 177, 'aam': 237, 'netherlands': 6081, 'horcruxes': 4313, 'season': 7958, 'minnesota': 5782, 'ms': 5939, 'beta': 1134, 'lazy': 5168, 'rupees': 7781, 'vegetable': 9526, 'involving': 4778, 'forth': 3682, 'airtel': 476, 'council': 2226, 'insomnia': 4647, 'smiles': 8303, 'high': 4225, 'manage': 5493, 'dissolve': 2768, 'confess': 2057, 'how': 4345, 'testament': 8957, 'reason': 7355, 'jallikattu': 4866, 'functioning': 3765, 'theme': 8992, 'wwi': 9931, 'psychiatrist': 7137, 'diagnosed': 2651, 'attach': 841, 'container': 2122, 'lexus': 5239, 'catholic': 1602, 'extent': 3354, 'employers': 3109, 'arrange': 740, 'screens': 7935, 'limitations': 5281, 'broker': 1388, 'responsible': 7594, 'chin': 1738, 'boost': 1286, '3ds': 139, 'ethernet': 3228, 'provide': 7119, 'earn': 2955, 'lionel': 5298, 'maintenance': 5470, 'correctness': 2206, 'tvf': 9303, 'followers': 3638, 'romance': 7713, 'stays': 8548, 'hemisphere': 4199, 'avg': 904, 'router': 7743, 'declared': 2489, 'legacy': 5204, 'conversations': 2158, 'israelis': 4832, 'measuring': 5633, 'trends': 9240, 'latex': 5147, 'inspiration': 4649, 'detect': 2623, 'profiles': 7040, 'anthem': 633, 'lake': 5106, 'neither': 6070, 'perspective': 6640, 'oklahoma': 6291, 'politically': 6821, 'faculty': 3390, 'harmful': 4123, 'connecticut': 2071, 'torrents': 9137, 'proteins': 7108, 'projects': 7060, 'cristiano': 2306, 'bros': 1393, 'curved': 2379, 'idle': 4440, 'screen': 7933, 'punishment': 7171, 'immortality': 4497, 'objective': 6232, 'gasoline': 3812, 'icai': 4417, 'kim': 5034, 'molecules': 5852, 'ignores': 4451, 'emerging': 3088, 'hcl': 4147, 'pence': 6589, 'daniel': 2428, 'competitor': 1995, 'productive': 7029, 'ethnicity': 3232, 'opened': 6322, 'meal': 5621, 'debts': 2473, 'denied': 2555, 'stories': 8582, 'presidential': 6960, 'flirting': 3600, 'pharma': 6657, 'whom': 9812, 'elective': 3051, 'biochemistry': 1183, 'gates': 3814, 'corporate': 2200, 'iso': 4826, 'introduce': 4741, 'graduates': 3970, 'posters': 6879, 'normally': 6159, 'lung': 5415, 'smith': 8304, 'architectural': 714, 'its': 4849, 'appreciated': 690, 'opinion': 6336, 'pendrive': 6592, 'hunter': 4378, 'basis': 1023, 'plastic': 6760, 'ownership': 6438, 'gsm': 4018, 'expecting': 3318, 'attacked': 845, 'pr': 6905, 'lips': 5302, 'alternative': 537, 'racing': 7252, 'ltd': 5402, 'zone': 9994, 'cons': 2076, 'somewhat': 8369, 'plateau': 6762, 'phantom': 6655, 'mcdonald': 5617, 'starve': 8528, 'justified': 4968, 'bollywood': 1268, 'ias': 4411, 'beds': 1075, 'singing': 8226, 'motivational': 5911, 'fedex': 3466, 'rocks': 7697, 'often': 6281, 'blocking': 1233, 'kuwait': 5082, 'office': 6272, 'complain': 1999, 'retired': 7617, 'phases': 6662, 'abolishing': 253, 'apes': 660, 'initiate': 4620, 'mosquitoes': 5900, 'remote': 7498, 'diets': 2680, 'import': 4513, 'culture': 2352, 'makes': 5478, 'wonderful': 9877, 'wholesale': 9811, 'stable': 8494, 'aren': 720, 'mughal': 5947, 'skateboard': 8248, 'boxers': 1324, 'missile': 5798, 'bars': 1014, 'catch': 1598, 'apache': 657, 'next': 6102, 'swedish': 8774, 'nutritional': 6217, 'advertisement': 394, 'analyze': 584, 'cleaning': 1824, 'someone': 8364, 'chart': 1694, 'nominee': 6152, 'geography': 3861, 'pentium': 6599, 'backup': 945, 'bpo': 1332, 'departments': 2569, 'munnar': 5962, 'territory': 8949, 'prospect': 7096, 'bacon': 948, 'concentric': 2037, 'reactive': 7336, 'demonetise': 2546, 'oh': 6282, 'curse': 2375, 'yamaha': 9949, 'concentrate': 2034, 'moves': 5928, '00': 0, 'performance': 6614, 'constant': 2097, 'vp': 9660, 'clan': 1806, 'traveled': 9220, 'territories': 8948, 'finite': 3555, 'porsche': 6848, 'family': 3416, 'flashing': 3587, 'propose': 7091, 'star': 8514, 'located': 5341, 'notified': 6179, 'jammu': 4870, 'trap': 9216, 'sunburn': 8703, 'kitchen': 5050, 'camping': 1517, 'classical': 1814, 'projectile': 7058, 'none': 6154, 'consistent': 2092, 'ups': 9428, 'recipe': 7372, '2nd': 115, 'stereotypes': 8561, 'hitting': 4262, 'beasts': 1060, 'distant': 2770, 'massachisetts': 5568, 'dec': 2474, 'won': 9875, 'queries': 7222, 's4': 7791, 'lives': 5327, 'bored': 1296, 'matter': 5597, 'sum': 8699, 'significant': 8191, 'racism': 7253, 'san': 7834, 'capture': 1558, 'anybody': 646, 'children': 1736, 'scrum': 7944, 'pacific': 6451, 'mediocre': 5651, 'musicians': 5974, 'selective': 8000, 'fascism': 3434, 'figure': 3516, 'cbse': 1614, 'crash': 2272, 'differently': 2688, 'saree': 7847, 'jungle': 4960, 'electronic': 3059, 'mill': 5760, 'aryan': 764, 'motherboard': 5904, 'relieve': 7484, 'regardless': 7434, 'nifty': 6117, 'tale': 8835, 'geology': 3862, 'travelling': 9225, 'trapped': 9217, 'knowing': 5065, 'paranormal': 6502, 'realty': 7353, 'viruses': 9606, 'podcasts': 6795, 'discontinue': 2737, 'cause': 1607, 'capgemini': 1548, 'netflix': 6080, 'guitar': 4039, 'chose': 1756, 'switzerland': 8787, 'appear': 671, 'louis': 5388, 'soul': 8386, 'ipad': 4789, 'sundar': 8704, 'cutest': 2388, 'wanting': 9692, 'lyrics': 5425, 'iranian': 4802, 'nagar': 6001, 'lyric': 5424, 'embarrassing': 3083, 'tooth': 9122, 'interior': 4712, 'underwater': 9368, 'approved': 696, 'labor': 5091, 'rooms': 7723, 'bangalore': 990, '01': 2, 'explore': 3339, 'tragic': 9183, 'wanna': 9689, 'duck': 2919, 'events': 3250, 'technical': 8891, 'lucky': 5407, 'fairly': 3401, 'hedge': 4185, 'skype': 8264, 'offended': 6266, 'tattoo': 8866, 'proposition': 7093, 'iranians': 4803, 'toronto': 9134, 'teachers': 8883, 'tableau': 8815, 'internally': 4716, 'pisces': 6733, 'committing': 1968, 'coupon': 2238, 'satisfy': 7856, 'fills': 3528, 'cans': 1537, 'reproduction': 7540, 'holders': 4274, 'collapse': 1903, 'goddess': 3924, 'sentences': 8037, 'nift': 6116, 'setup': 8069, 'flame': 3585, 'rss': 7756, 'permissions': 6627, 'dog': 2816, 'remaining': 7490, 'ok': 6288, 'queen': 7220, 'philosophical': 6671, 'cinema': 1779, 'friendship': 3742, 'console': 2094, 'theory': 9001, 'czech': 2403, 'actresses': 342, 'ali': 502, 'brothers': 1395, 'strangers': 8591, 'awards': 914, 'joseph': 4935, 'ti': 9058, 'coworker': 2255, 'information': 4610, 'nikola': 6123, 'lokpal': 5357, 'bio': 1182, 'heaven': 4180, 'solicitor': 8349, 'expats': 3314, 'd3300': 2404, 'similar': 8205, 'talent': 8836, 'inflation': 4603, '50k': 170, '8gb': 216, 'cocaine': 1879, 'j7': 4855, 'ic': 4416, 'referring': 7417, 'ants': 641, 'mentioned': 5685, 'insect': 4639, '3rd': 141, 'burner': 1446, 'sale': 7820, 'exe': 3293, 'generations': 3840, 'isn': 4825, 'facilities': 3381, 'defeat': 2505, 'sour': 8394, 'soap': 8324, 'elect': 3047, 'enterprise': 3159, 'airplane': 470, 'developing': 2640, 'rappers': 7303, 'before': 1081, 'main': 5461, 'penny': 6597, 'mexicans': 5727, 'coffee': 1888, 'abiotic': 249, 'motorcycles': 5916, 'verbs': 9545, 'gave': 3817, 'competitors': 1996, 'liner': 5287, 'hilary': 4237, 'paralysis': 6499, 'promise': 7064, 'current': 2371, 'renewable': 7507, 'unite': 9386, 'panel': 6487, 'characters': 1683, 'scotch': 7924, 'canvas': 1540, 'caps': 1555, 'iconic': 4423, 'journey': 4941, 'teacher': 8882, 'act': 327, 'preserve': 6957, 'proportion': 7087, 'parents': 6506, 'claims': 1805, 'all': 510, 'neighbors': 6068, 'emergency': 3087, 'stronger': 8621, 'woman': 9872, 'mines': 5774, 'fall': 3406, '94': 224, 'bullied': 1438, 'conversion': 2159, 'affected': 413, 'capital': 1550, 'learner': 5187, 'find': 3543, 'sunny': 8709, 'smaller': 8292, 'could': 2224, 'whether': 9798, 'studio': 8636, 'abstract': 266, 'drunk': 2905, 'remainder': 7489, 'tertiary': 8954, 'three': 9045, 'mormons': 5894, 'members': 5669, 'lipids': 5301, 'area': 718, 'foreigner': 3661, 'maintained': 5468, 'liberty': 5249, 'irctc': 4805, 'prank': 6914, 'one': 6306, 'rubik': 7761, 'charge': 1684, 'fantastic': 3422, 'hashtag': 4131, 'arijit': 725, 'respiration': 7586, 'playlist': 6773, 'through': 9051, 'dushka': 2934, 'much': 5945, 'windows': 9835, 'smarter': 8295, 'karnataka': 4990, 'brakes': 1340, 'centers': 1637, 'multimedia': 5953, 'instant': 4663, 'recycle': 7400, 'gt': 4021, 'iits': 4466, '17th': 40, 'selena': 8001, 'revenue': 7629, 'frequency': 3727, 'unmarried': 9402, 'obsessed': 6240, 'atheists': 828, 'were': 9777, 'cut': 2386, 'hydrogen': 4393, 'detail': 2620, 'poison': 6803, '6s': 196, 'quantity': 7216, 'avocado': 906, 'eco': 2986, 'pimples': 6725, 'saltwater': 7826, 'thermodynamics': 9009, 'flux': 3621, 'too': 9118, 'judgement': 4951, 'introducing': 4743, 'had': 4067, 'class': 1811, '91': 221, 'acer': 309, 'regard': 7431, 'robbins': 7689, 'domestic': 2824, 'expire': 3332, 'grapes': 3986, 'sneeze': 8318, 'cleared': 1827, 'meditation': 5654, 'banner': 1000, 'vendor': 9535, 'hackers': 4064, 'inventions': 4760, 'dentistry': 2563, 'pool': 6829, 'footballer': 3650, 'xml': 9943, 'olive': 6297, 'myers': 5986, 'observe': 6237, 'closely': 1849, 'acca': 276, 'voted': 9654, 'suspicious': 8762, 'kindness': 5038, 'yield': 9961, 'surprising': 8750, 'relief': 7483, 'pm': 6789, 'mechatronics': 5640, 'nd': 6044, 'word': 9881, 'enabled': 3115, 'kapoor': 4981, '150': 30, 'rome': 7716, 'feel': 3471, 'laptops': 5130, 'anal': 577, 'asia': 771, 'cannot': 1535, 'local': 5339, 'seed': 7984, 'punjab': 7172, 'joints': 4926, 'retriever': 7620, 'marathi': 5527, 'gita': 3896, 'economic': 2989, 'skinny': 8257, 'safer': 7810, 'del': 2520, 'styles': 8647, 'ford': 3657, 'govt': 3956, 'loss': 5379, 'hundred': 4373, 'wears': 9750, 'math': 5587, 'naturally': 6032, 'pixel': 6739, 'rises': 7675, 'sleep': 8274, 'troops': 9262, 'assigned': 800, 'blame': 1220, 'lifespan': 5264, 'inside': 4643, 'coins': 1896, 'cracking': 2268, 'employ': 3104, 'homosexuality': 4297, 'exclusively': 3290, 'powerful': 6900, 'cet': 1655, 'floating': 3602, 'quitting': 7234, 'stops': 8577, 'referendum': 7414, 'containing': 2123, 'rope': 7728, 'wasting': 9715, 'educated': 3010, 'shaved': 8107, 'mike': 5752, 'mapping': 5525, 'geniuses': 3851, 'karl': 4987, 'scooter': 7915, 'sections': 7973, 'risks': 7678, 'rifle': 7662, 'everyday': 3257, 'singh': 8225, 'castes': 1591, 'sensor': 8032, 'modulation': 5842, 'launching': 5154, 'factors': 3386, 'here': 4206, 'surprise': 8748, 'hacked': 4062, 'rand': 7287, 'hollow': 4281, 'christianity': 1761, 'roles': 7704, 'aol': 655, 'shrimp': 8168, 'non': 6153, 'ceremonies': 1646, 'harry': 4124, 'entered': 3157, 'hiroshima': 4254, 'bent': 1124, 'verbal': 9543, 'insane': 4637, 'southern': 8399, 'genetics': 3846, 'sync': 8799, 'benefit': 1118, 'tone': 9113, 'laughing': 5151, 'strip': 8617, 'banks': 998, 'company': 1981, 'unconditional': 9358, 'toward': 9155, 'nsit': 6200, 'mercury': 5691, 'massage': 5570, 'concentrated': 2035, 'msc': 5940, 'passenger': 6531, 'goat': 3921, 'note': 6171, 'writing': 9922, 'naked': 6006, 'function': 3762, 'overdose': 6424, 'waterloo': 9722, 'shop': 8142, 'obc': 6227, 'chemistry': 1718, 'seem': 7989, 'acceptable': 284, 'rejected': 7462, 'aliens': 505, 'figures': 3517, 'freedom': 3716, 'cares': 1571, 'tech': 8890, 'laser': 5137, 'syria': 8806, 'gray': 3993, 'bruce': 1401, '1gb': 60, 'rumour': 7775, 'blue': 1248, 'coolpad': 2180, 'surgical': 8745, 'labrador': 5094, 'worldwide': 9897, 'dangers': 2427, 'fm': 3624, 'financially': 3541, 'apart': 658, 'appearing': 674, 'banking': 996, 'belong': 1108, 'uploaded': 9424, 'coincidence': 1895, '2005': 75, 'retirement': 7618, 'array': 742, 'mp3': 5933, 'oxford': 6441, 'rented': 7511, 'prefer': 6927, 'pronunciation': 7076, 'nail': 6004, 'stones': 8573, 'montana': 5877, 'aspects': 782, 'extreme': 3363, 'vehicle': 9530, 'islam': 4821, 'piercings': 6716, 'diarrhea': 2662, 'prerequisites': 6948, 'adventure': 391, 'essential': 3217, 'happiest': 4109, 'plot': 6779, 'nre': 6195, 'experienced': 3324, 'infosys': 4611, 'didnt': 2672, 'narrative': 6019, 'afghanistan': 422, 'photon': 6685, 'chromebook': 1766, 'heroin': 4212, 'due': 2921, 'hosted': 4327, 'conservation': 2083, 'designs': 2604, 'fire': 3559, 'roi': 7701, 'ambedkar': 553, 'programming': 7051, 'wbjee': 9737, 'companies': 1980, 'heating': 4179, 'integrated': 4684, 'sqrt': 8479, 'crop': 2315, 'demonetising': 2547, 'either': 3036, 'heart': 4173, 'j5': 4854, 'hates': 4137, 'narcissists': 6017, 'victory': 9573, 'largest': 5134, 'settings': 8065, 'democracy': 2540, 'unlocked': 9401, 'baba': 932, 'replacing': 7525, 'ies': 4444, 'preferable': 6928, 'same': 7829, 'address': 365, 'bikini': 1171, 'ph': 6654, 'nitric': 6135, '165': 37, 'metrics': 5724, 'worn': 9900, 'economies': 2993, 'papua': 6495, 'humour': 4371, 'slam': 8269, 'malware': 5489, 'walt': 9686, 'sims': 8213, 'subscriber': 8661, 'crying': 2331, 'preparing': 6947, 'lsd': 5401, 'subway': 8669, 'compound': 2021, 'bananas': 983, 'google': 3939, 'manually': 5516, 'industrial': 4586, 'mean': 5623, 'replies': 7527, 'mainland': 5463, 'expands': 3311, 'ships': 8128, 'mah': 5450, 'packers': 6456, 'llb': 5330, 'previously': 6972, 'establish': 3218, 'sixth': 8244, 'acrylic': 326, 'abdul': 246, 'happily': 4110, 'downloads': 2853, 'shoulders': 8157, 'selfies': 8005, 'decisions': 2485, 'connecting': 2072, 'list': 5308, 'supporting': 8729, 'lord': 5373, 'greenlit': 4002, 'maps': 5526, 'coefficient': 1887, 'spherical': 8444, 'fool': 3645, 'linkedin': 5294, 'monday': 5860, 'consequences': 2082, 'intelligence': 4689, 'gluten': 3914, 'engage': 3135, 'liberalism': 5246, 'final': 3535, 'comments': 1960, 'fault': 3446, 'indeed': 4558, 'bones': 1278, 'dry': 2907, 'tensile': 8936, 'mask': 5565, 'producers': 7025, 'vacuum': 9481, 'separately': 8041, 'zoom': 9997, 'goes': 3926, 'margin': 5531, 'tiles': 9071, 'med': 5641, 'bot': 1307, 'annual': 618, 'eye': 3368, 'bullies': 1439, 'gaining': 3790, 'chile': 1737, 'heading': 4156, 'panic': 6489, 'victoria': 9572, 'rats': 7319, 'classification': 1815, 'qr': 7203, 'required': 7550, 'input': 4635, 'candidate': 1529, 'shiva': 8132, 'desire': 2605, 'sized': 8246, 'bill': 1172, 'familiar': 3414, '2017': 87, 'showing': 8164, 'demerits': 2539, 'taxis': 8875, 'silver': 8203, 'bleeding': 1225, 'superstar': 8719, 'marketplace': 5544, 'mafia': 5439, 'lincoln': 5284, 'use': 9456, 'tablets': 8818, 'partition': 6522, 'dth': 2911, 'earphones': 2961, 'attempts': 852, 'boat': 1256, 'paintings': 6471, 'unaware': 9352, 'dramas': 2866, 'our': 6404, 'bites': 1207, 'ktm': 5080, 'disorder': 2756, 'gifted': 3884, 'tracker': 9170, 'fiverr': 3578, 'dividend': 2787, 'kgs': 5013, 'painting': 6470, 'earlier': 2953, 'steps': 8560, 'purifier': 7182, 'detroit': 2634, 'topics': 9127, 'pug': 7157, 'airbus': 466, 'argument': 723, 'recruit': 7390, 'waterproof': 9724, 'pic': 6701, 'post': 6874, 'cortex': 2212, 'acidic': 317, 'tribes': 9244, 'mr': 5936, 'premium': 6940, 'snapchat': 8314, 'westworld': 9782, 'architect': 712, 'types': 9318, 'reduction': 7410, 'false': 3412, 'layers': 5163, 'sem': 8012, 'associate': 805, 'sim': 8204, 'navy': 6037, 'amity': 564, 'foundation': 3692, 'curly': 2368, 'deploy': 2572, 'pirated': 6732, 'language': 5121, 'hdmi': 4151, 'terror': 8950, 'attack': 844, 'yu': 9981, 'crashing': 2275, 'ues': 9335, 'senses': 8028, 'paris': 6507, 'carriers': 1579, 'transforms': 9204, 'beam': 1051, 'candy': 1533, 'disadvantage': 2725, 's6': 7793, 'cats': 1604, 'monetary': 5861, 'profession': 7032, 'eventually': 3251, 'meth': 5717, 'discuss': 2747, 'fair': 3400, 'bad': 950, 'vinci': 9591, 'aim': 460, 'introvert': 4746, 'consumers': 2113, 'entity': 3166, 'firebase': 3561, 'excessive': 3284, 'detective': 2627, 'unusual': 9413, 'sublime': 8654, '29': 110, 'facebook': 3376, 'limit': 5280, 'seeds': 7985, 'entrepreneurial': 3169, 'text': 8964, 'photography': 6684, '100k': 9, 'viable': 9564, 'liberals': 5247, 'strict': 8612, 'educational': 3012, 'folks': 3634, 'restore': 7601, 'denominations': 2558, 'sends': 8024, 'usual': 9468, 'kilometers': 5032, 'aws': 921, '52': 172, 'elite': 3072, 'hrs': 4351, 'marijuana': 5533, 'source': 8395, 'critic': 2308, '1b': 59, 'anna': 613, 'scott': 7927, 'arthur': 753, 'ally': 524, 'healthier': 4166, 'arizona': 726, 'second': 7965, 'corgi': 2195, 'antimatter': 638, 'feedback': 3469, 'wise': 9853, 'acting': 328, 'dedicated': 2496, 'wallet': 9681, 'sms': 8310, 'noodles': 6155, 'marc': 5529, 'occupy': 6249, 'combined': 1942, 'angelo': 599, 'retail': 7610, 'biz': 1212, 'ions': 4785, 'rai': 7265, 'expanding': 3310, 'urjit': 9447, 'posture': 6883, 'posted': 6877, 'hype': 4395, 'asap': 766, 'arguments': 724, 'creep': 2294, 'im': 4477, 'code': 1883, 'ximb': 9941, 'boiler': 1264, 'lot': 5382, 'verify': 9549, 'pie': 6711, 'evolve': 3266, '5s': 179, 'blind': 1228, 'receiver': 7365, 'attain': 848, 'yale': 9948, 'filled': 3526, 'security': 7980, 'shippuden': 8127, 'ipu': 4797, 'relate': 7464, 'stick': 8564, 'arnab': 737, 'product': 7027, 'jerk': 4897, 'boss': 1305, '30': 117, 'consumer': 2112, 'liquids': 5305, 'produce': 7022, 'infj': 4602, '25000': 103, 'vermont': 9551, 'crown': 2323, 'system': 8809, 'jrf': 4945, 'maryland': 5563, 'serious': 8050, 'detector': 2628, 'interact': 4701, 'unable': 9350, 'inspires': 4653, 'duties': 2938, 'owners': 6437, 'extremely': 3364, 'signal': 8186, '12000': 18, 'winter': 9844, 'icici': 4420, 'frequencies': 3726, 'richer': 7652, 'nucleus': 6205, 'recruited': 7391, 'union': 9383, 'philippines': 6669, 'risk': 7677, 'recall': 7361, 'audition': 873, 'stupid': 8644, 'shampoo': 8092, 'smoked': 8306, 'invited': 4775, 'valdosta': 9485, 'whiskey': 9804, 'propaganda': 7079, 'choose': 1751, 'democrats': 2543, 'barely': 1009, 'academics': 274, 'along': 528, 'rainbow': 7271, 'shaped': 8095, 'chance': 1668, 'roshan': 7731, 'endorse': 3125, 'facial': 3380, 'reversible': 7632, 'actively': 336, 'contraction': 2139, 'bsc': 1405, 'preparations': 6944, 'fraction': 3704, 'headphones': 4159, 'uncle': 9356, 'ceiling': 1623, 'manhattan': 5506, 'caused': 1608, 'day': 2449, 'gigolo': 3886, 'string': 8615, 'secrets': 7971, 'lal': 5110, 'serve': 8052, 'deep': 2498, 'vegas': 9525, 'check': 1709, 'hypothetical': 4401, 'bits': 1209, 'lesser': 5227, 'viewing': 9584, 'space': 8403, 'gift': 3883, 'syrup': 8808, 'afford': 420, 'allow': 520, 'srk': 8485, 'genuinely': 3858, 'honda': 4298, 'chip': 1741, 'tube': 9279, 'radioactive': 7260, 'colonial': 1921, 'barriers': 1013, 'recurring': 7399, 'feminists': 3486, 'comfortable': 1951, 'teresa': 8941, 'watts': 9729, 'feeds': 3470, 'february': 3463, 'divided': 2786, 'infrared': 4612, 'employment': 3110, 'tricks': 9248, 'python': 7198, 'advice': 397, 'portrait': 6856, 'recover': 7386, 'active': 335, 'titanic': 9089, 'inverse': 4762, 'owner': 6436, 'amazing': 549, 'sports': 8466, 'exists': 3306, 'passionate': 6536, 'construction': 2104, 'accepted': 286, 'fighting': 3514, 'unit': 9385, 'kalam': 4975, 'conditioner': 2047, 'represented': 7538, 'stuffed': 8641, 'saturn': 7860, 'dynamic': 2946, 'pair': 6473, '62': 189, 'tonight': 9115, 'purchased': 7177, 'natives': 6029, 'table': 8814, 'henry': 4201, 'hydrochloric': 4392, 'textbook': 8965, 'repel': 7520, 'diving': 2788, 'beyond': 1141, 'bitcoins': 1205, 'patch': 6547, 'angeles': 598, 'price': 6974, 'exhibition': 3300, 'resources': 7581, 'unblock': 9354, 'adams': 350, 'intp': 4740, 'finland': 3556, 'support': 8725, 'comcast': 1944, 'worthless': 9908, 'shave': 8106, 'dos': 2841, 'biodiversity': 1185, 'wasn': 9712, 'teens': 8906, '6th': 197, 'interviews': 4733, 'contagious': 2119, 'proof': 7077, 'calcutta': 1494, 'dieting': 2679, 'flush': 3619, 'notation': 6170, 'forever': 3665, 'terrestrial': 8945, 'repercussions': 7521, 'wrist': 9917, 'training': 9189, 'investments': 4769, 'meaningful': 5625, 'opposed': 6342, 'libertarian': 5248, 'warehouse': 9697, 'camel': 1511, 'hsu': 4353, 'coaching': 1872, 'continents': 2133, 'isaac': 4816, 'correctly': 2205, 'unstable': 9409, 'savings': 7868, 'colleges': 1916, 'trains': 9190, 'intermediate': 4713, 'headache': 4154, 'leather': 5192, 'vu': 9665, 'verification': 9547, 'brick': 1368, 'shaft': 8084, 'alaska': 487, 'dataset': 2440, 'rails': 7267, 'first': 3568, 'fourth': 3699, 'taken': 8831, 'illness': 4472, 'blowing': 1245, 'bidding': 1162, 'landlord': 5118, 'jamaica': 4868, '15k': 33, 'bombing': 1272, 'earning': 2957, 'tape': 8854, 'favorite': 3450, 'masturbating': 5577, 'circumcised': 1786, 'tx': 9315, 'move': 5924, 'cto': 2342, 'defines': 2513, 'russian': 7786, 'affiliate': 416, 'brexit': 1367, 'seinfeld': 7995, 'raipur': 7273, 'without': 9861, 'simple': 8207, 'insights': 4645, 'analytical': 582, 'kisses': 5047, 'significantly': 8192, 'thanks': 8977, 'suitable': 8692, 'uttar': 9473, 'instances': 4662, 'listened': 5311, 'da': 2406, 'fears': 3458, 'crew': 2297, 'earphone': 2960, 'themes': 8994, 'peanuts': 6580, '45': 152, 'reader': 7340, 'parameters': 6500, '2x': 116, 'person': 6633, 'wheeler': 9792, 'collide': 1917, 'nostradamus': 6167, 'interacting': 4702, 'paid': 6463, 'resignation': 7569, 'eastern': 2972, 'bike': 1169, 'idiot': 4439, 'risky': 7679, 'madras': 5437, 'alien': 504, 'optimization': 6349, 'washington': 9711, 'quotes': 7241, 'titles': 9091, 'ww2': 9928, 'march': 5530, 'breakdown': 1354, 'then': 8996, 'licensed': 5257, 'sued': 8680, 'rectangle': 7396, 'stamp': 8505, 'bond': 1274, 'etl': 3234, 'printed': 6988, 'done': 2835, 'jewish': 4905, 'apps': 700, 'scripting': 7941, 'roller': 7708, 'studying': 8639, 'hai': 4071, 'returned': 7622, 'luxury': 5419, 'sure': 8735, 'metallurgy': 5711, 'voltmeter': 9646, 'unity': 9389, 'face': 3375, 'invaded': 4753, 'refresh': 7421, 'satellite': 7851, 'care': 1568, 'drown': 2899, '87': 214, 'succeed': 8670, 'csv': 2339, 'operate': 6327, 'identify': 4435, 'strain': 8587, 'minecraft': 5771, 'arranged': 741, 'periodic': 6621, 'india': 4563, 'nvidia': 6219, 'resorts': 7579, 'story': 8584, 'dm': 2798, 'transit': 9207, 'polite': 6818, 'election': 3049, 'outcomes': 6408, '5x': 182, 'serbia': 8046, 'bharat': 1145, 'arabs': 708, 'repeal': 7515, 'itch': 4844, 'handle': 4091, 'auckland': 866, 'sensation': 8026, 'responsibility': 7593, 'narcissist': 6015, 'grande': 3980, 'fb': 3453, 'thrown': 9055, 'audio': 871, 'foods': 3644, 'managers': 5498, 'technically': 8892, 'lenovo': 5218, 'enemies': 3127, 'mutually': 5982, 'allergies': 515, 'prophecies': 7085, 'baby': 934, 'potentially': 6890, 'funding': 3770, 'allowed': 521, 'florida': 3607, 'imaginary': 4481, 'masters': 5575, 'marshall': 5554, 'iphone': 4791, 'defence': 2507, 'outlet': 6412, 'bone': 1277, 'trillion': 9252, 'oz': 6446, 'dictionary': 2669, 'alternate': 536, 'mathematically': 5589, 'fathers': 3443, 'statutory': 8544, 'liquid': 5304, 'shia': 8120, '12k': 21, 'gs': 4017, 'paper': 6492, '2g': 112, 's5': 7792, 'into': 4737, 'added': 356, 'visited': 9615, 'pierced': 6714, 'stuck': 8631, 'understood': 9367, 'engineer': 3140, 'dob': 2802, 'guidance': 4032, 'static': 8535, 'celebration': 1626, 'na': 5998, 'enlightenment': 3151, 'leonardo': 5223, 'minute': 5787, 'rocket': 7696, 'throne': 9049, 'develop': 2636, 'centre': 1639, 'continuously': 2137, 'atmosphere': 834, 'nobody': 6144, 'autobiography': 890, 'mint': 5786, 'died': 2674, 'yeast': 9955, '2003': 73, 'placements': 6744, 'centres': 1640, 'molar': 5847, 'batman': 1030, 'nodes': 6146, 'pharmacy': 6660, 'accuracy': 304, 'demographic': 2544, 'disc': 2733, 'weaknesses': 9743, '66': 194, 'million': 5762, 'increased': 4553, 'tune': 9284, 'seven': 8070, 'modern': 5838, 'forex': 3666, 'ideally': 4432, 'pressure': 6963, 'game': 3798, 'man': 5492, 'subscribers': 8662, 'accessories': 290, 'melt': 5666, 'secondary': 7966, 'application': 681, 'particular': 6519, 'verb': 9542, 'perfectly': 6612, 'separate': 8039, 'retire': 7616, 'sam': 7827, 'prejudice': 6934, 'pit': 6734, 'doesnt': 2815, 'fertile': 3489, 'destiny': 2615, 'aluminum': 543, 'cookie': 2174, 'california': 1496, 'fate': 3441, 'patriotism': 6557, 'cable': 1476, 'hospitality': 4324, 'discrete': 2745, 'penetration': 6593, 'warriors': 9706, 'lecture': 5196, 'indicate': 4567, 'fried': 3738, 'darkness': 2432, 'mg': 5729, 'anus': 642, 'typical': 9319, 'stylish': 8648, 'padukone': 6460, 'blacks': 1218, 'adobe': 379, 'transplant': 9213, 'westeros': 9781, 'walk': 9675, '49': 156, 'mathematical': 5588, 'carb': 1561, 'tissue': 9087, 'dropping': 2897, 'norway': 6163, 'poorly': 6833, 'ride': 7657, 'obsession': 6241, 'infty': 4614, 'peer': 6584, 'physical': 6693, 'converter': 2162, 'feminist': 3485, 'transferred': 9198, 'fixed': 3580, 'sorting': 8385, 'relation': 7467, 'sometime': 8367, 'smartphones': 8298, 'better': 1136, 'cambridge': 1509, 'rain': 7270, 'ndtv': 6046, 'oculus': 6257, 'theta': 9013, 'variety': 9509, 'eaten': 2975, 'ii': 4454, 'taboo': 8819, '19': 45, 'shoulder': 8156, 'garage': 3805, 'fired': 3562, 'absorb': 265, 'negotiate': 6063, 'kills': 5030, 'rise': 7674, 'implants': 4506, 'drive': 2886, 'rated': 7310, 'doubt': 2847, 'commission': 1964, 'scientists': 7913, 'chords': 1755, 'withdrawal': 9859, 'karate': 4985, 'testing': 8960, 'admit': 377, 'superman': 8715, 'require': 7549, 'dan': 2419, 'steam': 8553, 'trivia': 9259, 'missions': 5802, 'dictator': 2667, 'amateur': 548, 'spy': 8475, '55': 174, 'polymer': 6828, 'rifles': 7663, 'people': 6600, 'ripple': 7672, 'sequel': 8044, 'sites': 8238, 'republic': 7541, 'calculate': 1488, 'america': 559, 'bald': 967, 'palo': 6482, 'ngo': 6106, 'italy': 4843, 'syntax': 8804, 'organ': 6370, 'taxation': 8871, 'indian': 4564, 'oxidation': 6442, 'assassin': 793, 'wd': 9738, 'assault': 795, 'rukh': 7767, 'skilled': 8253, 'reading': 7342, 'alert': 495, 'mba': 5611, 'cupcakes': 2357, 'cruz': 2329, 'pizza': 6740, 'overlay': 6425, 'movements': 5927, 'present': 6954, 'coldest': 1901, 'wales': 9674, 'completion': 2007, 'sharp': 8104, 'sisters': 8235, 'tried': 9249, 'hiv': 4263, 'hsc': 4352, 'unhappy': 9377, 'seasons': 7959, 'finally': 3537, 'listening': 5312, 'ready': 7344, 'edition': 3004, 'baleno': 970, 'properties': 7083, 'motivated': 5908, 'midnight': 5748, 'garden': 3807, 'contractor': 2141, 'mamata': 5490, 'powers': 6902, 'trend': 9238, 'asexual': 768, 'species': 8425, 'unhealthy': 9378, 'good': 3937, 'vomiting': 9651, '1tb': 65, 'mirrors': 5790, 'empire': 3102, 'diagram': 2653, 'customs': 2385, 'alone': 527, 'nothing': 6174, 'mca': 5616, 'yesterday': 9959, 'jane': 4872, 'modify': 5841, 'skyrim': 8265, 'origins': 6391, 'wavelength': 9731, 'authors': 886, 'hungry': 4376, 'menstrual': 5680, 'ufos': 9338, 'conference': 2056, 'clothes': 1854, 'mentally': 5683, 'hamilton': 4084, 'downvote': 2855, 'rib': 7648, 'ek': 3039, 'climbing': 1839, 'patel': 6548, 'routing': 7747, 'pradesh': 6912, 'seals': 7952, 'radius': 7261, 'dreaming': 2875, 'starting': 8524, 'depressed': 2577, 'thriller': 9047, 'doors': 2839, 'gmat': 3916, 'stark': 8519, '16gb': 38, 'intolerant': 4739, 'mate': 5583, 'enlightened': 3150, 'campaigns': 1516, 'article': 754, 'immortal': 4496, 'jesus': 4900, 'arabian': 706, 'reasoning': 7358, 'cnn': 1867, 'usage': 9452, 'shakes': 8088, 'offline': 6279, 'irrational': 4811, 'israeli': 4831, 'nucleic': 6204, 'bank': 994, 'play': 6768, 'ibps': 4414, 'violate': 9593, 'inspired': 4652, 'taurus': 8869, 'liver': 5326, 'otherwise': 6401, 'mahabharat': 5451, 'hilarious': 4236, 'dancing': 2422, 'indore': 4583, 'lollipop': 5358, 'evolving': 3268, 'stated': 8531, 'durable': 2931, 'biting': 1208, 'psychiatric': 7136, '1a': 58, 'sahara': 7813, 'virus': 9605, 'overthinking': 6431, 'fishing': 3572, 'dna': 2799, 'wide': 9816, 'showed': 8161, 'etiquette': 3233, 'preventing': 6970, 'grams': 3978, 'proposed': 7092, 'aware': 915, 'raw': 7322, 'organism': 6374, 'iphones': 4792, 'ultimate': 9346, 'impact': 4500, 'buying': 1468, 'somewhere': 8370, 'stainless': 8500, 'distinguish': 2774, 'uranium': 9440, 'electrons': 3061, 'whats': 9788, 'fc': 3455, 'aka': 480, 'iaf': 4410, 'alter': 535, 'arch': 711, 'approx': 697, 'construct': 2102, 'lonely': 5361, 'agreement': 451, 'esteem': 3221, 'shed': 8111, 'h1b': 4057, 'both': 1308, 'reserve': 7558, 'dollar': 2819, 'taller': 8844, 'journal': 4936, 'classroom': 1818, 'homemade': 4289, 'runs': 7779, 'above': 256, 'hindu': 4245, 'minded': 5767, 'ammonium': 567, 'loving': 5395, 'utah': 9471, 'cancel': 1525, 'healing': 4163, 'puppies': 7174, 'despite': 2612, 'greatest': 3997, 'expat': 3313, 'automotive': 897, 'migration': 5751, 'dc': 2452, 'craziest': 2276, '17': 39, 'jan': 4871, 'airsoft': 475, 'noida': 6147, 'scalp': 7878, 'min': 5765, 'singularity': 8229, 'decay': 2477, 'prone': 7073, 'concentration': 2036, 'november': 6187, 'matches': 5581, 'upsc': 9429, 'answering': 627, 'diagrams': 2654, 'mystery': 5994, 'experiments': 3329, 'perceived': 6606, 'dress': 2877, 'delhi': 2527, 'widely': 9817, 'pee': 6582, 'ccna': 1616, 'dy': 2942, 'casino': 1588, 'feed': 3468, 'nov': 6183, 'choices': 1748, 'major': 5471, 'incorrect': 4551, 'priyanka': 7001, 'lies': 5262, 'telecommunication': 8910, 'nicest': 6110, 'entry': 3174, 'agree': 449, 'till': 9072, 'harsha': 4125, 'quiet': 7231, 'ben': 1112, 'slack': 8268, 'zee': 9984, 'agra': 448, 'sandwich': 7837, 'click': 1832, '39': 136, 'exam': 3272, 'costs': 2219, 'rama': 7282, 'fiscal': 3569, 'asleep': 779, 'mum': 5959, 'initiative': 4622, 'downsides': 2854, 'pdf': 6574, 'zombie': 9993, 'attracted': 861, 'electrical': 3055, 'airlines': 469, 'customer': 2382, 'graphics': 3989, 'networking': 6083, 'slogans': 8285, 'birth': 1198, 'boobs': 1280, 'border': 1293, 'curd': 2362, 'somebody': 8362, 'martin': 5557, 'aspirants': 786, 'deck': 2486, 'premarital': 6936, 'django': 2797, 'harley': 4121, 'hollywood': 4282, 'captaincy': 1557, 'alpha': 531, 'solver': 8359, 'nhl': 6108, 'europeans': 3242, 'sir': 8232, 'hadn': 4068, 'alliance': 516, 'abdominal': 245, 'mile': 5754, 'publicly': 7152, 'medals': 5643, 'kilograms': 5031, 'mixed': 5814, 'calories': 1505, '1000rs': 8, 'rapidly': 7301, 'blamed': 1221, 'old': 6293, 'shows': 8166, 'volleyball': 9642, 'neutrality': 6089, 'sponsors': 8462, 'ten': 8930, 'chats': 1699, 'simplify': 8210, 'butter': 1460, 'cheats': 1708, 'studios': 8637, 'deprivation': 2580, 'consume': 2110, 'lover': 5392, 'tennessee': 8933, 'ct': 2340, '50ae': 169, 'voicemail': 9635, 'potatoes': 6887, 'date': 2441, 'friend': 3739, '35k': 130, 'stream': 8598, 'boundary': 1318, 'nervous': 6076, 'columbus': 1934, 'meeting': 5658, 'thor': 9032, 'nickname': 6113, 'cell': 1629, 'anytime': 651, 'htc': 4354, 'corporation': 2201, 'spacex': 8408, 'distribute': 2777, 'leeds': 5201, 'chandigarh': 1670, 'trademark': 9175, 'influences': 4606, 'wealthy': 9745, 'issuing': 4838, 'hz': 4404, 'erotic': 3204, 'rescue': 7554, 'spend': 8439, 'music': 5971, 'cover': 2248, 'privilege': 6999, 'freezing': 3723, 'masood': 5566, 'commands': 1958, 'voltage': 9644, 'nokia': 6149, 'crystal': 2333, 'vader': 9482, 'associates': 807, 'comma': 1956, 'alumni': 544, 'vampires': 9498, 'strongest': 8622, 'encountered': 3117, 'bridges': 1371, 'guide': 4033, 'ml': 5819, 'payroll': 6567, 'nights': 6121, '15000': 32, 'developer': 2638, 'promoting': 7070, 'shakespeare': 8089, 'alike': 507, 'efficiency': 3022, 'looked': 5366, 'classic': 1813, 'drain': 2863, 'counts': 2233, 'dravid': 2867, 'slot': 8286, 'voters': 9656, 'marathon': 5528, '2019': 89, 'meter': 5715, '20': 67, 'clear': 1825, '68': 195, 'upvote': 9433, 'pay': 6562, 'heavier': 4181, 'presently': 6956, 'severity': 8073, 'rates': 7311, 'houses': 4342, 'icons': 4424, 'cbi': 1613, 'battlefield': 1036, 'shivaji': 8133, 'georgia': 3865, 'photographs': 6683, 'given': 3899, 'impressions': 4522, '26': 107, 'alcohol': 492, 'proposal': 7089, 'emails': 3081, 'administrator': 373, 'males': 5486, 'uses': 9463, 'uploading': 9425, '12': 16, 'critical': 2309, 'cv': 2392, 'hang': 4098, '04': 3, 'currency': 2370, 'opine': 6335, 'louisiana': 5389, 'traffic': 9182, 'fastest': 3438, 'deviation': 2643, 'leaves': 5194, 'interview': 4729, 'sleeping': 8275, 'player': 6770, 'estimate': 3222, 'slightly': 8280, 'removal': 7500, 'original': 6387, 'instruments': 4675, 'delta': 2535, 'vampire': 9497, 'processors': 7018, 'tradition': 9179, 'big': 1164, 'saying': 7871, 'ranked': 7294, 'religious': 7487, 'hanging': 4099, 'coworking': 2256, 'expected': 3317, 'nmims': 6139, 'awkward': 920, 'beer': 1079, 'smokers': 8307, 'insurance': 4677, 'proud': 7114, 'bamboo': 980, 'communicate': 1972, 'dp': 2857, 'daenerys': 2409, 'blocked': 1232, 'potus': 6893, 'monk': 5869, 'heterosexual': 4215, 'laws': 5158, 'incoming': 4549, 'jill': 4909, 'saddest': 7805, 'documentary': 2810, 'passed': 6530, 'saturated': 7858, 'sachin': 7799, 'chef': 1714, 'supernatural': 8717, 'as': 765, 'asked': 776, 'rachel': 7250, 'cc': 1615, 'forget': 3667, 'audit': 872, 'sort': 8384, 'dont': 2837, 'clans': 1807, 'renting': 7512, 'mph': 5935, 'retrieve': 7619, 'branding': 1345, 'past': 6542, 'lead': 5173, 'beard': 1056, 'curvature': 2377, 'believed': 1101, 'empires': 3103, 'suggest': 8685, 'hiding': 4222, 'prague': 6913, 'lectures': 5197, 'promote': 7068, 'radeon': 7256, 'respiratory': 7587, 'reply': 7528, 'third': 9028, 'parliamentary': 6512, 'improving': 4528, 'budget': 1417, 'format': 3673, 'meetup': 5661, 'money': 5863, 'ordinary': 6367, 'impacted': 4501, 'btech': 1409, 'bikes': 1170, 'clouds': 1857, 'blackberry': 1216, 'projection': 7059, 'interesting': 4708, 'dad': 2407, '3000': 119, 'dense': 2559, 'charity': 1690, 'mixture': 5818, 'miles': 5756, 'morally': 5889, 'profit': 7041, 'mnc': 5822, 'imt': 4530, 'abused': 269, 'gives': 3900, 'rooting': 7726, 'atm': 833, 'digestive': 2695, 'eg': 3027, 'privileges': 7000, 'monroe': 5874, 'wildlife': 9826, 'trinity': 9254, 'obesity': 6229, 'buddhists': 1416, 'thailand': 8974, 'dislike': 2754, 'sad': 7804, 'iim': 4458, 'faith': 3404, 'ey': 3367, 'booking': 1283, 'flowers': 3611, 'partners': 6524, 'deeper': 2499, 'prison': 6993, 'crimes': 2302, 'track': 9168, 'firing': 3565, 'band': 984, 'ways': 9736, 'made': 5435, 'desktop': 2609, 'prostitutes': 7101, 'supply': 8724, 'instead': 4665, 'knife': 5061, 'procedures': 7011, 'fridge': 3737, 'imperialism': 4505, 'plants': 6758, 'significance': 8190, 'medicine': 5648, 'task': 8860, 'revive': 7637, 'mistakes': 5806, 'sentence': 8036, 'extraction': 3360, 'rough': 7738, 'wipro': 9846, 'lump': 5413, 'working': 9889, 'nigeria': 6118, 'kentucky': 5001, 'palms': 6481, 'plane': 6749, 'sights': 8183, 'merge': 5692, 'black': 1215, 'platform': 6764, 'ill': 4468, 'chemical': 1716, 'economy': 2995, 'jayalalithaa': 4884, 'indicative': 4569, 'wan': 9688, 'purple': 7183, 'pattern': 6558, 'ai': 456, 'dealer': 2462, 'argentina': 721, 'bat': 1026, 'ties': 9066, 'minimize': 5777, 'contact': 2116, 'workouts': 9892, 'iii': 4456, 'steering': 8555, 'respectively': 7585, 'comic': 1953, 'seal': 7950, 'descriptive': 2592, 'verified': 9548, 'public': 7150, 'arrow': 749, 'character': 1681, 'dongle': 2836, 'cng': 1866, 'operational': 6331, 'sun': 8702, 'sf': 8081, 'fantasize': 3421, 'neurons': 6086, 'got': 3947, 'mini': 5775, 'developed': 2637, 'films': 3532, '57': 175, 'intel': 4686, 'tougher': 9148, 'queue': 7226, 'supposed': 8732, 'registration': 7444, 'theater': 8984, 'chrome': 1765, 'feelings': 3473, 'bane': 987, 'sky': 8262, 'predicted': 6923, 'mind': 5766, 'negative': 6061, 'federal': 3465, 'crust': 2328, 'emperor': 3101, 'sikh': 8196, 'creative': 2285, 'goldman': 3932, 'colleagues': 1907, 'reducing': 7409, 'satellites': 7852, 'touches': 9145, 'loading': 5334, 'mitosis': 5811, 'excited': 3286, 'shares': 8099, 'knowledgeable': 5067, 'echo': 2984, 'cheese': 1713, 'persian': 6632, 'drift': 2880, 'cisco': 1789, 'allied': 517, 'farewell': 3426, 'longer': 5363, 'fries': 3744, 'calculation': 1491, 'hostels': 4329, 'tvs': 9304, 'loans': 5337, 'glucose': 3912, 'marxism': 5561, 'resonance': 7578, 'compressor': 2026, 'citizenship': 1793, 'consistently': 2093, 'drives': 2890, 'kansas': 4979, 'painful': 6465, 'origin': 6386, 'medium': 5655, 'activities': 337, 'ayurvedic': 924, 'radio': 7259, 'magazine': 5440, 'intuition': 4750, 'convex': 2165, 'named': 6008, 'ear': 2952, 'baratheon': 1006, 'oily': 6287, 'immediately': 4489, 'nexus': 6103, 'dirt': 2720, 'creepy': 2296, 'closet': 1852, 'globally': 3908, 'cool': 2177, 'credible': 2290, 'jumping': 4958, 'dolphins': 2821, 'burning': 1447, 'expectations': 3316, 'killing': 5029, 'le': 5172, 'jeff': 4894, 'tracking': 9171, 'gd': 3821, 'nro': 6197, 'pearl': 6581, 'boiling': 1265, 'rico': 7655, '110': 14, 'swing': 8781, 'gym': 4054, 'kingdoms': 5043, 'dancer': 2421, 'appeal': 670, 'aviation': 905, 'hard': 4116, 'station': 8537, 'baking': 962, 'hitler': 4260, 'temporary': 8929, 'vacations': 9479, 'acts': 343, 'xp': 9944, 'paragraph': 6497, 'gas': 3810, 'puppy': 7175, 'benz': 1125, 'originated': 6390, '50000': 167, 'deloitte': 2534, 'extensions': 3353, 'nougat': 6181, 'transform': 9201, 'spring': 8473, 'advance': 387, '7000': 200, 'plug': 6781, '12v': 23, 'julian': 4955, 'affiliated': 417, 'sole': 8347, 'renaissance': 7505, 'dutch': 2936, 'artificial': 757, 'luck': 5405, 'apartment': 659, 'reminder': 7497, 'basin': 1022, 'bcg': 1044, 'volte': 9645, 'melting': 5667, 'simplest': 8208, '4s': 161, 'git': 3895, '64': 191, 'ecuador': 2997, 'extinction': 3357, 'ln': 5332, 'program': 7045, 'motor': 5914, 'hebrew': 4184, 'improve': 4524, 'external': 3355, 'temple': 8926, 'decade': 2475, 'confirmed': 2064, 'miui': 5812, 'prepare': 6945, 'dangerous': 2426, 'norm': 6157, 'filters': 3534, 'interpretation': 4724, 'probability': 7004, 'koreans': 5076, 'workout': 9891, 'refused': 7427, '600': 184, 'ma': 5426, 'liquor': 5306, 'booth': 1290, 'fiancé': 3502, 'mandarin': 5502, 'with': 9857, 'glasses': 3905, 'proxy': 7127, 'more': 5891, '350': 129, 'smoke': 8305, 'earthing': 2964, 'search': 7953, 'hop': 4311, 'monopoly': 5872, 'procrastinating': 7019, 'cheque': 1720, 'japan': 4874, 'bring': 1376, 'fortune': 3683, 'metallic': 5710, '98': 228, 'fibonacci': 3504, 'senate': 8019, 'wife': 9819, 'rna': 7683, 'mythology': 5996, 'buys': 1469, 'telephone': 8913, 'premiere': 6939, 'eee': 3016, 'east': 2971, 'notebook': 6172, 'today': 9096, 'mbti': 5614, '500k': 168, 'kazakhstan': 4994, 'cgl': 1657, 'primary': 6979, 'motivation': 5910, 'ug': 9339, 'gold': 3930, 'less': 5226, 'indonesian': 4581, 'vehicles': 9531, 'inventory': 4761, 'hurricane': 4380, 'xiaomi': 9939, 'personal': 6634, 'cheat': 1704, 'billions': 1177, 'unrequited': 9406, 'outgoing': 6411, 'rape': 7299, '30s': 122, 'upset': 9430, 'icpc': 4425, 'cpec': 2260, '1980s': 54, 'cure': 2363, 'kali': 4976, 'talking': 8841, 'order': 6363, '20s': 92, 'warrior': 9705, 'height': 4186, 'examples': 3276, 'chips': 1742, 'board': 1253, 'born': 1299, 'meditate': 5652, 'nutrition': 6216, 'horses': 4322, 'pyramid': 7196, 'numbers': 6211, 'wii': 9821, 'cpt': 2262, 'souls': 8388, 'dvd': 2940, 'alan': 485, 'proper': 7081, 'usmle': 9465, 'neck': 6053, 'campaign': 1515, 'tank': 8851, 'interface': 4710, 'differential': 2685, 'victim': 9570, 'effort': 3025, 'ovulation': 6433, 'aggressive': 443, 'achievements': 314, 'coder': 1884, '251': 104, 'certain': 1649, 'reasonable': 7356, 'odd': 6258, 'although': 539, 'algeria': 499, 'organization': 6376, 'started': 8522, 'walkers': 9678, 'brief': 1372, 'surgeons': 8743, 'semantic': 8013, 'imports': 4518, 'except': 3280, 'nitrate': 6134, 'nuts': 6218, 'inspirational': 4650, 'increase': 4552, 'guard': 4026, 'october': 6256, 'performed': 6615, 'electron': 3058, 'functions': 3766, 'patience': 6553, 'on': 6304, 'bhutan': 1153, 'andhra': 593, 'weights': 9767, 'communism': 1975, 'bigg': 1165, 'reacts': 7338, 'leonard': 5222, 'possessions': 6868, 'sprint': 8474, 'boarding': 1254, 'regional': 7438, 'subject': 8651, 'beneficial': 1117, 'struggling': 8629, 'potty': 6892, 'volcano': 9638, 'timeline': 9075, 'objectives': 6233, 'king': 5041, 'communication': 1973, 'profile': 7039, 'certified': 1654, 'rabbits': 7245, 'now': 6189, 'speeds': 8435, 'laziness': 5167, '93': 223, 'sufficient': 8683, 'beliefs': 1099, 'nissan': 6131, 'complaints': 2001, 'network': 6082, 'acne': 320, 'institutes': 4668, 'upto': 9432, 'impossible': 4519, 'need': 6055, 'investors': 4771, 'mississippi': 5803, 'dilute': 2701, 'gauge': 3816, 'gotten': 3949, 'dehradun': 2519, 'held': 4188, 'effects': 3021, '90': 218, 'behavior': 1090, 'evidence': 3262, 'psychopath': 7144, 'suggestion': 8687, 'reactions': 7335, 'gis': 3894, 'gujarat': 4040, 'deployment': 2573, 'stay': 8545, 'hybrid': 4389, 'maker': 5476, 'tibet': 9059, 'case': 1584, 'aging': 445, 'quran': 7243, 'convert': 2160, 'church': 1772, 'android': 595, 'context': 2130, 'colour': 1930, 'bankruptcy': 997, 'substitute': 8666, 'brake': 1339, 'complete': 2003, 'exploration': 3338, 'indira': 4575, 'spaces': 8405, 'secede': 7964, 'ads': 383, 'described': 2588, 'boson': 1304, '2016': 86, 'ignorant': 4448, 'investing': 4767, 'stroke': 8619, 'satisfied': 7855, 'vodka': 9633, 'css': 2337, 'airport': 472, 'zoology': 9996, 'pursue': 7186, 'temperature': 8922, 'games': 3799, 'jersey': 4899, 'intercourse': 4705, 'opportunity': 6340, 'ctc': 2341, '3s': 142, '34': 127, 'horizon': 4314, 'action': 329, 'supplement': 8720, 'museum': 5968, 'potato': 6886, 'success': 8671, 'sacrifice': 7803, 'prostate': 7099, 'toughest': 9149, 'deny': 2566, 'trips': 9257, 'violations': 9595, 'available': 899, 'expressions': 3349, 'toe': 9097, 'probable': 7005, 'hash': 4130, 'initiated': 4621, 'ideal': 4431, 'john': 4919, 'led': 5198, 'protection': 7105, 'xcode': 9937, 'rajya': 7280, 'leading': 5177, 'stephen': 8559, 'discipline': 2735, 'plagiarism': 6746, 'length': 5217, 'rs': 7755, 'radical': 7258, 'bean': 1053, 'homosexual': 4296, 'tutorial': 9299, 'immigrate': 4492, 'leaked': 5182, '50': 164, 'portugal': 6859, 'subtitles': 8668, 'applicable': 679, 'difficulties': 2690, 'tag': 8824, 'think': 9024, 'visa': 9607, 'details': 2622, 'reserves': 7560, 'nice': 6109, 'fairy': 3403, 'automatic': 893, 'credentials': 2289, 'fade': 3392, 'advanced': 388, 'murdered': 5964, 'viewers': 9583, 'calculating': 1490, 'submit': 8657, 'odi': 6260, 'keyword': 5010, 'publishing': 7155, 'rowling': 7749, 'protons': 7112, 'api': 661, 'jailbreaking': 4861, 'sorry': 8383, 'explorer': 3340, 'wave': 9730, 'photographers': 6681, 'stands': 8512, 'accountancy': 299, 'cow': 2254, 'various': 9510, 'wwii': 9932, 'betting': 1137, 'firewall': 3564, 'invitation': 4773, 'ibm': 4413, 'integers': 4681, 'circles': 1781, 'dialogue': 2657, 'gandalf': 3802, 'pregnant': 6933, 'abandon': 241, 'workflow': 9888, 'multi': 5952, 'egyptian': 3032, 'commerce': 1961, 'welcomed': 9771, 'investigation': 4766, 'deer': 2503, 'expression': 3348, 'fifa': 3509, 'absence': 261, 'solar': 8343, 'farmer': 3429, 'inexpensive': 4592, 'lane': 5120, 'grab': 3961, '2004': 74, 'modified': 5840, 'single': 8227, 'hook': 4309, 'panels': 6488, 'fewer': 3498, 'goi': 3927, 'where': 9796, 'television': 8916, 'ghz': 3877, 'teenager': 8904, 'iitian': 4463, 'summary': 8700, '28': 109, 'decreases': 2494, 'font': 3641, 'leads': 5178, 'budapest': 1412, 'hatred': 4139, 'differentiation': 2687, 'christian': 1760, 'within': 9860, 'grade': 3964, 'shots': 8153, 'graduation': 3972, 'actions': 330, 'art': 750, 'torque': 9135, 'two': 9314, 'near': 6047, 'overpriced': 6427, 'supporter': 8727, 'neft': 6060, 'symbols': 8797, 'advocate': 404, 'file': 3519, 'cellular': 1632, 'messed': 5702, 'synonyms': 8803, 'fluency': 3615, 'cycles': 2397, 'cooling': 2179, 'register': 7441, 'apnea': 664, 'pardon': 6503, 'professionals': 7035, 'de': 2453, 'paints': 6472, 'avail': 898, 'malt': 5488, 'gap': 3804, 'gambler': 3796, 'almost': 525, 'sc': 7874, 'pill': 6720, 'bound': 1316, 'calling': 1501, 'snake': 8311, 'launched': 5153, 'journalism': 4937, 'badass': 951, 'thread': 9040, 'fraud': 3714, 'casting': 1592, 'ravi': 7321, 'december': 2478, 'laboratory': 5092, 'steve': 8562, 'changes': 1675, 'county': 2234, 'resolutions': 7576, 'neutron': 6090, 'adjust': 370, 'eating': 2976, 'ridge': 7659, 'vancouver': 9500, 'superpower': 8718, 'nagasaki': 6002, 'flag': 3582, 'remains': 7491, 'il': 4467, 'military': 5757, 'consist': 2091, 'scheduled': 7896, 'study': 8638, 'definition': 2515, 'hours': 4339, 'spell': 8436, 'speaker': 8416, 'most': 5901, 'backing': 941, 'via': 9563, 'cutting': 2391, 'actress': 341, 'originally': 6388, 'targaryen': 8856, 'searches': 7955, 'beach': 1048, 'spontaneous': 8464, 'scoring': 7921, 'another': 624, 'holiday': 4279, 'conduct': 2052, 'valentine': 9487, 'lakes': 5107, 'grads': 3967, 'vimy': 9590, 'speed': 8433, 'icloud': 4421, 'einstein': 3035, 'bath': 1028, 'masturbate': 5576, 'bible': 1157, 'requirements': 7552, 'monkeys': 5871, 'adult': 385, 'aloe': 526, 'seminar': 8018, 'zapata': 9982, 'pages': 6462, 'acceleration': 278, 'peoples': 6601, 'repeated': 7517, 'hall': 4081, 'emulator': 3113, 'reward': 7642, 'lots': 5384, 'rat': 7307, 'pte': 7146, 'governs': 3955, 'karma': 4988, 'shape': 8094, 'install': 4657, 'tires': 9085, 'turbulence': 9287, 'clever': 1831, 'eyes': 3371, 'theoretically': 8999, 'equipped': 3193, 'brisbane': 1379, 'clothing': 1855, 'patients': 6555, 'et': 3224, 'transactions': 9196, 'intellectual': 4687, 'metro': 5725, 'broken': 1387, 'vijay': 9586, 'vaping': 9503, 'underrated': 9364, 'popularity': 6838, 'emotional': 3097, 'mun': 5961, 'hips': 4250, 'streaming': 8599, 'meant': 5628, 'professionally': 7034, 'promoted': 7069, 'kashmir': 4991, 'easier': 2968, 'lose': 5375, 'stock': 8568, 'desperately': 2611, 'busy': 1456, 'rank': 7293, 'greater': 3996, 'lannister': 5124, 'tds': 8879, 'prepaid': 6942, 'beaten': 1062, 'linguistics': 5291, 'worker': 9886, '20k': 91, 'he': 4152, 'warming': 9700, 'sauna': 7863, 'satisfying': 7857, 'mirror': 5789, 'evernote': 3254, 'kvpy': 5084, 'noble': 6143, 'etg': 3226, 'taught': 8868, 'violation': 9594, 'holy': 4285, 'automated': 892, 'short': 8146, 'applicant': 680, 'ban': 981, 'ft': 3756, 'capable': 1544, 'sexuality': 8078, 'tb': 8877, 'contract': 2138, 'gallon': 3795, 'vga': 9561, 'convicted': 2167, 'anderson': 592, 'hasn': 4133, 'listed': 5309, 'getting': 3871, 'hot': 4332, 'bag': 954, 'extend': 3350, 'basic': 1019, 'records': 7385, 'iss': 4834, 'pipe': 6731, 'chairman': 1662, 'celebrities': 1627, 'bought': 1314, 'supermarket': 8716, 'denying': 2567, 'sacked': 7801, 'overseas': 6430, 'extended': 3351, 'database': 2438, 'interracial': 4725, 'land': 5115, 'hat': 4134, 'sonam': 8373, 'experience': 3323, 'agencies': 436, 'trichy': 9246, 'prostitution': 7102, 'manner': 5512, 'maharashtra': 5455, 'wikipedia': 9823, 'geographical': 3860, 'athletes': 830, 'ufo': 9337, 'prescription': 6952, 'pls': 6780, 'brain': 1337, 'wearing': 9749, 'postage': 6875, 'entering': 3158, 'muller': 5951, 'zealand': 9983, 'behind': 1093, 'phones': 6676, 'specially': 8424, 'transgender': 9205, 'derivative': 2583, 'ballot': 976, 'banned': 999, 'arts': 760, 'mustard': 5979, 'serving': 8059, 'client': 1835, 'sniper': 8319, 'balochistan': 978, 'wolverine': 9871, 'admin': 371, 'attract': 860, 'restaurants': 7599, 'men': 5679, 'minorities': 5784, 'powerpoint': 6901, 'sec': 7963, 'up': 9415, 'pounds': 6895, 'semen': 8014, 'unexpected': 9373, 'court': 2244, 'occurred': 6251, 'apples': 678, 'friendly': 3740, 'edit': 3002, 'guinea': 4038, 'raghuram': 7263, 'anger': 601, 'try': 9276, 'agricultural': 452, 'planets': 6753, 'gemini': 3828, 'employed': 3105, 'ripped': 7671, 'quiz': 7235, 'term': 8942, 'earnings': 2958, 'clearing': 1828, 'nc': 6041, 'thar': 8980, 'multiple': 5955, 'leave': 5193, 'remove': 7501, 'secularism': 7977, 'clip': 1843, 'packets': 6458, 'link': 5292, 'ji': 4908, 'leap': 5184, 'deal': 2461, 'merit': 5695, 'electromagnetic': 3057, 'life': 5263, 'climate': 1837, 'world': 9895, '75': 203, 'si': 8174, 'printer': 6989, 'empowerment': 3111, 'swollen': 8788, 'socks': 8336, 'build': 1424, 'flying': 3623, 'invested': 4765, 'usually': 9469, 'telling': 8918, 'pleasure': 6778, 'players': 6771, 'disturbing': 2782, 'letter': 5233, 'pencil': 6590, 'audience': 870, 'manager': 5496, 'ncr': 6043, 'os': 6394, 'hosting': 4330, 'gonna': 3936, 'missed': 5796, 'symbiosis': 8793, 'headset': 4161, 'socket': 8335, 'freely': 3720, 'tu': 9278, 'softwares': 8341, 'psychological': 7141, 'quit': 7232, 'prices': 6976, 'schedule': 7895, 'tense': 8935, 'explode': 3337, 'items': 4847, 'genes': 3843, 'aiims': 459, 'accomplishment': 295, 'historical': 4256, 'texas': 8963, 'boards': 1255, 'ips': 4796, 'minds': 5768, 'ncert': 6042, 'failure': 3398, 'knees': 5059, 'bigger': 1166, 'mentor': 5686, 'amendments': 558, 'fellowship': 3479, 'eyelashes': 3370, 'virginity': 9602, 'ngos': 6107, 'sulphate': 8698, 'costly': 2218, 'turkey': 9289, 'avoided': 908, 'ambani': 551, 'symbolize': 8796, 'illustrator': 4476, 'influential': 4607, 'promises': 7066, 'attacking': 846, 'bees': 1080, 'spoiler': 8457, 'noun': 6182, 'ever': 3252, 'circulation': 1785, 'aleppo': 494, 'picks': 6706, 'procrastination': 7020, 'look': 5365, 'strengthen': 8604, 'contributions': 2148, 'mbbs': 5612, 'vc': 9515, 'wind': 9832, 'labs': 5095, 'met': 5706, 'conan': 2033, 'communities': 1977, 'see': 7983, 'audible': 869, 'ky': 5085, 'cereal': 1645, 'wait': 9670, 'remedy': 7493, 'academic': 273, 'weak': 9740, 'civic': 1795, 'buddha': 1413, 'aspect': 781, 'wrote': 9926, 'rsus': 7757, 'ba': 931, 'backend': 939, 'downgrade': 2849, 'christians': 1762, 'residential': 7566, 'holder': 4273, 'id': 4427, 'memes': 5674, 'ant': 630, 'brown': 1397, 'recipient': 7374, 'vishwanathan': 9611, 'registered': 7442, 'policies': 6815, 'toastmasters': 9094, '4000': 146, 'hated': 4136, 'week': 9760, 'edmonton': 3008, 'jew': 4903, 'olds': 6296, 'antivirus': 639, 'bride': 1369, 'addresses': 366, 'madrid': 5438, 'ordering': 6365, 'record': 7382, 'names': 6009, 'viagra': 9565, 'sampling': 7832, 'principles': 6986, 'bitsat': 1210, 'greek': 3999, 'may': 5606, 'dioxide': 2709, 'junior': 4961, 'tesla': 8955, 'cities': 1790, 'flights': 3596, 'gin': 3887, 'yet': 9960, 'pro': 7003, 'plates': 6763, 'veins': 9532, 'variable': 9506, 'specific': 8426, 'gets': 3870, 'twice': 9309, 'me': 5620, 'mothers': 5905, '1800': 43, 'photons': 6686, 'suspect': 8759, 'oakland': 6223, 'mainstream': 5466, 'videocon': 9575, 'crore': 2317, 'jbl': 4887, 'vary': 9511, 'attend': 853, 'intelligent': 4690, 'maintain': 5467, 'successful': 8672, 'quota': 7239, 'enfield': 3131, 'crm': 2313, 'mortgage': 5898, 'ceremony': 1647, 'reliance': 7482, 'resist': 7571, 'hadoop': 4069, 'correspondence': 2208, 'reasons': 7359, '81': 211, 'importance': 4514, 'batch': 1027, 'gre': 3994, 'adsense': 384, 'ignore': 4449, 'favor': 3449, 'uv': 9474, 'ad': 348, 'frequently': 3729, 'marry': 5551, '13': 24, 'homeland': 4287, '2gb': 113, 'plans': 6756, 'sulfur': 8696, 'duke': 2922, '2002': 72, 'sunday': 8705, 'ionization': 4784, 'extension': 3352, 'store': 8579, '2020': 90, 'pasta': 6543, 'priority': 6992, 'adverse': 392, 'methods': 5722, 'writes': 9921, 'related': 7465, 'hermione': 4209, 'nasty': 6022, 'april': 701, 'shades': 8082, 'car': 1560, 'learning': 5188, 'bake': 960, 'shutdown': 8171, 'founders': 3695, 'officejet': 6273, 'vs': 9663, 'helmet': 4193, 'venmo': 9538, 'valence': 9486, 'hulu': 4365, 'want': 9690, 'festival': 3492, 'superior': 8714, 'jelly': 4895, 'ps': 7130, 'sherlock': 8119, 'wells': 9775, 'attention': 857, 'discontinuation': 2736, 'ocean': 6254, 'ottoman': 6402, 'itself': 4850, 'interviewing': 4732, 'bangkok': 991, 'epic': 3181, 'vedas': 9520, 'chapter': 1679, 'fingerprint': 3549, 'others': 6400, 'symptoms': 8798, 'wonder': 9876, 'barrier': 1012, 'recorded': 7383, 'boxing': 1326, 'tongue': 9114, 'affecting': 414, 'spray': 8471, 'erp': 3205, 'scala': 7875, 'at': 824, 'crude': 2324, 'access': 288, 'intjs': 4736, 'lethal': 5231, 'palestinian': 6479, 'dated': 2442, 'operating': 6329, 'there': 9006, 'someones': 8365, 'offers': 6271, 'honeymoon': 4302, 'obviously': 6246, 'operator': 6333, 'races': 7249, 'shortcut': 8147, 'individual': 4577, 'complicated': 2011, 'neon': 6072, 'removed': 7502, 'permit': 6628, 'kumar': 5081, 'stats': 8542, 'email': 3080, 'psychic': 7140, 'feeling': 3472, 'emi': 3089, 'colonize': 1923, 'released': 7477, 'indoor': 4582, 'map': 5524, 'dice': 2665, 'angsty': 604, 'detection': 2626, 'scars': 7889, 'lines': 5289, 'layman': 5164, 'running': 7778, 'sunset': 8710, 'complex': 2008, 'measurement': 5631, 'hostel': 4328, 'hit': 4259, 'alabama': 484, 'truly': 9269, 'slept': 8277, 'internships': 4722, 'trivandrum': 9258, 'temperatures': 8923, 'gems': 3829, 'wheat': 9790, 'community': 1978, 'concepts': 2039, 'poland': 6810, 'aspirant': 785, 'spinning': 8450, 'articles': 755, 'initially': 4619, 'triangle': 9242, 'ohio': 6283, 'facility': 3382, 'adam': 349, 'accurately': 306, 'lakhs': 5109, 'ids': 4441, '24': 100, 'imported': 4516, 'extroverts': 3366, 'gambling': 3797, 'empathy': 3100, 'complaint': 2000, 'whale': 9784, 'sansa': 7840, 'every': 3255, 'heap': 4169, 'proficiency': 7038, 'sealed': 7951, 'scare': 7886, 'declare': 2488, 'nation': 6023, 'belt': 1111, 'anniversary': 614, 'sadness': 7806, 'xii': 9940, 'ee': 3015, 'ugc': 9340, 'thiel': 9018, 'ethanol': 3227, 'airplanes': 471, 'backlogs': 943, 'after': 428, 'include': 4544, 'spoken': 8460, 'digital': 2697, 'forwarding': 3687, 'cornell': 2197, 'usd': 9455, 'rights': 7666, 'lucknow': 5406, 'cia': 1775, 'mm': 5820, '2011': 81, 'guaranteed': 4025, 'river': 7681, 'shock': 8135, 'ram': 7281, 'glass': 3904, 'airports': 473, 'insects': 4640, 'geeta': 3825, 'chess': 1721, 'computing': 2031, 'heisenberg': 4187, 'uruguay': 9449, 'kapil': 4980, 'turn': 9292, 'tolerance': 9104, 'wealth': 9744, 'johar': 4918, 'tigers': 9068, 'compensation': 1990, 'cholesterol': 1749, 'husky': 4386, 'tyre': 9322, 'isp': 4828, 'north': 6161, 'príncipe': 7129, 'tick': 9060, 'jets': 4902, 'willing': 9830, 'ecommerce': 2988, 'revision': 7636, 'rogue': 7700, 'promised': 7065, 'funniest': 3773, 'jupiter': 4963, 'scrap': 7929, '10000': 7, 'l1': 5087, 'picture': 6709, 'toilet': 9100, 'works': 9894, 'accepting': 287, 'urinate': 9445, 'doc': 2803, 'mock': 5827, 'problem': 7007, 'theist': 8989, 'zenfone': 9985, 'returns': 7624, 'molecule': 5851, 'oxide': 6443, 'shocking': 8136, 'hacking': 4065, 'moon': 5885, 'prospects': 7098, 'cuban': 2345, 'psu': 7134, 'supported': 8726, 'confident': 2059, 'reputed': 7545, 'i7': 4408, 'ukulele': 9345, 'winning': 9841, 'china': 1739, 'designation': 2598, 'gate': 3813, 'creating': 2283, 'methane': 5719, 'dialects': 2656, 'cam': 1507, 'mails': 5460, 'mute': 5980, 'hunting': 4379, 'huge': 4362, 'bacteria': 949, 'attempt': 849, 'layer': 5162, 'household': 4341, 'earthquake': 2965, 'going': 3928, 'gateway': 3815, 'terrorists': 8953, 'gomez': 3934, 'hacks': 4066, 'individuals': 4578, 'frozen': 3749, 'niche': 6111, 'pending': 6591, 'highway': 4232, 'save': 7865, 'parties': 6521, 'severe': 8072, 'produced': 7023, 'aeronautical': 407, 'sold': 8344, 'shipping': 8126, 'founded': 3693, 'digits': 2698, 'tim': 9073, 'compression': 2025, '60000': 186, 'until': 9411, 'awful': 919, 'castro': 1595, 'xat': 9935, 'mrs': 5938, 'chocolate': 1745, 'recovery': 7388, 'distinction': 2773, 'copy': 2190, 'plausible': 6767, 'tough': 9147, 'manufacturing': 5521, 'mysterious': 5993, 'sunni': 8708, 'cache': 1479, 'existed': 3302, 'scored': 7919, 'observation': 6236, 'massive': 5572, 'stations': 8539, 'indicted': 4572, 'style': 8646, 'coconut': 1882, 'thermal': 9008, 'prince': 6981, 'residency': 7564, 'naval': 6034, 'ejaculate': 3037, 'destination': 2613, 'php': 6690, 'void': 9637, 'passengers': 6532, 'gpu': 3959, 'nitie': 6133, 'kid': 5020, 'lean': 5183, 'discovered': 2742, 'cricketers': 2300, 'accelerate': 277, 'translate': 9209, 'nova': 6184, 'failures': 3399, 'ipl': 4793, 'successfully': 8673, 'overcome': 6422, 'traveler': 9221, 'rey': 7644, 'diverse': 2783, 'sees': 7993, 'ethics': 3230, 'sustainable': 8764, 'background': 940, 'bull': 1433, 'resistant': 7573, 'nlp': 6138, 'fiction': 3505, 'heavily': 4182, 'fourier': 3698, 'extracurricular': 3361, 'organized': 6379, 'believing': 1104, 'penalties': 6587, 'seeing': 7986, 'poem': 6796, 'wildest': 9825, 'bipolar': 1195, 'barack': 1004, 'asus': 822, 'mt': 5941, 'aerospace': 408, 'abandoned': 242, 'mobile': 5824, 'scorpio': 7922, 'view': 9580, 'emotion': 3096, 'very': 9559, 'send': 8021, 'restrictions': 7606, 'halloween': 4082, 'proven': 7117, 'sensory': 8034, 'agile': 444, 'inspire': 4651, 'aipmt': 462, 'relevance': 7479, 'processed': 7014, 'darker': 2431, 'managerial': 5497, 'stressed': 8608, 'majority': 5473, 'influence': 4604, 'treat': 9228, 'shy': 8173, 'realistic': 7347, 'azhar': 927, 'jsp': 4948, 'korean': 5075, 'beside': 1130, 'colder': 1900, 'versus': 9556, 'mermaid': 5696, 'deduction': 2497, 'jquery': 4943, 'reduced': 7407, 'low': 5396, 'compiler': 1998, 'tie': 9064, 'sde': 7946, 'africans': 427, 'toyota': 9163, 'moment': 5855, 'altitude': 540, 'minimal': 5776, 'cr': 2264, 'fry': 3755, 'creatures': 2288, 'bright': 1374, 'loses': 5377, 'presidency': 6958, '5k': 178, 'purpose': 7184, 'perhaps': 6619, 'describing': 2590, 'translated': 9210, 'flour': 3608, 'constitutional': 2101, 'stating': 8536, 'of': 6263, 'freshers': 3732, 'hello': 4192, 'collectively': 1913, 'nano': 6011, 'exports': 3343, 'specifications': 8428, 'out': 6406, 'handed': 4090, 'wheels': 9793, 'programs': 7052, 'condoms': 2051, 'credits': 2292, 'everywhere': 3261, 'op': 6320, 'tuition': 9281, 'we': 9739, 'highly': 4230, 'excel': 3278, 'spyware': 8476, 'embarrassed': 3082, 'safety': 7812, 'substances': 8665, 'armor': 733, 'prevalent': 6967, 'californians': 1497, 'speak': 8415, 'david': 2447, 'heat': 4176, 'flexible': 3593, 'quick': 7227, 'canadians': 1523, 'possibility': 6871, 'railway': 7268, 'abortion': 254, 'nba': 6040, 'floyd': 3612, 'entire': 3164, 'emoji': 3094, 'charger': 1686, 'solvent': 8358, 'oneplus': 6307, 'exchange': 3285, 'lab': 5089, 'pure': 7180, 'law': 5157, 'smile': 8302, 'michigan': 5737, 'clicking': 1834, 'brought': 1396, 'interaction': 4703, 'pictures': 6710, 'astrologer': 815, 'shocks': 8137, 'snap': 8313, 'integrate': 4683, 'magazines': 5441, 'cured': 2364, 'unrealistic': 9405, 'founder': 3694, 'trump': 9270, 'xanax': 9934, 'pins': 6729, 'updated': 9418, 'tickets': 9062, 'ordered': 6364, 'partial': 6514, 'back': 937, 'dx': 2941, 'eyebrows': 3369, 'moral': 5887, 'methodology': 5721, 'shit': 8131, 'frac': 3703, 'mechanical': 5637, 'pokemon': 6807, 'asks': 778, 'diesel': 2677, 'systems': 8810, 'compliment': 2012, 'unbiased': 9353, 'bearing': 1058, 'august': 874, 'braces': 1334, 'promising': 7067, 'evolutionary': 3265, 'being': 1095, 'joe': 4917, 'pound': 6894, 'obtain': 6243, 'driving': 2891, 'shanghai': 8093, 'uninstall': 9382, 'musical': 5972, 'scariest': 7888, 'why': 9814, 'respective': 7584, 'pornstar': 6846, 'assignment': 801, 'became': 1068, 'annoying': 617, 'saudi': 7862, 'haryana': 4128, 'highest': 4227, 'vaginal': 9484, 'innocent': 4629, 'proves': 7118, 'compounds': 2022, 'reincarnation': 7458, 'los': 5374, 'punjabi': 7173, '30k': 121, 'swim': 8779, 'scared': 7887, '220': 97, 'mongodb': 5864, 'edgware': 3001, 'austin': 876, 'break': 1353, 'attacks': 847, 'told': 9103, 'dasa': 2435, 'debate': 2469, 'peers': 6585, 'vault': 9514, 'lock': 5344, 'constructed': 2103, 'zones': 9995, 'sexist': 8076, 'pes': 6642, 'thickness': 9017, 'pointer': 6800, 'diego': 2675, 'immigration': 4493, 'pubic': 7149, 'seconds': 7967, 'kindly': 5037, 'uberx': 9329, 'teenage': 8903, 'unlock': 9400, 'organisations': 6373, 'condition': 2046, 'essays': 3216, 'advisable': 398, 'breasts': 1361, 'new': 6093, '25': 101, 'consider': 2087, 'dba': 2451, 'centrifugal': 1641, 'marine': 5534, 'remind': 7496, 'patanjali': 6546, '4gb': 159, 'depend': 2570, 'manaphy': 5500, 'british': 1381, 'honor': 4304, 'respect': 7582, 'morgan': 5892, 'boots': 1291, 'motors': 5918, 'teenagers': 8905, 'clinical': 1841, 'nike': 6122, 'trip': 9255, 'prediction': 6924, 'thapar': 8979, 'accelerators': 279, 'beginners': 1087, 'control': 2149, 'amd': 556, 'semester': 8015, 'pussy': 7189, '128': 20, 'walls': 9684, 'later': 5144, 'expired': 3333, 'witty': 9865, 'exp': 3308, 'vertical': 9557, 'australian': 878, 'restraining': 7603, 'revealed': 7626, 'agriculture': 453, 'sounds': 8391, 'vagina': 9483, 'rc': 7327, 'software': 8340, 'write': 9918, 'constitution': 2100, 'biotechnology': 1193, 'frames': 3706, 'allo': 519, 'towns': 9160, 'prototype': 7113, 'charlie': 1692, 'excuse': 3291, 'dasht': 2436, 'guest': 4029, 'imdb': 4484, 'ireland': 4806, 'exhaust': 3299, 'clash': 1810, 'dam': 2415, 'brahmins': 1336, 'yes': 9958, 'hide': 4221, 'self': 8003, 'mukesh': 5949, 'endoplasmic': 3124, 'rose': 7729, 'finding': 3544, 'pa': 6448, 'cement': 1635, 'unlike': 9397, 'herself': 4214, 'phoenix': 6674, 'situation': 8241, 'affinity': 418, 'nerve': 6075, 'inches': 4540, 'time': 9074, 'hyundai': 4403, 'losing': 5378, 'grocery': 4006, 'thoroughly': 9033, 'casual': 1596, '61': 188, 'collections': 1911, 'expansion': 3312, 'mvc': 5983, 'passes': 6533, 'signed': 8189, 'punished': 7170, 'jury': 4965, 'belkin': 1105, 'reality': 7349, 'kardashian': 4986, 'cheater': 1706, 'chewing': 1725, 'hotspot': 4336, 'keen': 4995, 'surge': 8741, 'residence': 7563, 'onwards': 6319, 'nitrogen': 6136, 'dial': 2655, 'representation': 7535, 'else': 3077, 'anemia': 596, 'duration': 2932, 'only': 6315, 'closed': 1848, 'wizard': 9867, 'whatever': 9787, 'clients': 1836, '2014': 84, 'sexiest': 8075, 'possible': 6872, 'steel': 8554, 'equally': 3186, 'myself': 5989, 'packages': 6454, 'ssb': 8487, 'contributed': 2145, 'findout': 3545, 'directed': 2713, 'average': 903, 'morning': 5895, 'indus': 4585, 'bias': 1155, 'miss': 5795, 'h1': 4056, 'siberian': 8175, 'stamps': 8506, 'akbar': 481, 'ga': 3784, 'condom': 2050, 'married': 5550, 'logged': 5347, 'bing': 1181, 'your': 9972, 'tomatoes': 9109, 'visiting': 9616, 'interpret': 4723, '63': 190, 'battery': 1034, 'soundtrack': 8392, 'je': 4888, 'mandatory': 5503, 'wax': 9733, 'marker': 5540, 'heritage': 4208, 'kindle': 5036, 'lived': 5325, 'affairs': 411, 'jordan': 4933, 'sins': 8230, 'recruiting': 7394, 'kill': 5025, 'converts': 2164, 'vlc': 9628, 'watching': 9720, 'mental': 5682, 'implementing': 4510, 'bear': 1055, 'comedian': 1947, 'couch': 2222, 'semiconductor': 8017, 'pieces': 6713, 'cooker': 2173, 'oriented': 6385, 'ship': 8125, 'punch': 7167, 'cognizant': 1890, '96': 226, 'urdu': 9442, '900': 219, 'atom': 837, 'scholarships': 7904, 'membership': 5670, '4919': 157, 'raising': 7276, 'coup': 2235, 'legendary': 5209, 'judicial': 4953, 'antenna': 632, 'anatomy': 585, 'curiosity': 2366, 'upper': 9427, 'kit': 5049, 'housing': 4343, 'tired': 9084, 'leaving': 5195, 'photos': 6687, 'gps': 3958, 'premature': 6937, 'planned': 6754, 'put': 7190, 'tattoos': 8867, 'ae': 406, 'embed': 3085, 'site': 8237, 'globalization': 3907, 'burn': 1444, 'agents': 440, 'comfortably': 1952, 'anyhow': 647, 'gradient': 3966, 'hyderabad': 4390, 'approach': 691, 'cold': 1899, 'approve': 695, 'village': 9588, 'diseases': 2750, 'languages': 5122, 'spark': 8414, 'collie': 1918, 'criminals': 2304, 'form': 3671, 'nyu': 6222, 'serves': 8056, 'electors': 3053, 'outdoor': 6409, 'sight': 8182, 'son': 8372, 'bras': 1347, '4g': 158, 'tolerate': 9105, 'uber': 9328, 'inc': 4537, 'abdomen': 244, 'miscarriage': 5792, 'hangouts': 4101, 'planetary': 6752, 'treadmill': 9227, 'reticulum': 7614, '20000': 70, 'rebel': 7360, 'marriage': 5548, 'filling': 3527, 'conquer': 2075, 'imminent': 4494, 'beaches': 1049, 'siri': 8233, 'christopher': 1764, 'females': 3482, 'fully': 3760, 'determine': 2630, 'fit': 3573, 'viewer': 9582, 'walmart': 9685, 'voting': 9658, 'ex': 3269, 'weekly': 9763, 'napoleon': 6014, 'newspapers': 6100, 'shuttle': 8172, 'programmer': 7048, 'physiology': 6698, 'brahmin': 1335, 'gb': 3820, 'property': 7084, 'peak': 6578, 'carbohydrates': 1562, 'affects': 415, 'korea': 5074, 'squad': 8480, 'fill': 3525, 'buyer': 1466, 'upon': 9426, 'mineral': 5772, 'compose': 2016, 'ux': 9475, 'assembly': 796, 'tool': 9120, 'passing': 6534, 'lpa': 5400, 'emirates': 3092, 'reduces': 7408, 'performs': 6617, 'mysql': 5991, 'equations': 3189, 'rich': 7650, 'europe': 3240, 'hunger': 4375, 'victims': 9571, 'believes': 1103, 'sets': 8063, 'cos': 2213, 'dead': 2456, 'assume': 809, 'overall': 6421, 'preferred': 6931, 'enthalpy': 3163, 'neural': 6085, 'improved': 4525, 'functionality': 3764, 'saved': 7866, 'diwali': 2793, 'chest': 1722, 'cabs': 1478, 'luke': 5411, 'operations': 6332, 'lists': 5314, 'recent': 7368, 'falls': 3411, 'lease': 5190, 'panama': 6484, 'imperial': 4504, 'french': 3725, 'did': 2670, 'ruined': 7766, 'shimla': 8124, 'berlin': 1127, 'perform': 6613, 'simplified': 8209, 'astronomy': 820, 'moved': 5925, 'rajasthan': 7279, 'exposed': 3345, 'jake': 4865, '1m': 62, 'substance': 8664, 'maya': 5607, 'global': 3906, 'tools': 9121, 'noam': 6141, 'equals': 3187, 'possibly': 6873, 'freelancing': 3719, 'composition': 2020, '3x': 143, 'latin': 5148, 'relationships': 7470, 'go': 3917, 'hood': 4308, 'regulated': 7452, 'deposits': 2576, 'hardly': 4119, 'spot': 8467, 'responsive': 7595, 'nafta': 6000, 'insecure': 4641, 'inherited': 4617, 'cables': 1477, 'super': 8711, 'taffy': 8823, 'hand': 4089, 'comparable': 1982, 'optics': 6347, 'slab': 8267, 'politicians': 6823, 'mu': 5943, 'menstruation': 5681, 'useful': 9458, 'joy': 4942, 'adhd': 367, 'orbit': 6358, 'swap': 8769, 'page': 6461, 'quarter': 7218, 'internal': 4715, 'pcs': 6573, 'vibration': 9568, 'orders': 6366, 'infatuation': 4594, 'number': 6210, 'scientifically': 7911, 'chartered': 1696, 'mri': 5937, 'goku': 3929, 'gop': 3942, 'morality': 5888, 'maintaining': 5469, 'beats': 1065, 'ec': 2981, 'motivates': 5909, 'attitude': 858, 'explain': 3334, 'will': 9827, 'possessive': 6869, 'die': 2673, 'nits': 6137, 'texting': 8969, 'dylan': 2945, 'ed': 2999, 'seek': 7987, 'plus': 6786, 'can': 1520, 'loose': 5371, 'an': 576, 'i5': 4407, 'toilets': 9101, 'myanmar': 5985, 'biomedical': 1190, 'standing': 8511, 'devil': 2646, 'disagree': 2727, 'lick': 5259, 'malaysia': 5483, 'varanasi': 9505, 'ranchi': 7286, 'boring': 1298, 'williams': 9829, 'fear': 3457, 'laplace': 5128, 'decrease': 2493, 'stance': 8507, 'banglore': 993, 'borders': 1295, 'cellphone': 1630, 'baraka': 1005, 'services': 8058, 'friendzoned': 3743, 'jedi': 4892, 'daughter': 2445, 'brains': 1338, 'city': 1794, 'tin': 9078, 'sapiens': 7844, 'myth': 5995, 'last': 5140, 'universities': 9393, 'calculator': 1492, 'bitter': 1211, 'tips': 9082, 'starbucks': 8515, 'plural': 6785, 'brushing': 1403, 'admissions': 376, 'energetic': 3129, 'itunes': 4851, 'shaking': 8090, 'residents': 7567, 'usb': 9453, 'okay': 6289, 'ca': 1472, 'period': 6620, 'american': 560, 'marvel': 5559, 'what': 9786, 'insight': 4644, 'production': 7028, 'encourage': 3118, 'celebrate': 1624, 'colleague': 1906, 'sharing': 8100, 'signature': 8188, 'parallel': 6498, 'revealing': 7627, 'exposure': 3346, 'myopia': 5988, 'worrying': 9903, 'bf': 1142, 'goal': 3919, 'shirt': 8129, 'clearance': 1826, 'crack': 2266, 'conditions': 2049, 'telekinesis': 8912, 'etsy': 3235, 'tiger': 9067, 'ro': 7684, '14': 26, '37': 133, 'creepiest': 2295, 'conflicts': 2066, 'bowl': 1321, 'slogan': 8284, 'swami': 8768, 'jobless': 4915, 'section': 7972, '2000': 69, 'belgium': 1097, 'studied': 8634, 'duolingo': 2929, 'workplace': 9893, 'know': 5064, 'thousand': 9038, 'pornography': 6845, 'vat': 9513, 'photosynthesis': 6689, 'licence': 5255, 'offered': 6269, 'ray': 7323, 'advantages': 390, 'toy': 9162, 'racist': 7254, 'odor': 6262, 'theatre': 8986, 'bpm': 1331, 'blank': 1222, 'guys': 4052, 'rpm': 7753, 'kannada': 4977, 'qoura': 7202, 'blogger': 1236, 'illusion': 4475, 'behavioral': 1091, 'tribe': 9243, 'father': 3442, 'milky': 5759, 'refrigerator': 7423, 'stand': 8508, 'defined': 2512, 'hobbit': 4267, 'appears': 675, 'foreign': 3660, 'looking': 5367, 'cycle': 2396, 'hindus': 4247, 'flat': 3588, 'bow': 1320, 'volcanoes': 9639, 'angular': 605, 'surname': 8746, 'template': 8925, 'immune': 4498, 'ginger': 3888, 'bds': 1046, 'replace': 7522, 'eliminate': 3070, 'iceland': 4419, 'voldemort': 9640, 'app': 668, 'provoking': 7126, 'member': 5668, 'effectiveness': 3020, 'failed': 3395, 'voices': 9636, 'abu': 267, 'infinite': 4600, 'sustain': 8763, 'dumbledore': 2925, 'ssd': 8489, 'cricketer': 2299, 'volts': 9647, 'statements': 8533, 'literally': 5317, 'macro': 5432, '84': 212, 'duty': 2939, 'white': 9806, 'pregnancy': 6932, 'legally': 5207, 'industries': 4587, 'civilian': 1797, 'scottish': 7928, 'open': 6321, 'salesforce': 7822, 'euthanasia': 3243, 'petition': 6646, 'architecture': 715, 'rejection': 7463, 'learned': 5186, 'generic': 3842, 'induction': 4584, 'academia': 272, 'burst': 1449, 'trustworthy': 9273, 'tourist': 9152, 'happier': 4108, 'starving': 8529, 'james': 4869, 'regretted': 7448, 'four': 3697, '76': 205, 'borrow': 1301, 'mp4': 5934, 'fairs': 3402, 'cafe': 1481, 'hypocrite': 4399, 'score': 7918, 'yelp': 9957, 'tracer': 9167, 'magical': 5444, 'computers': 2030, 'shear': 8110, 'shoe': 8138, 'areas': 719, 'established': 3219, 'advising': 400, 'xperia': 9945, 'quickest': 7229, 'nra': 6194, 'picked': 6704, 'cylinder': 2400, 'guides': 4035, 'elections': 3050, 'rear': 7354, 'enjoy': 3147, 'simulator': 8216, 'bit': 1202, 'contractions': 2140, 'facetime': 3379, 'sent': 8035, 'controls': 2153, 'harm': 4122, 'neighborhood': 6066, 'biodegradable': 1184, 'route': 7742, 'bali': 971, 'producer': 7024, 'lava': 5156, 'ssn': 8491, 'percent': 6607, 'ignoring': 4452, 'cola': 1898, 'lifting': 5268, 'institute': 4667, 'retina': 7615, 'builders': 1426, 'forest': 3664, 'insist': 4646, 'assumptions': 811, 'threatened': 9042, 'electoral': 3052, 'poster': 6878, 'royal': 7751, 'allowing': 522, 'women': 9874, 'split': 8456, 'flute': 3620, 'freshman': 3733, 'nasa': 6021, 'arrest': 744, 'beings': 1096, 'apple': 677, 'approximately': 699, 'elitmus': 3073, 'warcraft': 9695, 'licenses': 5258, 'saw': 7869, 'seo': 8038, 'freight': 3724, 'implemented': 4509, 'lemon': 5215, 'hack': 4061, 'acetic': 310, 'indiana': 4565, 'forced': 3655, 'arrested': 745, 'work': 9884, 'nest': 6077, 'anonymity': 621, 'macs': 5433, 'occupied': 6248, 'signals': 8187, 'dialogues': 2658, 'far': 3424, 'schizophrenia': 7902, 'manipal': 5508, 'javascript': 4879, 'connections': 2074, 'neet': 6059, 'scan': 7881, 'airbnb': 465, 'italian': 4841, 'deputy': 2582, 'violent': 9597, 'contents': 2127, 'generate': 3836, 'myths': 5997, 'fury': 3778, 'alkali': 509, 'thigh': 9019, 'grandparents': 3981, 'specialization': 8423, 'giving': 3901, 'attending': 856, 'classes': 1812, 'gods': 3925, 'worthy': 9910, 'complement': 2002, 'fruits': 3751, 'meta': 5707, 'statement': 8532, 'prescribed': 6951, 'chapters': 1680, 'ancestors': 586, 'coin': 1894, 'recommendations': 7380, 'frank': 3712, 'and': 591, 'mouse': 5922, 'rating': 7313, 'avoiding': 909, 'isro': 4833, 'kidney': 5021, 'sided': 8180, 'soldiers': 8346, 'tablet': 8817, 'headaches': 4155, '4x': 163, 'peanut': 6579, 'movement': 5926, 'been': 1078, 'department': 2568, 'supplier': 8722, 'ifs': 4447, 'intern': 4714, 'techniques': 8895, 'bc': 1042, 'republicans': 7543, 'girl': 3889, 'bluetooth': 1251, 'lights': 5273, 'knowledge': 5066, 'morocco': 5896, 'magnet': 5446, 'practicing': 6910, 'appreciate': 689, 'matters': 5598, 'phenomenon': 6666, 'hypocrisy': 4398, 'port': 6849, 'distribution': 2779, 'jose': 4934, 'computer': 2029, 'sbi': 7873, 'accused': 307, 'rf': 7645, 'taco': 8821, 'tangible': 8850, 'astrology': 817, 'crores': 2318, 'crazy': 2277, 'color': 1926, 'orientation': 6384, 'hydroxide': 4394, 'leadership': 5176, 'messi': 5704, 'dot': 2843, 'sweden': 8773, 'whilst': 9802, 'recommend': 7378, 'diagnosis': 2652, 'george': 3864, 'mckinsey': 5618, 'wont': 9879, 'friends': 3741, '38': 135, 'patents': 6550, 'jazz': 4885, 'bridge': 1370, 'gandhi': 3803, 'cup': 2355, 'registering': 7443, 'foil': 3631, 'sigma': 8184, 'destroy': 2616, 'culturally': 2351, 'postal': 6876, 'relationship': 7469, 'capability': 1543, 'energy': 3130, 'fight': 3511, 'plz': 6788, 'materials': 5585, 'protect': 7103, 'hundreds': 4374, 'sexy': 8080, 'philosophy': 6672, 'craft': 2269, 'safely': 7809, 'sarcasm': 7845, 'share': 8097, 'charismatic': 1689, 'lok': 5356, 'keep': 4996, 'breakup': 1359, 'placed': 6742, 'photoshop': 6688, 'combinations': 1940, 'beat': 1061, 'pills': 6721, 'anything': 650, 'calculus': 1493, 'pg': 6652, 'physically': 6694, 'mb': 5610, 'ingredients': 4615, 'haven': 4142, 'differentiate': 2686, 'identity': 4436, 'franchise': 3710, 'option': 6351, 'lady': 5103, 'cruise': 2326, 'friction': 3735, 'woke': 9869, 'nikon': 6124, 'attachment': 843, 'potentiality': 6889, 'inclined': 4543, 'baseball': 1016, 'riots': 7670, 'right': 7665, 'evaluate': 3244, 'months': 5880, 'torrent': 9136, 'dies': 2676, 'happen': 4104, 'wedding': 9758, 'in': 4531, 'prime': 6980, 'pays': 6568, 'generally': 3835, 'wa': 9667, 'poverty': 6896, '1947': 46, 'tequila': 8940, 'reduce': 7406, 'seats': 7961, 'k3': 4971, 'tor': 9131, 'warranty': 9703, 'proceed': 7012, 'unemployment': 9371, 'puzzle': 7193, 'iris': 4807, 'involve': 4776, 'mankind': 5511, 'width': 9818, 'roll': 7706, 'deadline': 2457, 'asperger': 783, 'expert': 3330, 'shelter': 8117, 'discontinued': 2738, 'human': 4366, 'worse': 9904, 'advertise': 393, 'garbage': 3806, 'plugged': 6782, 'answers': 628, 'lay': 5161, 'dumped': 2927, 'filming': 3531, 'those': 9034, 'commonwealth': 1971, 'editor': 3005, 'sub': 8649, 'june': 4959, 'distilled': 2771, 'thicker': 9016, 'synonym': 8802, 'clinic': 1840, '11': 13, 'installed': 4659, 'va': 9476, 'openly': 6325, 'deserts': 2594, 'folder': 3632, 'algorithms': 501, 'target': 8857, 'lucrative': 5408, '99': 229, 'channels': 1678, 'banning': 1001, 'amplifier': 573, 'part': 6513, 'hierarchy': 4223, 'association': 808, 'tf': 8971, 'wayne': 9735, 'harvard': 4126, 'horny': 4317, 'forbidden': 3653, 'response': 7590, 'ease': 2967, 'win': 9831, 'stop': 8574, 'isis': 4820, 'gravity': 3992, 'developments': 2642, 'resource': 7580, 'psus': 7135, 'cope': 2185, 'mooc': 5882, 'tend': 8931, 'stack': 8495, '58': 176, 'bush': 1452, 'crowd': 2322, 'growing': 4013, 'astrophysics': 821, 'heroes': 4211, 'novice': 6188, 'error': 3206, 'workload': 9890, 'yadav': 9946, 'unique': 9384, 'accounts': 303, 'theft': 8987, 'quad': 7204, 'venture': 9539, 'lucy': 5409, 'bans': 1002, 'fossil': 3688, 'galaxies': 3792, 'shapes': 8096, 'damaging': 2418, 'fart': 3432, 'mario': 5536, 'champions': 1667, 'cheating': 1707, 'pretend': 6965, 'newbie': 6094, 'divorce': 2791, 'call': 1498, 'himalayan': 4242, 'scotland': 7926, 'hibernate': 4218, 'verbally': 9544, 'downloaded': 2851, 'lessons': 5229, 'qualifying': 7210, 'int': 4678, 'usa': 9451, 'granville': 3985, 'never': 6092, 'nepal': 6073, 'comeback': 1946, 'fuck': 3757, 'antonyms': 640, 'fitness': 3575, 'press': 6962, 'selenium': 8002, 'vibe': 9566, 'microwave': 5745, 'derived': 2585, 'depressing': 2578, 'clubs': 1859, 'earth': 2963, 'bandwidth': 986, 'karaoke': 4984, 'arrive': 747, 'tourists': 9154, 'professional': 7033, 'membrane': 5671, 'solubility': 8352, 'checked': 1710, 'manners': 5513, 'storage': 8578, 'heartbreak': 4174, 'grow': 4012, 'prozac': 7128, 'sm': 8290, 'does': 2813, 'miserable': 5794, 'offering': 6270, 'vectors': 9519, 'english': 3145, 'tinder': 9079, 'tamilians': 8846, '4k': 160, 'thrones': 9050, 'shih': 8123, 'arvind': 762, 'spin': 8448, 'shobhit': 8134, 'meet': 5657, 'ly': 5420, 'lb': 5169, 'assistance': 803, 'modules': 5844, 'cartoon': 1583, 'pollution': 6826, 'bloggers': 1237, 'nehru': 6064, 'hen': 4200, 'minimum': 5778, 'journalists': 4939, 'staring': 8518, 'express': 3347, 'attributes': 865, 'smells': 8301, 'vlsi': 9629, 'mains': 5465, 'ted': 8901, 'acquire': 322, 'for': 3651, 'uniform': 9380, 'whiten': 9807, 'frustrated': 3752, 'peace': 6576, 'unattractive': 9351, 'motive': 5912, 'direction': 2714, 'babies': 933, 'wired': 9848, 'taylor': 8876, 'anthropology': 634, 'lasting': 5141, 'wires': 9850, 'inspiring': 4654, 'misconceptions': 5793, 'optical': 6346, 'atleast': 832, 'sip': 8231, 'parenting': 6505, 'soy': 8401, 'walking': 9679, 'checking': 1711, 'olympic': 6299, '97': 227, 'boom': 1285, 'soviet': 8400, 'lisa': 5307, 'pride': 6978, 'patient': 6554, 'artist': 758, 'amendment': 557, 'implement': 4507, 'particularly': 6520, 'club': 1858, 'sheldon': 8115, 'screw': 7938, 'factor': 3385, 'disasters': 2732, 'former': 3677, 'immigrants': 4491, 'fantasy': 3423, 'dhanbad': 2648, 'artists': 759, 'arc': 710, 'erase': 3199, 'cock': 1880, 'destroyed': 2617, 'pi': 6699, 'predictions': 6925, 'wikileaks': 9822, 'online': 6314, 'recharge': 7371, 'lie': 5260, 'dust': 2935, 'fbi': 3454, 'sucked': 8676, 'students': 8633, 'facts': 3388, '10th': 12, 'sounding': 8390, 'chew': 1724, 'rural': 7782, 'gone': 3935, 'dumps': 2928, 'dissertation': 2767, 'scar': 7885, 'meets': 5660, 'fort': 3681, 'video': 9574, 'capitalism': 1551, 'letters': 5234, 'cpu': 2263, 'apk': 663, 'tyrion': 9324, 'male': 5485, 'university': 9394, 'jain': 4862, 'melania': 5664, 'revolution': 7639, 'conditioning': 2048, 'servers': 8055, 'jump': 4957, 'hardware': 4120, 'actuary': 347, 'millions': 5764, 'witnessed': 9863, 'sophomore': 8380, 'howard': 4346, 'watson': 9726, 'travels': 9226, 'posting': 6881, 'drugs': 2902, 'aadhaar': 233, 'strategy': 8595, 'scripts': 7942, 'movie': 5929, 'hub': 4359, 'bachelor': 935, 'fitbit': 3574, 'higher': 4226, 'noise': 6148, 'replication': 7526, 'istanbul': 4839, 'intuitive': 4751, 'precise': 6920, 'cord': 2193, 'ufc': 9336, 'butler': 1458, 'justify': 4969, 'alot': 530, 'restricted': 7604, 'prevented': 6969, 'es': 3208, 'prostitute': 7100, 'velocity': 9534, 'previous': 6971, '2001': 71, 'technician': 8893, 'ecosystem': 2996, 'purchasing': 7179, 'poetry': 6798, 'expense': 3320, 'government': 3952, 'mechanics': 5638, 'batteries': 1033, 'south': 8397, 'drink': 2883, 'onsite': 6316, 'ages': 441, 'equity': 3194, 'phd': 6663, 'shoot': 8140, 'aged': 435, 'malay': 5481, 'toys': 9164, 'books': 1284, '90s': 220, 'paytm': 6569, 'drop': 2894, 'rewards': 7643, 'radiation': 7257, 'entropy': 3173, 'piano': 6700, 'demonetized': 2550, 'org': 6369, 'ozone': 6447, 'booster': 1287, 'deserve': 2595, 'copyright': 2191, 'jones': 4931, 'lion': 5297, 'politely': 6819, 'load': 5333, 'way': 9734, 'caller': 1500, 'aspiring': 789, 'dominant': 2826, 'walker': 9677, 'internationally': 4718, 'caste': 1590, 'pin': 6726, 'bench': 1114, 'perpendicular': 6630, 'ongc': 6310, 'challenged': 1664, 'conspiracy': 2096, 'album': 489, 'cleaner': 1823, 'associated': 806, 'inferior': 4598, 'mild': 5753, 'bca': 1043, 'known': 5068, 'libraries': 5251, 'took': 9119, 'relativity': 7474, 'mormon': 5893, 'frameworks': 3708, 'shahrukh': 8086, 'notion': 6180, 'riyadh': 7682, 'filmed': 3530, 'curriculum': 2374, 'regrets': 7447, 'brokers': 1390, 'canon': 1536, 'spaceships': 8406, 'badly': 952, 'facing': 3383, 'coupons': 2239, 'opponent': 6338, 'wallpapers': 9683, 'independence': 4559, 'gains': 3791, 'richard': 7651, 'fan': 3418, 'waking': 9673, 'loads': 5335, 'incredible': 4556, 'daily': 2410, 'bse': 1406, 'kissed': 5046, 'pmp': 6790, 'points': 6802, 'bios': 1191, '120': 17, 'place': 6741, 'overrated': 6428, 'km': 5056, 'pocket': 6793, 'addiction': 360, 'ultimately': 9347, 'gdp': 3822, 'hotel': 4333, 'awarded': 913, 'explanation': 3336, 'anime': 611, 'cigarette': 1777, 'ohm': 6284, 'terrier': 8947, 'worst': 9906, 'srm': 8486, 'preference': 6930, 'youth': 9975, 'struggle': 8628, 'wat': 9716, 'astronaut': 818, 'tap': 8853, 'rules': 7771, 'goa': 3918, 'crooked': 2314, 'nanotechnology': 6012, 'sociopath': 8333, 'nipples': 6129, 'sunglasses': 8706, 'abolish': 251, 'dragon': 2861, 'let': 5230, 'nude': 6206, 'hd': 4148, 'blade': 1219, 'snapdeal': 8315, 'defeated': 2506, 'shirts': 8130, 'iot': 4787, 'kicked': 5018, 'lasik': 5139, 'status': 8543, '1s': 63, 'tackle': 8820, 'lamb': 5111, 'bahadur': 956, 'newer': 6096, 'bark': 1010, 'finale': 3536, 'therefore': 9007, 'spare': 8413, 'surgery': 8744, 'obsolete': 6242, 'fisher': 3571, 'biotech': 1192, 'readers': 7341, 'pharmaceutical': 6658, 'amcat': 555, 'assets': 799, '2010': 80, 'finished': 3553, 'gulf': 4042, 'sdk': 7947, 'nested': 6078, 'interest': 4706, 'invented': 4758, 'mixes': 5816, 'chennai': 1719, 'vegan': 9523, 'pursuing': 7187, 'vi': 9562, 'such': 8674, 'hypothetically': 4402, 'olympics': 6300, 'northern': 6162, 'samsung': 7833, 'breathe': 1363, 'taxi': 8874, 'domino': 2829, 'bbc': 1041, 'ibuprofen': 4415, 'egg': 3028, 'geographic': 3859, 'novels': 6186, 'addition': 363, 'enzymes': 3179, 'welcome': 9770, 'oliver': 6298, 'stares': 8517, 'positive': 6864, 'arteries': 751, 'udemy': 9334, 'wishing': 9856, 'rays': 7324, 'leo': 5221, 'investment': 4768, 'factory': 3387, 'sticks': 8565, 'gun': 4045, 'improvements': 4527, 'scope': 7916, 'nadu': 5999, 'linguistic': 5290, 'turing': 9288, 'ny': 6220, 'consuming': 2114, 'selfie': 8004, 'hear': 4170, 'humanity': 4367, 'aptitude': 702, 'majors': 5474, 'tweets': 9306, 'rob': 7688, 'sources': 8396, 'behave': 1089, 'equal': 3184, 'regards': 7435, 'vacation': 9478, 'resign': 7568, 'taklamakan': 8834, 'balls': 977, 'top': 9124, 'accept': 283, 'sweetest': 8776, 'nudity': 6207, 'cooper': 2181, 'calorie': 1504, 'quality': 7212, 'incident': 4541, 'tutor': 9298, 'bears': 1059, 'raspberry': 7306, 'buses': 1451, 'imagination': 4482, 'corrupted': 2210, 'designjet': 2603, 'column': 1935, 'natural': 6031, 'pope': 6836, 'dubai': 2916, 'diabetes': 2650, 'metric': 5723, 'cambodia': 1508, 'refrigerated': 7422, 'particle': 6517, 'experimental': 3328, 'increases': 4554, 'formal': 3672, 'universal': 9390, 'undergraduate': 9362, 'be': 1047, 'metals': 5712, 'served': 8053, 'criticism': 2310, 'lte': 5403, 'health': 4164, 'rotation': 7735, 'sensex': 8029, 'pakistani': 6476, 'worlds': 9896, 'porcelain': 6841, 'designer': 2600, 'drawings': 2871, 'marking': 5546, 'found': 3691, 'astronauts': 819, 'atheist': 827, 'flavors': 3590, 'pump': 7165, 'kerala': 5004, 'scraping': 7930, 'features': 3462, 'jail': 4859, 'grows': 4015, 'feasible': 3459, 'acids': 318, 'twitter': 9313, 'fly': 3622, 'sponsorship': 8463}\n"
     ]
    }
   ],
   "source": [
    "print(other_index)\n",
    "print(counts_vectorizer.vocabulary_)"
   ]
  },
  {
   "cell_type": "code",
   "execution_count": 8,
   "metadata": {},
   "outputs": [
    {
     "name": "stdout",
     "output_type": "stream",
     "text": [
      "(200000,)\n"
     ]
    }
   ],
   "source": [
    "print(df_all['question1'].shape)"
   ]
  },
  {
   "cell_type": "code",
   "execution_count": 9,
   "metadata": {},
   "outputs": [
    {
     "name": "stderr",
     "output_type": "stream",
     "text": [
      "Using TensorFlow backend.\n"
     ]
    }
   ],
   "source": [
    "import re\n",
    "from keras.preprocessing.sequence import pad_sequences\n",
    "from sklearn.model_selection import train_test_split"
   ]
  },
  {
   "cell_type": "code",
   "execution_count": 10,
   "metadata": {},
   "outputs": [
    {
     "name": "stdout",
     "output_type": "stream",
     "text": [
      "(?u)\\b\\w\\w+\\b\n",
      "CountVectorizer(analyzer='word', binary=False, decode_error='strict',\n",
      "        dtype=<class 'numpy.int64'>, encoding='utf-8', input='content',\n",
      "        lowercase=True, max_df=1.0, max_features=9999, min_df=1,\n",
      "        ngram_range=(1, 1), preprocessor=None, stop_words=None,\n",
      "        strip_accents=None, token_pattern='(?u)\\\\b\\\\w\\\\w+\\\\b',\n",
      "        tokenizer=None, vocabulary=None)\n"
     ]
    }
   ],
   "source": [
    "print(counts_vectorizer.token_pattern)\n",
    "print(counts_vectorizer)"
   ]
  },
  {
   "cell_type": "code",
   "execution_count": 11,
   "metadata": {},
   "outputs": [
    {
     "name": "stdout",
     "output_type": "stream",
     "text": [
      "0    What is the step by step guide to invest in sh...\n",
      "Name: question1, dtype: object\n"
     ]
    }
   ],
   "source": [
    "\n",
    "\n",
    "words_tokenizer = re.compile(counts_vectorizer.token_pattern)\n",
    "#print(words_tokenizer)\n",
    "t=df_all[0:1]['question1']\n",
    "print(t)\n",
    "\n"
   ]
  },
  {
   "cell_type": "code",
   "execution_count": 27,
   "metadata": {},
   "outputs": [],
   "source": [
    "def create_padded_seqs(texts, max_len=10):\n",
    "    seqs = texts.apply(lambda s: \n",
    "        [counts_vectorizer.vocabulary_[w] if w in counts_vectorizer.vocabulary_ else other_index\n",
    "         for w in words_tokenizer.findall(s.lower())])\n",
    "    print(seqs)\n",
    "    print(len(seqs))\n",
    "    print(seqs.shape)\n",
    "    return pad_sequences(seqs, maxlen=max_len)"
   ]
  },
  {
   "cell_type": "code",
   "execution_count": 28,
   "metadata": {},
   "outputs": [
    {
     "name": "stdout",
     "output_type": "stream",
     "text": [
      "0    [9786, 4815, 8983, 8558, 1470, 8558, 4033, 909...\n",
      "Name: question1, dtype: object\n",
      "1\n",
      "(1,)\n",
      "[[1470 8558 4033 9093 4764 4531 8097 5541 4531 4563]]\n"
     ]
    }
   ],
   "source": [
    "sample=create_padded_seqs(t)\n",
    "print(sample)"
   ]
  },
  {
   "cell_type": "code",
   "execution_count": 14,
   "metadata": {},
   "outputs": [
    {
     "name": "stdout",
     "output_type": "stream",
     "text": [
      "0         [9786, 4815, 8983, 8558, 1470, 8558, 4033, 909...\n",
      "1         [9786, 4815, 8983, 8584, 6263, 9999, 9999, 999...\n",
      "2         [4345, 1520, 4552, 8983, 8433, 6263, 5984, 471...\n",
      "3         [9814, 547, 5683, 9559, 5361, 4345, 1520, 8356...\n",
      "4         [9800, 6306, 2768, 4531, 9721, 9999, 8684, 782...\n",
      "5         [817, 547, 1554, 8702, 1541, 5885, 591, 1541, ...\n",
      "6                                        [8155, 1465, 9999]\n",
      "7                            [4345, 1520, 1047, 3937, 9999]\n",
      "8                      [9794, 2801, 9968, 9456, 4665, 6263]\n",
      "9          [5917, 1981, 1520, 4061, 5984, 1695, 9999, 9999]\n",
      "10        [5720, 9093, 3543, 8042, 6263, 9999, 9464, 999...\n",
      "11          [4345, 2801, 7339, 591, 3543, 5984, 9976, 1960]\n",
      "12               [9786, 1520, 5475, 6697, 2973, 9093, 5185]\n",
      "13               [9786, 9708, 9972, 3568, 8077, 3323, 5274]\n",
      "14        [9786, 717, 8983, 5158, 9093, 1673, 9972, 8543...\n",
      "15        [9786, 9911, 9270, 6958, 5623, 3651, 2371, 471...\n",
      "16                                 [9786, 2813, 9999, 5623]\n",
      "17        [9814, 2801, 3892, 9690, 9093, 1047, 3741, 985...\n",
      "18        [9814, 717, 8323, 5522, 7236, 9462, 6881, 7225...\n",
      "19        [9800, 4815, 8983, 1132, 2697, 5543, 4669, 453...\n",
      "20                           [9814, 2801, 9999, 5365, 9806]\n",
      "21                     [9786, 1610, 8364, 9093, 1047, 4889]\n",
      "22        [9786, 717, 8983, 7225, 8155, 6168, 775, 6304,...\n",
      "23                [4345, 5945, 4815, 117, 9999, 4531, 4348]\n",
      "24        [9786, 2813, 4840, 5623, 8981, 3255, 9074, 536...\n",
      "25        [9786, 717, 8361, 9082, 6304, 5480, 4840, 9051...\n",
      "26                                  [9786, 4815, 9752, 681]\n",
      "27         [2813, 8331, 6741, 9118, 5945, 4514, 6304, 8466]\n",
      "28         [9786, 4815, 1132, 9734, 9093, 5475, 5863, 6314]\n",
      "29               [4345, 8155, 6945, 3651, 1472, 3535, 5157]\n",
      "                                ...                        \n",
      "199970    [9786, 717, 8983, 9023, 8981, 6306, 8155, 2801...\n",
      "199971    [4531, 1256, 2846, 8283, 3327, 2813, 8983, 125...\n",
      "199972      [9800, 717, 8983, 1132, 8845, 8375, 1470, 9999]\n",
      "199973     [9800, 7834, 3711, 7598, 4129, 8983, 1132, 9999]\n",
      "199974    [4345, 1520, 3114, 8983, 4642, 7750, 6351, 453...\n",
      "199975    [9786, 9777, 8983, 3021, 6263, 2345, 5798, 230...\n",
      "199976    [4345, 2801, 3787, 288, 9093, 6633, 4656, 6687...\n",
      "199977                   [717, 9999, 8566, 6837, 4531, 771]\n",
      "199978    [1520, 9739, 9456, 6293, 165, 591, 6, 6173, 76...\n",
      "199979     [4345, 1520, 5657, 9999, 4531, 9134, 6317, 1521]\n",
      "199980    [9786, 717, 8983, 1132, 9736, 9093, 6945, 3651...\n",
      "199981    [4345, 2224, 3869, 5891, 628, 9093, 5984, 7225...\n",
      "199982    [9814, 4815, 8983, 9451, 8983, 6315, 9999, 223...\n",
      "199983    [9814, 2830, 9576, 6768, 894, 4531, 7236, 765,...\n",
      "199984    [9786, 9460, 8155, 2801, 9794, 4152, 9999, 945...\n",
      "199985                 [1520, 9968, 4141, 9999, 9464, 9999]\n",
      "199986    [8155, 8830, 2983, 824, 9999, 6354, 9999, 7963...\n",
      "199987                              [9786, 4815, 9752, 681]\n",
      "199988    [9786, 4815, 8983, 2682, 1138, 8509, 2643, 591...\n",
      "199989    [9809, 717, 9124, 9920, 82, 9809, 2670, 6168, ...\n",
      "199990    [4345, 5522, 2684, 9318, 6263, 1560, 1346, 717...\n",
      "199991             [9814, 717, 6600, 8323, 8006, 591, 9999]\n",
      "199992    [4345, 2801, 8574, 5984, 6734, 1433, 3145, 143...\n",
      "199993    [4345, 1520, 3516, 6406, 5984, 3890, 7667, 824...\n",
      "199994    [9794, 6600, 7870, 9446, 4815, 9999, 9786, 280...\n",
      "199995    [9814, 9708, 8983, 1035, 6263, 9590, 7659, 832...\n",
      "199996     [9800, 6263, 9011, 9302, 8166, 8155, 9717, 6102]\n",
      "199997                             [8155, 1673, 5984, 6007]\n",
      "199998    [8155, 1465, 8983, 6093, 5429, 86, 6354, 6306,...\n",
      "199999       [9786, 4815, 9972, 7633, 6263, 5390, 81, 5929]\n",
      "Name: question1, Length: 200000, dtype: object\n",
      "200000\n",
      "0         [9786, 4815, 8983, 8558, 1470, 8558, 4033, 909...\n",
      "1         [9786, 9911, 4104, 4445, 8983, 4564, 3952, 999...\n",
      "2         [4345, 1520, 4719, 8433, 1047, 4553, 1470, 406...\n",
      "3         [3543, 8983, 7489, 9794, 5587, 99, 100, 5587, ...\n",
      "4                [9800, 3570, 9911, 8756, 4531, 7825, 9721]\n",
      "5         [9256, 1554, 8702, 5885, 591, 9999, 4531, 1554...\n",
      "6         [9786, 4998, 9999, 335, 591, 3424, 3746, 6675,...\n",
      "7                [9786, 8155, 2801, 9093, 1047, 3995, 9999]\n",
      "8                 [9794, 2801, 9968, 9456, 4665, 6263, 591]\n",
      "9          [4345, 2801, 4061, 5917, 9999, 3651, 3715, 4719]\n",
      "10        [9786, 717, 8361, 6263, 8983, 9023, 9999, 1520...\n",
      "11                [4345, 1520, 7983, 510, 5984, 9976, 1960]\n",
      "12         [4345, 1520, 9968, 5475, 6697, 2973, 9093, 5185]\n",
      "13                     [9786, 9708, 9972, 3568, 8077, 3323]\n",
      "14        [9786, 717, 8983, 5158, 9093, 1673, 9972, 8543...\n",
      "15        [4345, 9827, 9270, 6958, 412, 8983, 8633, 6956...\n",
      "16                                 [9786, 2813, 9999, 5627]\n",
      "17                [4345, 2801, 4052, 3471, 428, 9999, 3889]\n",
      "18        [9814, 2801, 6600, 775, 7236, 7225, 9800, 1520...\n",
      "19        [9800, 4815, 8983, 1132, 2697, 5543, 4667, 453...\n",
      "20                 [9814, 717, 9999, 591, 9999, 6468, 9806]\n",
      "21        [9786, 1520, 2801, 9093, 907, 1095, 4889, 6263...\n",
      "22                      [9800, 7224, 8155, 775, 6304, 7236]\n",
      "23        [9796, 1520, 3543, 2159, 1694, 3651, 1615, 909...\n",
      "24         [4345, 5522, 9076, 2449, 2801, 1844, 4094, 9999]\n",
      "25        [9786, 717, 8361, 9082, 6304, 5480, 4840, 9051...\n",
      "26                      [9786, 4815, 8983, 9752, 681, 3707]\n",
      "27               [4345, 2801, 8466, 2144, 9093, 8983, 8331]\n",
      "28        [9786, 4815, 1132, 9734, 9093, 775, 3651, 5863...\n",
      "29        [4345, 6306, 8155, 5064, 8981, 4152, 8109, 200...\n",
      "                                ...                        \n",
      "199970    [9786, 4815, 8983, 5901, 4515, 9022, 9968, 969...\n",
      "199971    [4531, 2846, 8283, 3327, 8983, 6517, 4815, 545...\n",
      "199972                  [9800, 717, 9972, 3452, 9999, 8375]\n",
      "199973     [9796, 4815, 8983, 1132, 9999, 4531, 7834, 3711]\n",
      "199974    [9786, 717, 8361, 9736, 9093, 7516, 8983, 9999...\n",
      "199975    [9786, 9777, 8983, 3021, 6263, 2345, 5798, 230...\n",
      "199976    [4345, 2801, 5365, 824, 8364, 4656, 9794, 4840...\n",
      "199977    [4815, 9999, 5200, 9999, 9999, 8566, 6837, 453...\n",
      "199978    [1520, 9968, 8917, 5620, 4445, 9739, 1520, 945...\n",
      "199979                 [4345, 1520, 5657, 9999, 4531, 1521]\n",
      "199980    [1520, 3731, 9024, 255, 2268, 8983, 3272, 4414...\n",
      "199981      [4345, 1520, 3869, 5891, 628, 6304, 5984, 7224]\n",
      "199982    [9786, 2231, 4141, 9390, 4164, 2249, 1457, 999...\n",
      "199983    [9814, 2801, 8361, 5295, 9093, 3376, 7040, 626...\n",
      "199984    [5984, 1394, 5381, 4255, 595, 6675, 5140, 6119...\n",
      "199985           [4345, 1520, 3869, 8522, 4531, 9999, 4767]\n",
      "199986      [9786, 4815, 1136, 2983, 824, 9999, 6354, 9999]\n",
      "199987                   [9786, 4815, 9752, 591, 9752, 681]\n",
      "199988    [9786, 4815, 8983, 2682, 1138, 9508, 591, 8509...\n",
      "199989                   [9809, 4815, 4531, 9124, 9920, 82]\n",
      "199990    [4345, 2801, 3579, 1560, 9834, 8981, 4815, 626...\n",
      "199991                        [9814, 717, 4368, 8006, 1096]\n",
      "199992    [4345, 2801, 8574, 5984, 8118, 4386, 5813, 717...\n",
      "199993    [9786, 8983, 1132, 9734, 9093, 3869, 5984, 389...\n",
      "199994                                   [4815, 9446, 9999]\n",
      "199995    [9786, 4815, 8983, 8190, 6263, 8983, 1035, 626...\n",
      "199996      [9786, 717, 8361, 9047, 8166, 8155, 9717, 6102]\n",
      "199997                 [8155, 5207, 1673, 5984, 3568, 6007]\n",
      "199998    [8155, 1465, 8983, 6093, 5429, 7003, 86, 6354,...\n",
      "199999    [9786, 4815, 9972, 7633, 6263, 5390, 1197, 81,...\n",
      "Name: question2, Length: 200000, dtype: object\n",
      "200000\n"
     ]
    }
   ],
   "source": [
    "X1_train, X1_val, X2_train, X2_val, y_train, y_val = \\\n",
    "    train_test_split(create_padded_seqs(df_all[df_all['id'].notnull()]['question1']), \n",
    "                     create_padded_seqs(df_all[df_all['id'].notnull()]['question2']),\n",
    "                     df_all[df_all['id'].notnull()]['is_duplicate'].values,\n",
    "                     stratify=df_all[df_all['id'].notnull()]['is_duplicate'].values,\n",
    "                     test_size=0.3, random_state=1989)"
   ]
  },
  {
   "cell_type": "code",
   "execution_count": 23,
   "metadata": {},
   "outputs": [],
   "source": [
    "import keras.layers as lyr\n",
    "from keras.models import Model\n"
   ]
  },
  {
   "cell_type": "code",
   "execution_count": 29,
   "metadata": {},
   "outputs": [
    {
     "name": "stdout",
     "output_type": "stream",
     "text": [
      "(140000, 10)\n",
      "(140000, 10)\n",
      "(60000, 10)\n",
      "(60000, 10)\n",
      "140000\n",
      "(10,)\n",
      "9999\n"
     ]
    }
   ],
   "source": [
    "print(X1_train.shape)\n",
    "print(X2_train.shape)\n",
    "print(X1_val.shape)\n",
    "print(X2_val.shape)\n",
    "print(len(y_train))\n",
    "print(X1_train.shape[1:])\n",
    "print(X1_train.max())\n"
   ]
  },
  {
   "cell_type": "code",
   "execution_count": 25,
   "metadata": {},
   "outputs": [],
   "source": [
    "input1_tensor = lyr.Input(X1_train.shape[1:])\n",
    "input2_tensor = lyr.Input(X2_train.shape[1:])\n",
    "\n",
    "words_embedding_layer = lyr.Embedding(X1_train.max() + 1, 100)\n",
    "seq_embedding_layer = lyr.LSTM(256, activation='tanh')\n",
    "\n",
    "seq_embedding = lambda tensor: seq_embedding_layer(words_embedding_layer(tensor))\n"
   ]
  },
  {
   "cell_type": "code",
   "execution_count": null,
   "metadata": {},
   "outputs": [],
   "source": []
  },
  {
   "cell_type": "code",
   "execution_count": 30,
   "metadata": {
    "scrolled": true
   },
   "outputs": [],
   "source": [
    "merge_layer = lyr.multiply([seq_embedding(input1_tensor), seq_embedding(input2_tensor)])"
   ]
  },
  {
   "cell_type": "code",
   "execution_count": 31,
   "metadata": {},
   "outputs": [
    {
     "name": "stdout",
     "output_type": "stream",
     "text": [
      "__________________________________________________________________________________________________\n",
      "Layer (type)                    Output Shape         Param #     Connected to                     \n",
      "==================================================================================================\n",
      "input_1 (InputLayer)            (None, 10)           0                                            \n",
      "__________________________________________________________________________________________________\n",
      "input_2 (InputLayer)            (None, 10)           0                                            \n",
      "__________________________________________________________________________________________________\n",
      "embedding_1 (Embedding)         (None, 10, 100)      1000000     input_1[0][0]                    \n",
      "                                                                 input_2[0][0]                    \n",
      "__________________________________________________________________________________________________\n",
      "lstm_1 (LSTM)                   (None, 256)          365568      embedding_1[0][0]                \n",
      "                                                                 embedding_1[1][0]                \n",
      "__________________________________________________________________________________________________\n",
      "multiply_1 (Multiply)           (None, 256)          0           lstm_1[0][0]                     \n",
      "                                                                 lstm_1[1][0]                     \n",
      "__________________________________________________________________________________________________\n",
      "dense_1 (Dense)                 (None, 16)           4112        multiply_1[0][0]                 \n",
      "__________________________________________________________________________________________________\n",
      "dense_2 (Dense)                 (None, 1)            17          dense_1[0][0]                    \n",
      "==================================================================================================\n",
      "Total params: 1,369,697\n",
      "Trainable params: 1,369,697\n",
      "Non-trainable params: 0\n",
      "__________________________________________________________________________________________________\n"
     ]
    }
   ],
   "source": [
    "\n",
    "dense1_layer = lyr.Dense(16, activation='sigmoid')(merge_layer)\n",
    "ouput_layer = lyr.Dense(1, activation='sigmoid')(dense1_layer)\n",
    "model = Model([input1_tensor, input2_tensor], ouput_layer)\n",
    "\n",
    "model.compile(loss='binary_crossentropy', optimizer='adam')\n",
    "model.summary()\n",
    "\n"
   ]
  },
  {
   "cell_type": "code",
   "execution_count": 32,
   "metadata": {},
   "outputs": [
    {
     "name": "stdout",
     "output_type": "stream",
     "text": [
      "Train on 140000 samples, validate on 60000 samples\n",
      "Epoch 1/6\n",
      " - 298s - loss: 0.5364 - val_loss: 0.5024\n",
      "Epoch 2/6\n",
      " - 285s - loss: 0.4581 - val_loss: 0.4742\n",
      "Epoch 3/6\n",
      " - 280s - loss: 0.4011 - val_loss: 0.4731\n",
      "Epoch 4/6\n",
      " - 275s - loss: 0.3517 - val_loss: 0.4798\n",
      "Epoch 5/6\n",
      " - 275s - loss: 0.3069 - val_loss: 0.5012\n",
      "Epoch 6/6\n",
      " - 276s - loss: 0.2657 - val_loss: 0.5205\n"
     ]
    },
    {
     "data": {
      "text/plain": [
       "<keras.callbacks.History at 0x7fe1cf7df400>"
      ]
     },
     "execution_count": 32,
     "metadata": {},
     "output_type": "execute_result"
    }
   ],
   "source": [
    "model.fit([X1_train, X2_train], y_train, \n",
    "          validation_data=([X1_val, X2_val], y_val), \n",
    "          batch_size=128, epochs=6, verbose=2)"
   ]
  },
  {
   "cell_type": "code",
   "execution_count": 33,
   "metadata": {},
   "outputs": [],
   "source": [
    "features_model = Model([input1_tensor, input2_tensor], merge_layer)\n",
    "features_model.compile(loss='mse', optimizer='adam')"
   ]
  },
  {
   "cell_type": "code",
   "execution_count": 34,
   "metadata": {},
   "outputs": [],
   "source": [
    "F_train = features_model.predict([X1_train, X2_train], batch_size=128)\n",
    "F_val = features_model.predict([X1_val, X2_val], batch_size=128)\n"
   ]
  },
  {
   "cell_type": "code",
   "execution_count": 35,
   "metadata": {},
   "outputs": [
    {
     "name": "stdout",
     "output_type": "stream",
     "text": [
      "(60000, 10)\n"
     ]
    }
   ],
   "source": [
    "print(X1_val.shape)"
   ]
  },
  {
   "cell_type": "code",
   "execution_count": 36,
   "metadata": {},
   "outputs": [
    {
     "name": "stdout",
     "output_type": "stream",
     "text": [
      "(60000, 10)\n"
     ]
    }
   ],
   "source": [
    "print(X2_val.shape)"
   ]
  },
  {
   "cell_type": "code",
   "execution_count": 37,
   "metadata": {},
   "outputs": [
    {
     "name": "stdout",
     "output_type": "stream",
     "text": [
      "[1 1 0 ... 1 0 1]\n"
     ]
    }
   ],
   "source": [
    "print(y_val)"
   ]
  },
  {
   "cell_type": "code",
   "execution_count": 38,
   "metadata": {},
   "outputs": [
    {
     "name": "stdout",
     "output_type": "stream",
     "text": [
      "(60000,)\n"
     ]
    }
   ],
   "source": [
    "print(y_val.shape)"
   ]
  },
  {
   "cell_type": "code",
   "execution_count": 26,
   "metadata": {},
   "outputs": [
    {
     "name": "stdout",
     "output_type": "stream",
     "text": [
      "(60000, 256)\n"
     ]
    }
   ],
   "source": [
    "print(F_val.shape\n",
    "     )"
   ]
  },
  {
   "cell_type": "code",
   "execution_count": null,
   "metadata": {},
   "outputs": [],
   "source": []
  },
  {
   "cell_type": "code",
   "execution_count": 39,
   "metadata": {},
   "outputs": [],
   "source": [
    "import xgboost as xgb"
   ]
  },
  {
   "cell_type": "code",
   "execution_count": 40,
   "metadata": {},
   "outputs": [],
   "source": [
    "dTrain = xgb.DMatrix(F_train, label=y_train)\n",
    "dVal = xgb.DMatrix(F_val, label=y_val)"
   ]
  },
  {
   "cell_type": "code",
   "execution_count": 43,
   "metadata": {},
   "outputs": [
    {
     "name": "stdout",
     "output_type": "stream",
     "text": [
      "<xgboost.core.DMatrix object at 0x7fe1c8482048>\n"
     ]
    }
   ],
   "source": [
    "print(dTrain)\n",
    "\n"
   ]
  },
  {
   "cell_type": "code",
   "execution_count": 44,
   "metadata": {},
   "outputs": [
    {
     "name": "stdout",
     "output_type": "stream",
     "text": [
      "[0]\ttrain-logloss:0.643751\tval-logloss:0.657065\n",
      "Multiple eval metrics have been passed: 'val-logloss' will be used for early stopping.\n",
      "\n",
      "Will train until val-logloss hasn't improved in 10 rounds.\n",
      "[10]\ttrain-logloss:0.397973\tval-logloss:0.498792\n",
      "[20]\ttrain-logloss:0.305486\tval-logloss:0.466789\n",
      "[30]\ttrain-logloss:0.256959\tval-logloss:0.464825\n",
      "Stopping. Best iteration:\n",
      "[25]\ttrain-logloss:0.277739\tval-logloss:0.463181\n",
      "\n"
     ]
    }
   ],
   "source": [
    "xgb_params = {\n",
    "    'objective': 'binary:logistic',\n",
    "    'booster': 'gbtree',\n",
    "    'eval_metric': 'logloss',\n",
    "    'eta': 0.1, \n",
    "    'max_depth': 9,\n",
    "    'subsample': 0.9,\n",
    "    'colsample_bytree': 1 / F_train.shape[1]**0.5,\n",
    "    'min_child_weight': 5,\n",
    "    'silent': 1\n",
    "}\n",
    "bst = xgb.train(xgb_params, dTrain, 1000,  [(dTrain,'train'), (dVal,'val')], \n",
    "                verbose_eval=10, early_stopping_rounds=10)"
   ]
  },
  {
   "cell_type": "code",
   "execution_count": 45,
   "metadata": {},
   "outputs": [
    {
     "name": "stdout",
     "output_type": "stream",
     "text": [
      "0         [9786, 4815, 8983, 8558, 1470, 8558, 4033, 909...\n",
      "1         [9786, 4815, 8983, 8584, 6263, 9999, 9999, 999...\n",
      "2         [4345, 1520, 4552, 8983, 8433, 6263, 5984, 471...\n",
      "3         [9814, 547, 5683, 9559, 5361, 4345, 1520, 8356...\n",
      "4         [9800, 6306, 2768, 4531, 9721, 9999, 8684, 782...\n",
      "5         [817, 547, 1554, 8702, 1541, 5885, 591, 1541, ...\n",
      "6                                        [8155, 1465, 9999]\n",
      "7                            [4345, 1520, 1047, 3937, 9999]\n",
      "8                      [9794, 2801, 9968, 9456, 4665, 6263]\n",
      "9          [5917, 1981, 1520, 4061, 5984, 1695, 9999, 9999]\n",
      "10        [5720, 9093, 3543, 8042, 6263, 9999, 9464, 999...\n",
      "11          [4345, 2801, 7339, 591, 3543, 5984, 9976, 1960]\n",
      "12               [9786, 1520, 5475, 6697, 2973, 9093, 5185]\n",
      "13               [9786, 9708, 9972, 3568, 8077, 3323, 5274]\n",
      "14        [9786, 717, 8983, 5158, 9093, 1673, 9972, 8543...\n",
      "15        [9786, 9911, 9270, 6958, 5623, 3651, 2371, 471...\n",
      "16                                 [9786, 2813, 9999, 5623]\n",
      "17        [9814, 2801, 3892, 9690, 9093, 1047, 3741, 985...\n",
      "18        [9814, 717, 8323, 5522, 7236, 9462, 6881, 7225...\n",
      "19        [9800, 4815, 8983, 1132, 2697, 5543, 4669, 453...\n",
      "20                           [9814, 2801, 9999, 5365, 9806]\n",
      "21                     [9786, 1610, 8364, 9093, 1047, 4889]\n",
      "22        [9786, 717, 8983, 7225, 8155, 6168, 775, 6304,...\n",
      "23                [4345, 5945, 4815, 117, 9999, 4531, 4348]\n",
      "24        [9786, 2813, 4840, 5623, 8981, 3255, 9074, 536...\n",
      "25        [9786, 717, 8361, 9082, 6304, 5480, 4840, 9051...\n",
      "26                                  [9786, 4815, 9752, 681]\n",
      "27         [2813, 8331, 6741, 9118, 5945, 4514, 6304, 8466]\n",
      "28         [9786, 4815, 1132, 9734, 9093, 5475, 5863, 6314]\n",
      "29               [4345, 8155, 6945, 3651, 1472, 3535, 5157]\n",
      "                                ...                        \n",
      "199970    [9786, 717, 8983, 9023, 8981, 6306, 8155, 2801...\n",
      "199971    [4531, 1256, 2846, 8283, 3327, 2813, 8983, 125...\n",
      "199972      [9800, 717, 8983, 1132, 8845, 8375, 1470, 9999]\n",
      "199973     [9800, 7834, 3711, 7598, 4129, 8983, 1132, 9999]\n",
      "199974    [4345, 1520, 3114, 8983, 4642, 7750, 6351, 453...\n",
      "199975    [9786, 9777, 8983, 3021, 6263, 2345, 5798, 230...\n",
      "199976    [4345, 2801, 3787, 288, 9093, 6633, 4656, 6687...\n",
      "199977                   [717, 9999, 8566, 6837, 4531, 771]\n",
      "199978    [1520, 9739, 9456, 6293, 165, 591, 6, 6173, 76...\n",
      "199979     [4345, 1520, 5657, 9999, 4531, 9134, 6317, 1521]\n",
      "199980    [9786, 717, 8983, 1132, 9736, 9093, 6945, 3651...\n",
      "199981    [4345, 2224, 3869, 5891, 628, 9093, 5984, 7225...\n",
      "199982    [9814, 4815, 8983, 9451, 8983, 6315, 9999, 223...\n",
      "199983    [9814, 2830, 9576, 6768, 894, 4531, 7236, 765,...\n",
      "199984    [9786, 9460, 8155, 2801, 9794, 4152, 9999, 945...\n",
      "199985                 [1520, 9968, 4141, 9999, 9464, 9999]\n",
      "199986    [8155, 8830, 2983, 824, 9999, 6354, 9999, 7963...\n",
      "199987                              [9786, 4815, 9752, 681]\n",
      "199988    [9786, 4815, 8983, 2682, 1138, 8509, 2643, 591...\n",
      "199989    [9809, 717, 9124, 9920, 82, 9809, 2670, 6168, ...\n",
      "199990    [4345, 5522, 2684, 9318, 6263, 1560, 1346, 717...\n",
      "199991             [9814, 717, 6600, 8323, 8006, 591, 9999]\n",
      "199992    [4345, 2801, 8574, 5984, 6734, 1433, 3145, 143...\n",
      "199993    [4345, 1520, 3516, 6406, 5984, 3890, 7667, 824...\n",
      "199994    [9794, 6600, 7870, 9446, 4815, 9999, 9786, 280...\n",
      "199995    [9814, 9708, 8983, 1035, 6263, 9590, 7659, 832...\n",
      "199996     [9800, 6263, 9011, 9302, 8166, 8155, 9717, 6102]\n",
      "199997                             [8155, 1673, 5984, 6007]\n",
      "199998    [8155, 1465, 8983, 6093, 5429, 86, 6354, 6306,...\n",
      "199999       [9786, 4815, 9972, 7633, 6263, 5390, 81, 5929]\n",
      "Name: question1, Length: 200000, dtype: object\n",
      "200000\n",
      "(200000,)\n",
      "0         [9786, 4815, 8983, 8558, 1470, 8558, 4033, 909...\n",
      "1         [9786, 9911, 4104, 4445, 8983, 4564, 3952, 999...\n",
      "2         [4345, 1520, 4719, 8433, 1047, 4553, 1470, 406...\n",
      "3         [3543, 8983, 7489, 9794, 5587, 99, 100, 5587, ...\n",
      "4                [9800, 3570, 9911, 8756, 4531, 7825, 9721]\n",
      "5         [9256, 1554, 8702, 5885, 591, 9999, 4531, 1554...\n",
      "6         [9786, 4998, 9999, 335, 591, 3424, 3746, 6675,...\n",
      "7                [9786, 8155, 2801, 9093, 1047, 3995, 9999]\n",
      "8                 [9794, 2801, 9968, 9456, 4665, 6263, 591]\n",
      "9          [4345, 2801, 4061, 5917, 9999, 3651, 3715, 4719]\n",
      "10        [9786, 717, 8361, 6263, 8983, 9023, 9999, 1520...\n",
      "11                [4345, 1520, 7983, 510, 5984, 9976, 1960]\n",
      "12         [4345, 1520, 9968, 5475, 6697, 2973, 9093, 5185]\n",
      "13                     [9786, 9708, 9972, 3568, 8077, 3323]\n",
      "14        [9786, 717, 8983, 5158, 9093, 1673, 9972, 8543...\n",
      "15        [4345, 9827, 9270, 6958, 412, 8983, 8633, 6956...\n",
      "16                                 [9786, 2813, 9999, 5627]\n",
      "17                [4345, 2801, 4052, 3471, 428, 9999, 3889]\n",
      "18        [9814, 2801, 6600, 775, 7236, 7225, 9800, 1520...\n",
      "19        [9800, 4815, 8983, 1132, 2697, 5543, 4667, 453...\n",
      "20                 [9814, 717, 9999, 591, 9999, 6468, 9806]\n",
      "21        [9786, 1520, 2801, 9093, 907, 1095, 4889, 6263...\n",
      "22                      [9800, 7224, 8155, 775, 6304, 7236]\n",
      "23        [9796, 1520, 3543, 2159, 1694, 3651, 1615, 909...\n",
      "24         [4345, 5522, 9076, 2449, 2801, 1844, 4094, 9999]\n",
      "25        [9786, 717, 8361, 9082, 6304, 5480, 4840, 9051...\n",
      "26                      [9786, 4815, 8983, 9752, 681, 3707]\n",
      "27               [4345, 2801, 8466, 2144, 9093, 8983, 8331]\n",
      "28        [9786, 4815, 1132, 9734, 9093, 775, 3651, 5863...\n",
      "29        [4345, 6306, 8155, 5064, 8981, 4152, 8109, 200...\n",
      "                                ...                        \n",
      "199970    [9786, 4815, 8983, 5901, 4515, 9022, 9968, 969...\n",
      "199971    [4531, 2846, 8283, 3327, 8983, 6517, 4815, 545...\n",
      "199972                  [9800, 717, 9972, 3452, 9999, 8375]\n",
      "199973     [9796, 4815, 8983, 1132, 9999, 4531, 7834, 3711]\n",
      "199974    [9786, 717, 8361, 9736, 9093, 7516, 8983, 9999...\n",
      "199975    [9786, 9777, 8983, 3021, 6263, 2345, 5798, 230...\n",
      "199976    [4345, 2801, 5365, 824, 8364, 4656, 9794, 4840...\n",
      "199977    [4815, 9999, 5200, 9999, 9999, 8566, 6837, 453...\n",
      "199978    [1520, 9968, 8917, 5620, 4445, 9739, 1520, 945...\n",
      "199979                 [4345, 1520, 5657, 9999, 4531, 1521]\n",
      "199980    [1520, 3731, 9024, 255, 2268, 8983, 3272, 4414...\n",
      "199981      [4345, 1520, 3869, 5891, 628, 6304, 5984, 7224]\n",
      "199982    [9786, 2231, 4141, 9390, 4164, 2249, 1457, 999...\n",
      "199983    [9814, 2801, 8361, 5295, 9093, 3376, 7040, 626...\n",
      "199984    [5984, 1394, 5381, 4255, 595, 6675, 5140, 6119...\n",
      "199985           [4345, 1520, 3869, 8522, 4531, 9999, 4767]\n",
      "199986      [9786, 4815, 1136, 2983, 824, 9999, 6354, 9999]\n",
      "199987                   [9786, 4815, 9752, 591, 9752, 681]\n",
      "199988    [9786, 4815, 8983, 2682, 1138, 9508, 591, 8509...\n",
      "199989                   [9809, 4815, 4531, 9124, 9920, 82]\n",
      "199990    [4345, 2801, 3579, 1560, 9834, 8981, 4815, 626...\n",
      "199991                        [9814, 717, 4368, 8006, 1096]\n",
      "199992    [4345, 2801, 8574, 5984, 8118, 4386, 5813, 717...\n",
      "199993    [9786, 8983, 1132, 9734, 9093, 3869, 5984, 389...\n",
      "199994                                   [4815, 9446, 9999]\n",
      "199995    [9786, 4815, 8983, 8190, 6263, 8983, 1035, 626...\n",
      "199996      [9786, 717, 8361, 9047, 8166, 8155, 9717, 6102]\n",
      "199997                 [8155, 5207, 1673, 5984, 3568, 6007]\n",
      "199998    [8155, 1465, 8983, 6093, 5429, 7003, 86, 6354,...\n",
      "199999    [9786, 4815, 9972, 7633, 6263, 5390, 1197, 81,...\n",
      "Name: question2, Length: 200000, dtype: object\n",
      "200000\n",
      "(200000,)\n"
     ]
    }
   ],
   "source": [
    "X1_test = create_padded_seqs(df_all[df_all['id'].notnull()]['question1'])\n",
    "X2_test = create_padded_seqs(df_all[df_all['id'].notnull()]['question2'])\n"
   ]
  },
  {
   "cell_type": "code",
   "execution_count": 47,
   "metadata": {},
   "outputs": [],
   "source": [
    "F_test = features_model.predict([X1_test, X2_test], batch_size=128)"
   ]
  },
  {
   "cell_type": "code",
   "execution_count": 48,
   "metadata": {},
   "outputs": [
    {
     "name": "stdout",
     "output_type": "stream",
     "text": [
      "(200000, 256)\n"
     ]
    }
   ],
   "source": [
    "print(F_test.shape\n",
    "     )"
   ]
  },
  {
   "cell_type": "code",
   "execution_count": 49,
   "metadata": {},
   "outputs": [],
   "source": [
    "\n",
    "\n",
    "dTest = xgb.DMatrix(F_test)\n",
    "\n"
   ]
  },
  {
   "cell_type": "code",
   "execution_count": 50,
   "metadata": {},
   "outputs": [],
   "source": [
    "\n",
    "\n",
    "df_sub = pd.DataFrame({\n",
    "        'test_id': df_all[df_all['id'].notnull()]['id'].values,\n",
    "        'is_duplicate': bst.predict(dTest, ntree_limit=bst.best_ntree_limit)\n",
    "    }).set_index('test_id')\n",
    "\n"
   ]
  },
  {
   "cell_type": "code",
   "execution_count": 51,
   "metadata": {},
   "outputs": [
    {
     "name": "stdout",
     "output_type": "stream",
     "text": [
      "(200000, 1)\n"
     ]
    }
   ],
   "source": [
    "print(df_sub.shape)"
   ]
  },
  {
   "cell_type": "code",
   "execution_count": 52,
   "metadata": {},
   "outputs": [
    {
     "name": "stdout",
     "output_type": "stream",
     "text": [
      "         is_duplicate\n",
      "test_id              \n",
      "0            0.197262\n",
      "1            0.139196\n",
      "2            0.204831\n",
      "3            0.053014\n",
      "4            0.069156\n",
      "5            0.326160\n",
      "6            0.039670\n",
      "7            0.671783\n",
      "8            0.335513\n",
      "9            0.092407\n",
      "10           0.121424\n",
      "11           0.390772\n",
      "12           0.669317\n",
      "13           0.821449\n",
      "14           0.115981\n",
      "15           0.928522\n",
      "16           0.609026\n",
      "17           0.084323\n",
      "18           0.941369\n",
      "19           0.372601\n",
      "20           0.655989\n",
      "21           0.444477\n",
      "22           0.621413\n",
      "23           0.047902\n",
      "24           0.746103\n",
      "25           0.059455\n",
      "26           0.128411\n",
      "27           0.084424\n",
      "28           0.901338\n",
      "29           0.900498\n",
      "...               ...\n",
      "199970       0.629979\n",
      "199971       0.940245\n",
      "199972       0.092758\n",
      "199973       0.101131\n",
      "199974       0.049798\n",
      "199975       0.349497\n",
      "199976       0.515820\n",
      "199977       0.117980\n",
      "199978       0.862657\n",
      "199979       0.483382\n",
      "199980       0.416989\n",
      "199981       0.724529\n",
      "199982       0.057102\n",
      "199983       0.054036\n",
      "199984       0.208056\n",
      "199985       0.143908\n",
      "199986       0.394374\n",
      "199987       0.656029\n",
      "199988       0.671868\n",
      "199989       0.054244\n",
      "199990       0.077970\n",
      "199991       0.482855\n",
      "199992       0.951491\n",
      "199993       0.467721\n",
      "199994       0.191556\n",
      "199995       0.937955\n",
      "199996       0.086700\n",
      "199997       0.277048\n",
      "199998       0.900422\n",
      "199999       0.629996\n",
      "\n",
      "[200000 rows x 1 columns]\n"
     ]
    }
   ],
   "source": [
    "print(df_sub)"
   ]
  },
  {
   "cell_type": "code",
   "execution_count": 53,
   "metadata": {},
   "outputs": [
    {
     "data": {
      "text/html": [
       "<div>\n",
       "<style scoped>\n",
       "    .dataframe tbody tr th:only-of-type {\n",
       "        vertical-align: middle;\n",
       "    }\n",
       "\n",
       "    .dataframe tbody tr th {\n",
       "        vertical-align: top;\n",
       "    }\n",
       "\n",
       "    .dataframe thead th {\n",
       "        text-align: right;\n",
       "    }\n",
       "</style>\n",
       "<table border=\"1\" class=\"dataframe\">\n",
       "  <thead>\n",
       "    <tr style=\"text-align: right;\">\n",
       "      <th></th>\n",
       "      <th>is_duplicate</th>\n",
       "    </tr>\n",
       "    <tr>\n",
       "      <th>test_id</th>\n",
       "      <th></th>\n",
       "    </tr>\n",
       "  </thead>\n",
       "  <tbody>\n",
       "    <tr>\n",
       "      <th>0</th>\n",
       "      <td>0.197262</td>\n",
       "    </tr>\n",
       "    <tr>\n",
       "      <th>1</th>\n",
       "      <td>0.139196</td>\n",
       "    </tr>\n",
       "    <tr>\n",
       "      <th>2</th>\n",
       "      <td>0.204831</td>\n",
       "    </tr>\n",
       "    <tr>\n",
       "      <th>3</th>\n",
       "      <td>0.053014</td>\n",
       "    </tr>\n",
       "    <tr>\n",
       "      <th>4</th>\n",
       "      <td>0.069156</td>\n",
       "    </tr>\n",
       "  </tbody>\n",
       "</table>\n",
       "</div>"
      ],
      "text/plain": [
       "         is_duplicate\n",
       "test_id              \n",
       "0            0.197262\n",
       "1            0.139196\n",
       "2            0.204831\n",
       "3            0.053014\n",
       "4            0.069156"
      ]
     },
     "execution_count": 53,
     "metadata": {},
     "output_type": "execute_result"
    }
   ],
   "source": [
    "df_sub.head()\n"
   ]
  },
  {
   "cell_type": "code",
   "execution_count": 54,
   "metadata": {},
   "outputs": [
    {
     "name": "stdout",
     "output_type": "stream",
     "text": [
      "         is_duplicate\n",
      "test_id              \n",
      "0                 0.0\n",
      "1                 0.0\n",
      "2                 0.0\n",
      "3                 0.0\n",
      "4                 0.0\n",
      "5                 0.0\n",
      "6                 0.0\n",
      "7                 1.0\n",
      "8                 0.0\n",
      "9                 0.0\n",
      "10                0.0\n",
      "11                0.0\n",
      "12                1.0\n",
      "13                1.0\n",
      "14                0.0\n",
      "15                1.0\n",
      "16                1.0\n",
      "17                0.0\n",
      "18                1.0\n",
      "19                0.0\n",
      "20                1.0\n",
      "21                0.0\n",
      "22                1.0\n",
      "23                0.0\n",
      "24                1.0\n",
      "25                0.0\n",
      "26                0.0\n",
      "27                0.0\n",
      "28                1.0\n",
      "29                1.0\n",
      "...               ...\n",
      "199970            1.0\n",
      "199971            1.0\n",
      "199972            0.0\n",
      "199973            0.0\n",
      "199974            0.0\n",
      "199975            0.0\n",
      "199976            1.0\n",
      "199977            0.0\n",
      "199978            1.0\n",
      "199979            0.0\n",
      "199980            0.0\n",
      "199981            1.0\n",
      "199982            0.0\n",
      "199983            0.0\n",
      "199984            0.0\n",
      "199985            0.0\n",
      "199986            0.0\n",
      "199987            1.0\n",
      "199988            1.0\n",
      "199989            0.0\n",
      "199990            0.0\n",
      "199991            0.0\n",
      "199992            1.0\n",
      "199993            0.0\n",
      "199994            0.0\n",
      "199995            1.0\n",
      "199996            0.0\n",
      "199997            0.0\n",
      "199998            1.0\n",
      "199999            1.0\n",
      "\n",
      "[200000 rows x 1 columns]\n"
     ]
    }
   ],
   "source": [
    "y_svr_predicted=np.around(df_sub)\n",
    "len(y_svr_predicted)\n",
    "print(y_svr_predicted)"
   ]
  },
  {
   "cell_type": "code",
   "execution_count": 55,
   "metadata": {},
   "outputs": [
    {
     "name": "stdout",
     "output_type": "stream",
     "text": [
      "0         0\n",
      "1         0\n",
      "2         0\n",
      "3         0\n",
      "4         0\n",
      "5         1\n",
      "6         0\n",
      "7         1\n",
      "8         0\n",
      "9         0\n",
      "10        0\n",
      "11        1\n",
      "12        1\n",
      "13        1\n",
      "14        0\n",
      "15        1\n",
      "16        1\n",
      "17        0\n",
      "18        1\n",
      "19        0\n",
      "20        1\n",
      "21        0\n",
      "22        0\n",
      "23        0\n",
      "24        0\n",
      "25        0\n",
      "26        0\n",
      "27        0\n",
      "28        0\n",
      "29        1\n",
      "         ..\n",
      "199970    1\n",
      "199971    1\n",
      "199972    0\n",
      "199973    1\n",
      "199974    0\n",
      "199975    0\n",
      "199976    1\n",
      "199977    0\n",
      "199978    1\n",
      "199979    0\n",
      "199980    0\n",
      "199981    1\n",
      "199982    0\n",
      "199983    0\n",
      "199984    0\n",
      "199985    0\n",
      "199986    1\n",
      "199987    0\n",
      "199988    1\n",
      "199989    0\n",
      "199990    0\n",
      "199991    1\n",
      "199992    1\n",
      "199993    1\n",
      "199994    1\n",
      "199995    1\n",
      "199996    0\n",
      "199997    0\n",
      "199998    1\n",
      "199999    0\n",
      "Name: is_duplicate, Length: 200000, dtype: int64\n"
     ]
    }
   ],
   "source": [
    "\n",
    "y_test=df_all['is_duplicate']\n",
    "print(y_test)"
   ]
  },
  {
   "cell_type": "code",
   "execution_count": 56,
   "metadata": {},
   "outputs": [
    {
     "name": "stdout",
     "output_type": "stream",
     "text": [
      "0         0\n",
      "1         0\n",
      "2         0\n",
      "3         0\n",
      "4         0\n",
      "5         1\n",
      "6         0\n",
      "7         1\n",
      "8         0\n",
      "9         0\n",
      "10        0\n",
      "11        1\n",
      "12        1\n",
      "13        1\n",
      "14        0\n",
      "15        1\n",
      "16        1\n",
      "17        0\n",
      "18        1\n",
      "19        0\n",
      "20        1\n",
      "21        0\n",
      "22        0\n",
      "23        0\n",
      "24        0\n",
      "25        0\n",
      "26        0\n",
      "27        0\n",
      "28        0\n",
      "29        1\n",
      "         ..\n",
      "199970    1\n",
      "199971    1\n",
      "199972    0\n",
      "199973    1\n",
      "199974    0\n",
      "199975    0\n",
      "199976    1\n",
      "199977    0\n",
      "199978    1\n",
      "199979    0\n",
      "199980    0\n",
      "199981    1\n",
      "199982    0\n",
      "199983    0\n",
      "199984    0\n",
      "199985    0\n",
      "199986    1\n",
      "199987    0\n",
      "199988    1\n",
      "199989    0\n",
      "199990    0\n",
      "199991    1\n",
      "199992    1\n",
      "199993    1\n",
      "199994    1\n",
      "199995    1\n",
      "199996    0\n",
      "199997    0\n",
      "199998    1\n",
      "199999    0\n",
      "Name: is_duplicate, Length: 200000, dtype: int64\n"
     ]
    }
   ],
   "source": [
    "print(y_test)\n",
    "y=np.array(y_test)\n"
   ]
  },
  {
   "cell_type": "code",
   "execution_count": 57,
   "metadata": {},
   "outputs": [
    {
     "name": "stdout",
     "output_type": "stream",
     "text": [
      "         is_duplicate\n",
      "test_id              \n",
      "0                 0.0\n",
      "1                 0.0\n",
      "2                 0.0\n",
      "3                 0.0\n",
      "4                 0.0\n",
      "5                 0.0\n",
      "6                 0.0\n",
      "7                 1.0\n",
      "8                 0.0\n",
      "9                 0.0\n",
      "10                0.0\n",
      "11                0.0\n",
      "12                1.0\n",
      "13                1.0\n",
      "14                0.0\n",
      "15                1.0\n",
      "16                1.0\n",
      "17                0.0\n",
      "18                1.0\n",
      "19                0.0\n",
      "20                1.0\n",
      "21                0.0\n",
      "22                1.0\n",
      "23                0.0\n",
      "24                1.0\n",
      "25                0.0\n",
      "26                0.0\n",
      "27                0.0\n",
      "28                1.0\n",
      "29                1.0\n",
      "...               ...\n",
      "199970            1.0\n",
      "199971            1.0\n",
      "199972            0.0\n",
      "199973            0.0\n",
      "199974            0.0\n",
      "199975            0.0\n",
      "199976            1.0\n",
      "199977            0.0\n",
      "199978            1.0\n",
      "199979            0.0\n",
      "199980            0.0\n",
      "199981            1.0\n",
      "199982            0.0\n",
      "199983            0.0\n",
      "199984            0.0\n",
      "199985            0.0\n",
      "199986            0.0\n",
      "199987            1.0\n",
      "199988            1.0\n",
      "199989            0.0\n",
      "199990            0.0\n",
      "199991            0.0\n",
      "199992            1.0\n",
      "199993            0.0\n",
      "199994            0.0\n",
      "199995            1.0\n",
      "199996            0.0\n",
      "199997            0.0\n",
      "199998            1.0\n",
      "199999            1.0\n",
      "\n",
      "[200000 rows x 1 columns]\n"
     ]
    }
   ],
   "source": [
    "print(y_svr_predicted)"
   ]
  },
  {
   "cell_type": "code",
   "execution_count": 58,
   "metadata": {},
   "outputs": [
    {
     "name": "stdout",
     "output_type": "stream",
     "text": [
      "[0 0 0 ... 0 1 0]\n"
     ]
    }
   ],
   "source": [
    "print(y)"
   ]
  },
  {
   "cell_type": "code",
   "execution_count": 59,
   "metadata": {},
   "outputs": [
    {
     "data": {
      "text/html": [
       "<div>\n",
       "<style scoped>\n",
       "    .dataframe tbody tr th:only-of-type {\n",
       "        vertical-align: middle;\n",
       "    }\n",
       "\n",
       "    .dataframe tbody tr th {\n",
       "        vertical-align: top;\n",
       "    }\n",
       "\n",
       "    .dataframe thead th {\n",
       "        text-align: right;\n",
       "    }\n",
       "</style>\n",
       "<table border=\"1\" class=\"dataframe\">\n",
       "  <thead>\n",
       "    <tr style=\"text-align: right;\">\n",
       "      <th></th>\n",
       "      <th>is_duplicate</th>\n",
       "    </tr>\n",
       "    <tr>\n",
       "      <th>test_id</th>\n",
       "      <th></th>\n",
       "    </tr>\n",
       "  </thead>\n",
       "  <tbody>\n",
       "    <tr>\n",
       "      <th>0</th>\n",
       "      <td>0.0</td>\n",
       "    </tr>\n",
       "    <tr>\n",
       "      <th>1</th>\n",
       "      <td>0.0</td>\n",
       "    </tr>\n",
       "    <tr>\n",
       "      <th>2</th>\n",
       "      <td>0.0</td>\n",
       "    </tr>\n",
       "    <tr>\n",
       "      <th>3</th>\n",
       "      <td>0.0</td>\n",
       "    </tr>\n",
       "    <tr>\n",
       "      <th>4</th>\n",
       "      <td>0.0</td>\n",
       "    </tr>\n",
       "    <tr>\n",
       "      <th>5</th>\n",
       "      <td>0.0</td>\n",
       "    </tr>\n",
       "    <tr>\n",
       "      <th>6</th>\n",
       "      <td>0.0</td>\n",
       "    </tr>\n",
       "    <tr>\n",
       "      <th>7</th>\n",
       "      <td>1.0</td>\n",
       "    </tr>\n",
       "    <tr>\n",
       "      <th>8</th>\n",
       "      <td>0.0</td>\n",
       "    </tr>\n",
       "    <tr>\n",
       "      <th>9</th>\n",
       "      <td>0.0</td>\n",
       "    </tr>\n",
       "    <tr>\n",
       "      <th>10</th>\n",
       "      <td>0.0</td>\n",
       "    </tr>\n",
       "    <tr>\n",
       "      <th>11</th>\n",
       "      <td>0.0</td>\n",
       "    </tr>\n",
       "    <tr>\n",
       "      <th>12</th>\n",
       "      <td>1.0</td>\n",
       "    </tr>\n",
       "    <tr>\n",
       "      <th>13</th>\n",
       "      <td>1.0</td>\n",
       "    </tr>\n",
       "    <tr>\n",
       "      <th>14</th>\n",
       "      <td>0.0</td>\n",
       "    </tr>\n",
       "    <tr>\n",
       "      <th>15</th>\n",
       "      <td>1.0</td>\n",
       "    </tr>\n",
       "    <tr>\n",
       "      <th>16</th>\n",
       "      <td>1.0</td>\n",
       "    </tr>\n",
       "    <tr>\n",
       "      <th>17</th>\n",
       "      <td>0.0</td>\n",
       "    </tr>\n",
       "    <tr>\n",
       "      <th>18</th>\n",
       "      <td>1.0</td>\n",
       "    </tr>\n",
       "    <tr>\n",
       "      <th>19</th>\n",
       "      <td>0.0</td>\n",
       "    </tr>\n",
       "    <tr>\n",
       "      <th>20</th>\n",
       "      <td>1.0</td>\n",
       "    </tr>\n",
       "    <tr>\n",
       "      <th>21</th>\n",
       "      <td>0.0</td>\n",
       "    </tr>\n",
       "    <tr>\n",
       "      <th>22</th>\n",
       "      <td>1.0</td>\n",
       "    </tr>\n",
       "    <tr>\n",
       "      <th>23</th>\n",
       "      <td>0.0</td>\n",
       "    </tr>\n",
       "    <tr>\n",
       "      <th>24</th>\n",
       "      <td>1.0</td>\n",
       "    </tr>\n",
       "    <tr>\n",
       "      <th>25</th>\n",
       "      <td>0.0</td>\n",
       "    </tr>\n",
       "    <tr>\n",
       "      <th>26</th>\n",
       "      <td>0.0</td>\n",
       "    </tr>\n",
       "    <tr>\n",
       "      <th>27</th>\n",
       "      <td>0.0</td>\n",
       "    </tr>\n",
       "    <tr>\n",
       "      <th>28</th>\n",
       "      <td>1.0</td>\n",
       "    </tr>\n",
       "    <tr>\n",
       "      <th>29</th>\n",
       "      <td>1.0</td>\n",
       "    </tr>\n",
       "    <tr>\n",
       "      <th>...</th>\n",
       "      <td>...</td>\n",
       "    </tr>\n",
       "    <tr>\n",
       "      <th>199970</th>\n",
       "      <td>1.0</td>\n",
       "    </tr>\n",
       "    <tr>\n",
       "      <th>199971</th>\n",
       "      <td>1.0</td>\n",
       "    </tr>\n",
       "    <tr>\n",
       "      <th>199972</th>\n",
       "      <td>0.0</td>\n",
       "    </tr>\n",
       "    <tr>\n",
       "      <th>199973</th>\n",
       "      <td>0.0</td>\n",
       "    </tr>\n",
       "    <tr>\n",
       "      <th>199974</th>\n",
       "      <td>0.0</td>\n",
       "    </tr>\n",
       "    <tr>\n",
       "      <th>199975</th>\n",
       "      <td>0.0</td>\n",
       "    </tr>\n",
       "    <tr>\n",
       "      <th>199976</th>\n",
       "      <td>1.0</td>\n",
       "    </tr>\n",
       "    <tr>\n",
       "      <th>199977</th>\n",
       "      <td>0.0</td>\n",
       "    </tr>\n",
       "    <tr>\n",
       "      <th>199978</th>\n",
       "      <td>1.0</td>\n",
       "    </tr>\n",
       "    <tr>\n",
       "      <th>199979</th>\n",
       "      <td>0.0</td>\n",
       "    </tr>\n",
       "    <tr>\n",
       "      <th>199980</th>\n",
       "      <td>0.0</td>\n",
       "    </tr>\n",
       "    <tr>\n",
       "      <th>199981</th>\n",
       "      <td>1.0</td>\n",
       "    </tr>\n",
       "    <tr>\n",
       "      <th>199982</th>\n",
       "      <td>0.0</td>\n",
       "    </tr>\n",
       "    <tr>\n",
       "      <th>199983</th>\n",
       "      <td>0.0</td>\n",
       "    </tr>\n",
       "    <tr>\n",
       "      <th>199984</th>\n",
       "      <td>0.0</td>\n",
       "    </tr>\n",
       "    <tr>\n",
       "      <th>199985</th>\n",
       "      <td>0.0</td>\n",
       "    </tr>\n",
       "    <tr>\n",
       "      <th>199986</th>\n",
       "      <td>0.0</td>\n",
       "    </tr>\n",
       "    <tr>\n",
       "      <th>199987</th>\n",
       "      <td>1.0</td>\n",
       "    </tr>\n",
       "    <tr>\n",
       "      <th>199988</th>\n",
       "      <td>1.0</td>\n",
       "    </tr>\n",
       "    <tr>\n",
       "      <th>199989</th>\n",
       "      <td>0.0</td>\n",
       "    </tr>\n",
       "    <tr>\n",
       "      <th>199990</th>\n",
       "      <td>0.0</td>\n",
       "    </tr>\n",
       "    <tr>\n",
       "      <th>199991</th>\n",
       "      <td>0.0</td>\n",
       "    </tr>\n",
       "    <tr>\n",
       "      <th>199992</th>\n",
       "      <td>1.0</td>\n",
       "    </tr>\n",
       "    <tr>\n",
       "      <th>199993</th>\n",
       "      <td>0.0</td>\n",
       "    </tr>\n",
       "    <tr>\n",
       "      <th>199994</th>\n",
       "      <td>0.0</td>\n",
       "    </tr>\n",
       "    <tr>\n",
       "      <th>199995</th>\n",
       "      <td>1.0</td>\n",
       "    </tr>\n",
       "    <tr>\n",
       "      <th>199996</th>\n",
       "      <td>0.0</td>\n",
       "    </tr>\n",
       "    <tr>\n",
       "      <th>199997</th>\n",
       "      <td>0.0</td>\n",
       "    </tr>\n",
       "    <tr>\n",
       "      <th>199998</th>\n",
       "      <td>1.0</td>\n",
       "    </tr>\n",
       "    <tr>\n",
       "      <th>199999</th>\n",
       "      <td>1.0</td>\n",
       "    </tr>\n",
       "  </tbody>\n",
       "</table>\n",
       "<p>200000 rows × 1 columns</p>\n",
       "</div>"
      ],
      "text/plain": [
       "         is_duplicate\n",
       "test_id              \n",
       "0                 0.0\n",
       "1                 0.0\n",
       "2                 0.0\n",
       "3                 0.0\n",
       "4                 0.0\n",
       "5                 0.0\n",
       "6                 0.0\n",
       "7                 1.0\n",
       "8                 0.0\n",
       "9                 0.0\n",
       "10                0.0\n",
       "11                0.0\n",
       "12                1.0\n",
       "13                1.0\n",
       "14                0.0\n",
       "15                1.0\n",
       "16                1.0\n",
       "17                0.0\n",
       "18                1.0\n",
       "19                0.0\n",
       "20                1.0\n",
       "21                0.0\n",
       "22                1.0\n",
       "23                0.0\n",
       "24                1.0\n",
       "25                0.0\n",
       "26                0.0\n",
       "27                0.0\n",
       "28                1.0\n",
       "29                1.0\n",
       "...               ...\n",
       "199970            1.0\n",
       "199971            1.0\n",
       "199972            0.0\n",
       "199973            0.0\n",
       "199974            0.0\n",
       "199975            0.0\n",
       "199976            1.0\n",
       "199977            0.0\n",
       "199978            1.0\n",
       "199979            0.0\n",
       "199980            0.0\n",
       "199981            1.0\n",
       "199982            0.0\n",
       "199983            0.0\n",
       "199984            0.0\n",
       "199985            0.0\n",
       "199986            0.0\n",
       "199987            1.0\n",
       "199988            1.0\n",
       "199989            0.0\n",
       "199990            0.0\n",
       "199991            0.0\n",
       "199992            1.0\n",
       "199993            0.0\n",
       "199994            0.0\n",
       "199995            1.0\n",
       "199996            0.0\n",
       "199997            0.0\n",
       "199998            1.0\n",
       "199999            1.0\n",
       "\n",
       "[200000 rows x 1 columns]"
      ]
     },
     "execution_count": 59,
     "metadata": {},
     "output_type": "execute_result"
    }
   ],
   "source": [
    "y_svr_predicted"
   ]
  },
  {
   "cell_type": "code",
   "execution_count": 60,
   "metadata": {},
   "outputs": [
    {
     "name": "stdout",
     "output_type": "stream",
     "text": [
      "[0. 0. 0. ... 0. 1. 1.]\n"
     ]
    }
   ],
   "source": [
    "f=np.array(y_svr_predicted[\"is_duplicate\"])\n",
    "print(f)\n"
   ]
  },
  {
   "cell_type": "code",
   "execution_count": 61,
   "metadata": {},
   "outputs": [
    {
     "name": "stdout",
     "output_type": "stream",
     "text": [
      "174962\n",
      "87.481\n"
     ]
    }
   ],
   "source": [
    "t=(y == f).sum()\n",
    "print((y == f).sum())\n",
    "print(t*100/len(y))"
   ]
  },
  {
   "cell_type": "code",
   "execution_count": null,
   "metadata": {},
   "outputs": [],
   "source": []
  },
  {
   "cell_type": "code",
   "execution_count": null,
   "metadata": {},
   "outputs": [],
   "source": []
  }
 ],
 "metadata": {
  "kernelspec": {
   "display_name": "Python 3",
   "language": "python",
   "name": "python3"
  },
  "language_info": {
   "codemirror_mode": {
    "name": "ipython",
    "version": 3
   },
   "file_extension": ".py",
   "mimetype": "text/x-python",
   "name": "python",
   "nbconvert_exporter": "python",
   "pygments_lexer": "ipython3",
   "version": "3.5.2"
  }
 },
 "nbformat": 4,
 "nbformat_minor": 2
}
